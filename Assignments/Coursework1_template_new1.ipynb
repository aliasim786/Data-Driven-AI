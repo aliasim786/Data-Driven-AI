{
 "cells": [
  {
   "cell_type": "markdown",
   "metadata": {
    "id": "T5PuoTGxM25j"
   },
   "source": [
    "# Hotel Booking Cancallation Prediction"
   ]
  },
  {
   "cell_type": "markdown",
   "metadata": {
    "id": "0Q8SI3lyNoHH"
   },
   "source": [
    "**Load Data**\n",
    "\n",
    "Load Hotel_Booking/hotel_bookings.csv file provided on Brightspace."
   ]
  },
  {
   "cell_type": "code",
   "execution_count": 2,
   "metadata": {
    "id": "fdv3RPXnOfvf"
   },
   "outputs": [
    {
     "name": "stderr",
     "output_type": "stream",
     "text": [
      "Matplotlib is building the font cache; this may take a moment.\n"
     ]
    }
   ],
   "source": [
    "import pandas as pd\n",
    "import seaborn as sb\n",
    "import matplotlib.pyplot as plt\n",
    "from sklearn.tree import DecisionTreeClassifier\n",
    "from sklearn.model_selection import train_test_split\n",
    "from sklearn.metrics import confusion_matrix, classification_report\n",
    "from sklearn import metrics\n",
    "from sklearn import preprocessing\n",
    "from sklearn.preprocessing import OneHotEncoder\n",
    "from sklearn.preprocessing import StandardScaler"
   ]
  },
  {
   "cell_type": "markdown",
   "metadata": {},
   "source": [
    "# importing the dataframe:"
   ]
  },
  {
   "cell_type": "code",
   "execution_count": 3,
   "metadata": {},
   "outputs": [
    {
     "data": {
      "text/html": [
       "<div>\n",
       "<style scoped>\n",
       "    .dataframe tbody tr th:only-of-type {\n",
       "        vertical-align: middle;\n",
       "    }\n",
       "\n",
       "    .dataframe tbody tr th {\n",
       "        vertical-align: top;\n",
       "    }\n",
       "\n",
       "    .dataframe thead th {\n",
       "        text-align: right;\n",
       "    }\n",
       "</style>\n",
       "<table border=\"1\" class=\"dataframe\">\n",
       "  <thead>\n",
       "    <tr style=\"text-align: right;\">\n",
       "      <th></th>\n",
       "      <th>hotel</th>\n",
       "      <th>is_canceled</th>\n",
       "      <th>lead_time</th>\n",
       "      <th>arrival_date_year</th>\n",
       "      <th>arrival_date_month</th>\n",
       "      <th>arrival_date_week_number</th>\n",
       "      <th>arrival_date_day_of_month</th>\n",
       "      <th>stays_in_weekend_nights</th>\n",
       "      <th>stays_in_week_nights</th>\n",
       "      <th>adults</th>\n",
       "      <th>...</th>\n",
       "      <th>deposit_type</th>\n",
       "      <th>agent</th>\n",
       "      <th>company</th>\n",
       "      <th>days_in_waiting_list</th>\n",
       "      <th>customer_type</th>\n",
       "      <th>adr</th>\n",
       "      <th>required_car_parking_spaces</th>\n",
       "      <th>total_of_special_requests</th>\n",
       "      <th>reservation_status</th>\n",
       "      <th>reservation_status_date</th>\n",
       "    </tr>\n",
       "  </thead>\n",
       "  <tbody>\n",
       "    <tr>\n",
       "      <th>0</th>\n",
       "      <td>Resort Hotel</td>\n",
       "      <td>0</td>\n",
       "      <td>342</td>\n",
       "      <td>2015</td>\n",
       "      <td>July</td>\n",
       "      <td>27</td>\n",
       "      <td>1</td>\n",
       "      <td>0</td>\n",
       "      <td>0</td>\n",
       "      <td>2</td>\n",
       "      <td>...</td>\n",
       "      <td>No Deposit</td>\n",
       "      <td>NaN</td>\n",
       "      <td>NaN</td>\n",
       "      <td>0</td>\n",
       "      <td>Transient</td>\n",
       "      <td>0.0</td>\n",
       "      <td>0</td>\n",
       "      <td>0</td>\n",
       "      <td>Check-Out</td>\n",
       "      <td>2015-07-01</td>\n",
       "    </tr>\n",
       "    <tr>\n",
       "      <th>1</th>\n",
       "      <td>Resort Hotel</td>\n",
       "      <td>0</td>\n",
       "      <td>737</td>\n",
       "      <td>2015</td>\n",
       "      <td>July</td>\n",
       "      <td>27</td>\n",
       "      <td>1</td>\n",
       "      <td>0</td>\n",
       "      <td>0</td>\n",
       "      <td>2</td>\n",
       "      <td>...</td>\n",
       "      <td>No Deposit</td>\n",
       "      <td>NaN</td>\n",
       "      <td>NaN</td>\n",
       "      <td>0</td>\n",
       "      <td>Transient</td>\n",
       "      <td>0.0</td>\n",
       "      <td>0</td>\n",
       "      <td>0</td>\n",
       "      <td>Check-Out</td>\n",
       "      <td>2015-07-01</td>\n",
       "    </tr>\n",
       "    <tr>\n",
       "      <th>2</th>\n",
       "      <td>Resort Hotel</td>\n",
       "      <td>0</td>\n",
       "      <td>7</td>\n",
       "      <td>2015</td>\n",
       "      <td>July</td>\n",
       "      <td>27</td>\n",
       "      <td>1</td>\n",
       "      <td>0</td>\n",
       "      <td>1</td>\n",
       "      <td>1</td>\n",
       "      <td>...</td>\n",
       "      <td>No Deposit</td>\n",
       "      <td>NaN</td>\n",
       "      <td>NaN</td>\n",
       "      <td>0</td>\n",
       "      <td>Transient</td>\n",
       "      <td>75.0</td>\n",
       "      <td>0</td>\n",
       "      <td>0</td>\n",
       "      <td>Check-Out</td>\n",
       "      <td>2015-07-02</td>\n",
       "    </tr>\n",
       "    <tr>\n",
       "      <th>3</th>\n",
       "      <td>Resort Hotel</td>\n",
       "      <td>0</td>\n",
       "      <td>13</td>\n",
       "      <td>2015</td>\n",
       "      <td>July</td>\n",
       "      <td>27</td>\n",
       "      <td>1</td>\n",
       "      <td>0</td>\n",
       "      <td>1</td>\n",
       "      <td>1</td>\n",
       "      <td>...</td>\n",
       "      <td>No Deposit</td>\n",
       "      <td>304.0</td>\n",
       "      <td>NaN</td>\n",
       "      <td>0</td>\n",
       "      <td>Transient</td>\n",
       "      <td>75.0</td>\n",
       "      <td>0</td>\n",
       "      <td>0</td>\n",
       "      <td>Check-Out</td>\n",
       "      <td>2015-07-02</td>\n",
       "    </tr>\n",
       "    <tr>\n",
       "      <th>4</th>\n",
       "      <td>Resort Hotel</td>\n",
       "      <td>0</td>\n",
       "      <td>14</td>\n",
       "      <td>2015</td>\n",
       "      <td>July</td>\n",
       "      <td>27</td>\n",
       "      <td>1</td>\n",
       "      <td>0</td>\n",
       "      <td>2</td>\n",
       "      <td>2</td>\n",
       "      <td>...</td>\n",
       "      <td>No Deposit</td>\n",
       "      <td>240.0</td>\n",
       "      <td>NaN</td>\n",
       "      <td>0</td>\n",
       "      <td>Transient</td>\n",
       "      <td>98.0</td>\n",
       "      <td>0</td>\n",
       "      <td>1</td>\n",
       "      <td>Check-Out</td>\n",
       "      <td>2015-07-03</td>\n",
       "    </tr>\n",
       "    <tr>\n",
       "      <th>5</th>\n",
       "      <td>Resort Hotel</td>\n",
       "      <td>0</td>\n",
       "      <td>14</td>\n",
       "      <td>2015</td>\n",
       "      <td>July</td>\n",
       "      <td>27</td>\n",
       "      <td>1</td>\n",
       "      <td>0</td>\n",
       "      <td>2</td>\n",
       "      <td>2</td>\n",
       "      <td>...</td>\n",
       "      <td>No Deposit</td>\n",
       "      <td>240.0</td>\n",
       "      <td>NaN</td>\n",
       "      <td>0</td>\n",
       "      <td>Transient</td>\n",
       "      <td>98.0</td>\n",
       "      <td>0</td>\n",
       "      <td>1</td>\n",
       "      <td>Check-Out</td>\n",
       "      <td>2015-07-03</td>\n",
       "    </tr>\n",
       "    <tr>\n",
       "      <th>6</th>\n",
       "      <td>Resort Hotel</td>\n",
       "      <td>0</td>\n",
       "      <td>0</td>\n",
       "      <td>2015</td>\n",
       "      <td>July</td>\n",
       "      <td>27</td>\n",
       "      <td>1</td>\n",
       "      <td>0</td>\n",
       "      <td>2</td>\n",
       "      <td>2</td>\n",
       "      <td>...</td>\n",
       "      <td>No Deposit</td>\n",
       "      <td>NaN</td>\n",
       "      <td>NaN</td>\n",
       "      <td>0</td>\n",
       "      <td>Transient</td>\n",
       "      <td>107.0</td>\n",
       "      <td>0</td>\n",
       "      <td>0</td>\n",
       "      <td>Check-Out</td>\n",
       "      <td>2015-07-03</td>\n",
       "    </tr>\n",
       "    <tr>\n",
       "      <th>7</th>\n",
       "      <td>Resort Hotel</td>\n",
       "      <td>0</td>\n",
       "      <td>9</td>\n",
       "      <td>2015</td>\n",
       "      <td>July</td>\n",
       "      <td>27</td>\n",
       "      <td>1</td>\n",
       "      <td>0</td>\n",
       "      <td>2</td>\n",
       "      <td>2</td>\n",
       "      <td>...</td>\n",
       "      <td>No Deposit</td>\n",
       "      <td>303.0</td>\n",
       "      <td>NaN</td>\n",
       "      <td>0</td>\n",
       "      <td>Transient</td>\n",
       "      <td>103.0</td>\n",
       "      <td>0</td>\n",
       "      <td>1</td>\n",
       "      <td>Check-Out</td>\n",
       "      <td>2015-07-03</td>\n",
       "    </tr>\n",
       "    <tr>\n",
       "      <th>8</th>\n",
       "      <td>Resort Hotel</td>\n",
       "      <td>1</td>\n",
       "      <td>85</td>\n",
       "      <td>2015</td>\n",
       "      <td>July</td>\n",
       "      <td>27</td>\n",
       "      <td>1</td>\n",
       "      <td>0</td>\n",
       "      <td>3</td>\n",
       "      <td>2</td>\n",
       "      <td>...</td>\n",
       "      <td>No Deposit</td>\n",
       "      <td>240.0</td>\n",
       "      <td>NaN</td>\n",
       "      <td>0</td>\n",
       "      <td>Transient</td>\n",
       "      <td>82.0</td>\n",
       "      <td>0</td>\n",
       "      <td>1</td>\n",
       "      <td>Canceled</td>\n",
       "      <td>2015-05-06</td>\n",
       "    </tr>\n",
       "    <tr>\n",
       "      <th>9</th>\n",
       "      <td>Resort Hotel</td>\n",
       "      <td>1</td>\n",
       "      <td>75</td>\n",
       "      <td>2015</td>\n",
       "      <td>July</td>\n",
       "      <td>27</td>\n",
       "      <td>1</td>\n",
       "      <td>0</td>\n",
       "      <td>3</td>\n",
       "      <td>2</td>\n",
       "      <td>...</td>\n",
       "      <td>No Deposit</td>\n",
       "      <td>15.0</td>\n",
       "      <td>NaN</td>\n",
       "      <td>0</td>\n",
       "      <td>Transient</td>\n",
       "      <td>105.5</td>\n",
       "      <td>0</td>\n",
       "      <td>0</td>\n",
       "      <td>Canceled</td>\n",
       "      <td>2015-04-22</td>\n",
       "    </tr>\n",
       "  </tbody>\n",
       "</table>\n",
       "<p>10 rows × 32 columns</p>\n",
       "</div>"
      ],
      "text/plain": [
       "          hotel  is_canceled  lead_time  arrival_date_year arrival_date_month  \\\n",
       "0  Resort Hotel            0        342               2015               July   \n",
       "1  Resort Hotel            0        737               2015               July   \n",
       "2  Resort Hotel            0          7               2015               July   \n",
       "3  Resort Hotel            0         13               2015               July   \n",
       "4  Resort Hotel            0         14               2015               July   \n",
       "5  Resort Hotel            0         14               2015               July   \n",
       "6  Resort Hotel            0          0               2015               July   \n",
       "7  Resort Hotel            0          9               2015               July   \n",
       "8  Resort Hotel            1         85               2015               July   \n",
       "9  Resort Hotel            1         75               2015               July   \n",
       "\n",
       "   arrival_date_week_number  arrival_date_day_of_month  \\\n",
       "0                        27                          1   \n",
       "1                        27                          1   \n",
       "2                        27                          1   \n",
       "3                        27                          1   \n",
       "4                        27                          1   \n",
       "5                        27                          1   \n",
       "6                        27                          1   \n",
       "7                        27                          1   \n",
       "8                        27                          1   \n",
       "9                        27                          1   \n",
       "\n",
       "   stays_in_weekend_nights  stays_in_week_nights  adults  ...  deposit_type  \\\n",
       "0                        0                     0       2  ...    No Deposit   \n",
       "1                        0                     0       2  ...    No Deposit   \n",
       "2                        0                     1       1  ...    No Deposit   \n",
       "3                        0                     1       1  ...    No Deposit   \n",
       "4                        0                     2       2  ...    No Deposit   \n",
       "5                        0                     2       2  ...    No Deposit   \n",
       "6                        0                     2       2  ...    No Deposit   \n",
       "7                        0                     2       2  ...    No Deposit   \n",
       "8                        0                     3       2  ...    No Deposit   \n",
       "9                        0                     3       2  ...    No Deposit   \n",
       "\n",
       "   agent company days_in_waiting_list customer_type    adr  \\\n",
       "0    NaN     NaN                    0     Transient    0.0   \n",
       "1    NaN     NaN                    0     Transient    0.0   \n",
       "2    NaN     NaN                    0     Transient   75.0   \n",
       "3  304.0     NaN                    0     Transient   75.0   \n",
       "4  240.0     NaN                    0     Transient   98.0   \n",
       "5  240.0     NaN                    0     Transient   98.0   \n",
       "6    NaN     NaN                    0     Transient  107.0   \n",
       "7  303.0     NaN                    0     Transient  103.0   \n",
       "8  240.0     NaN                    0     Transient   82.0   \n",
       "9   15.0     NaN                    0     Transient  105.5   \n",
       "\n",
       "   required_car_parking_spaces  total_of_special_requests  reservation_status  \\\n",
       "0                            0                          0           Check-Out   \n",
       "1                            0                          0           Check-Out   \n",
       "2                            0                          0           Check-Out   \n",
       "3                            0                          0           Check-Out   \n",
       "4                            0                          1           Check-Out   \n",
       "5                            0                          1           Check-Out   \n",
       "6                            0                          0           Check-Out   \n",
       "7                            0                          1           Check-Out   \n",
       "8                            0                          1            Canceled   \n",
       "9                            0                          0            Canceled   \n",
       "\n",
       "  reservation_status_date  \n",
       "0              2015-07-01  \n",
       "1              2015-07-01  \n",
       "2              2015-07-02  \n",
       "3              2015-07-02  \n",
       "4              2015-07-03  \n",
       "5              2015-07-03  \n",
       "6              2015-07-03  \n",
       "7              2015-07-03  \n",
       "8              2015-05-06  \n",
       "9              2015-04-22  \n",
       "\n",
       "[10 rows x 32 columns]"
      ]
     },
     "execution_count": 3,
     "metadata": {},
     "output_type": "execute_result"
    }
   ],
   "source": [
    "#importing the data\n",
    "fulldata = pd.read_csv('./hotel_bookings.csv')\n",
    "fulldata.head(10)"
   ]
  },
  {
   "cell_type": "code",
   "execution_count": 4,
   "metadata": {},
   "outputs": [
    {
     "name": "stdout",
     "output_type": "stream",
     "text": [
      "<class 'pandas.core.frame.DataFrame'>\n",
      "RangeIndex: 119390 entries, 0 to 119389\n",
      "Data columns (total 32 columns):\n",
      " #   Column                          Non-Null Count   Dtype  \n",
      "---  ------                          --------------   -----  \n",
      " 0   hotel                           119390 non-null  object \n",
      " 1   is_canceled                     119390 non-null  int64  \n",
      " 2   lead_time                       119390 non-null  int64  \n",
      " 3   arrival_date_year               119390 non-null  int64  \n",
      " 4   arrival_date_month              119390 non-null  object \n",
      " 5   arrival_date_week_number        119390 non-null  int64  \n",
      " 6   arrival_date_day_of_month       119390 non-null  int64  \n",
      " 7   stays_in_weekend_nights         119390 non-null  int64  \n",
      " 8   stays_in_week_nights            119390 non-null  int64  \n",
      " 9   adults                          119390 non-null  int64  \n",
      " 10  children                        119386 non-null  float64\n",
      " 11  babies                          119390 non-null  int64  \n",
      " 12  meal                            119390 non-null  object \n",
      " 13  country                         118902 non-null  object \n",
      " 14  market_segment                  119390 non-null  object \n",
      " 15  distribution_channel            119390 non-null  object \n",
      " 16  is_repeated_guest               119390 non-null  int64  \n",
      " 17  previous_cancellations          119390 non-null  int64  \n",
      " 18  previous_bookings_not_canceled  119390 non-null  int64  \n",
      " 19  reserved_room_type              119390 non-null  object \n",
      " 20  assigned_room_type              119390 non-null  object \n",
      " 21  booking_changes                 119390 non-null  int64  \n",
      " 22  deposit_type                    119390 non-null  object \n",
      " 23  agent                           103050 non-null  float64\n",
      " 24  company                         6797 non-null    float64\n",
      " 25  days_in_waiting_list            119390 non-null  int64  \n",
      " 26  customer_type                   119390 non-null  object \n",
      " 27  adr                             119390 non-null  float64\n",
      " 28  required_car_parking_spaces     119390 non-null  int64  \n",
      " 29  total_of_special_requests       119390 non-null  int64  \n",
      " 30  reservation_status              119390 non-null  object \n",
      " 31  reservation_status_date         119390 non-null  object \n",
      "dtypes: float64(4), int64(16), object(12)\n",
      "memory usage: 29.1+ MB\n"
     ]
    }
   ],
   "source": [
    "##getting table information\n",
    "\n",
    "fulldata.info()"
   ]
  },
  {
   "cell_type": "markdown",
   "metadata": {
    "id": "NauE96owM3sR"
   },
   "source": [
    "# 1. Data Pre-processing (25%)\n",
    "\n",
    "\n",
    "---\n",
    "\n",
    "\n",
    "\n",
    "\n"
   ]
  },
  {
   "cell_type": "markdown",
   "metadata": {
    "id": "HZLqyiLUOnrV"
   },
   "source": [
    "**Drop irrelevant columns**\n",
    "\n",
    "It will significantly reduce the time and effort you need to invest. As a general guideline, columns containing IDs, dates, or irrelevant information are typically considered redundant and offer little value for predictive analysis."
   ]
  },
  {
   "cell_type": "markdown",
   "metadata": {},
   "source": [
    "# dropping irrelevent columns:"
   ]
  },
  {
   "cell_type": "code",
   "execution_count": 5,
   "metadata": {
    "id": "GSWv5wCDQyBM"
   },
   "outputs": [
    {
     "data": {
      "text/html": [
       "<div>\n",
       "<style scoped>\n",
       "    .dataframe tbody tr th:only-of-type {\n",
       "        vertical-align: middle;\n",
       "    }\n",
       "\n",
       "    .dataframe tbody tr th {\n",
       "        vertical-align: top;\n",
       "    }\n",
       "\n",
       "    .dataframe thead th {\n",
       "        text-align: right;\n",
       "    }\n",
       "</style>\n",
       "<table border=\"1\" class=\"dataframe\">\n",
       "  <thead>\n",
       "    <tr style=\"text-align: right;\">\n",
       "      <th></th>\n",
       "      <th>hotel</th>\n",
       "      <th>is_canceled</th>\n",
       "      <th>lead_time</th>\n",
       "      <th>stays_in_weekend_nights</th>\n",
       "      <th>stays_in_week_nights</th>\n",
       "      <th>adults</th>\n",
       "      <th>children</th>\n",
       "      <th>babies</th>\n",
       "      <th>meal</th>\n",
       "      <th>distribution_channel</th>\n",
       "      <th>...</th>\n",
       "      <th>assigned_room_type</th>\n",
       "      <th>booking_changes</th>\n",
       "      <th>deposit_type</th>\n",
       "      <th>agent</th>\n",
       "      <th>company</th>\n",
       "      <th>days_in_waiting_list</th>\n",
       "      <th>customer_type</th>\n",
       "      <th>adr</th>\n",
       "      <th>required_car_parking_spaces</th>\n",
       "      <th>total_of_special_requests</th>\n",
       "    </tr>\n",
       "  </thead>\n",
       "  <tbody>\n",
       "    <tr>\n",
       "      <th>0</th>\n",
       "      <td>Resort Hotel</td>\n",
       "      <td>0</td>\n",
       "      <td>342</td>\n",
       "      <td>0</td>\n",
       "      <td>0</td>\n",
       "      <td>2</td>\n",
       "      <td>0.0</td>\n",
       "      <td>0</td>\n",
       "      <td>BB</td>\n",
       "      <td>Direct</td>\n",
       "      <td>...</td>\n",
       "      <td>C</td>\n",
       "      <td>3</td>\n",
       "      <td>No Deposit</td>\n",
       "      <td>NaN</td>\n",
       "      <td>NaN</td>\n",
       "      <td>0</td>\n",
       "      <td>Transient</td>\n",
       "      <td>0.00</td>\n",
       "      <td>0</td>\n",
       "      <td>0</td>\n",
       "    </tr>\n",
       "    <tr>\n",
       "      <th>1</th>\n",
       "      <td>Resort Hotel</td>\n",
       "      <td>0</td>\n",
       "      <td>737</td>\n",
       "      <td>0</td>\n",
       "      <td>0</td>\n",
       "      <td>2</td>\n",
       "      <td>0.0</td>\n",
       "      <td>0</td>\n",
       "      <td>BB</td>\n",
       "      <td>Direct</td>\n",
       "      <td>...</td>\n",
       "      <td>C</td>\n",
       "      <td>4</td>\n",
       "      <td>No Deposit</td>\n",
       "      <td>NaN</td>\n",
       "      <td>NaN</td>\n",
       "      <td>0</td>\n",
       "      <td>Transient</td>\n",
       "      <td>0.00</td>\n",
       "      <td>0</td>\n",
       "      <td>0</td>\n",
       "    </tr>\n",
       "    <tr>\n",
       "      <th>2</th>\n",
       "      <td>Resort Hotel</td>\n",
       "      <td>0</td>\n",
       "      <td>7</td>\n",
       "      <td>0</td>\n",
       "      <td>1</td>\n",
       "      <td>1</td>\n",
       "      <td>0.0</td>\n",
       "      <td>0</td>\n",
       "      <td>BB</td>\n",
       "      <td>Direct</td>\n",
       "      <td>...</td>\n",
       "      <td>C</td>\n",
       "      <td>0</td>\n",
       "      <td>No Deposit</td>\n",
       "      <td>NaN</td>\n",
       "      <td>NaN</td>\n",
       "      <td>0</td>\n",
       "      <td>Transient</td>\n",
       "      <td>75.00</td>\n",
       "      <td>0</td>\n",
       "      <td>0</td>\n",
       "    </tr>\n",
       "    <tr>\n",
       "      <th>3</th>\n",
       "      <td>Resort Hotel</td>\n",
       "      <td>0</td>\n",
       "      <td>13</td>\n",
       "      <td>0</td>\n",
       "      <td>1</td>\n",
       "      <td>1</td>\n",
       "      <td>0.0</td>\n",
       "      <td>0</td>\n",
       "      <td>BB</td>\n",
       "      <td>Corporate</td>\n",
       "      <td>...</td>\n",
       "      <td>A</td>\n",
       "      <td>0</td>\n",
       "      <td>No Deposit</td>\n",
       "      <td>304.0</td>\n",
       "      <td>NaN</td>\n",
       "      <td>0</td>\n",
       "      <td>Transient</td>\n",
       "      <td>75.00</td>\n",
       "      <td>0</td>\n",
       "      <td>0</td>\n",
       "    </tr>\n",
       "    <tr>\n",
       "      <th>4</th>\n",
       "      <td>Resort Hotel</td>\n",
       "      <td>0</td>\n",
       "      <td>14</td>\n",
       "      <td>0</td>\n",
       "      <td>2</td>\n",
       "      <td>2</td>\n",
       "      <td>0.0</td>\n",
       "      <td>0</td>\n",
       "      <td>BB</td>\n",
       "      <td>TA/TO</td>\n",
       "      <td>...</td>\n",
       "      <td>A</td>\n",
       "      <td>0</td>\n",
       "      <td>No Deposit</td>\n",
       "      <td>240.0</td>\n",
       "      <td>NaN</td>\n",
       "      <td>0</td>\n",
       "      <td>Transient</td>\n",
       "      <td>98.00</td>\n",
       "      <td>0</td>\n",
       "      <td>1</td>\n",
       "    </tr>\n",
       "    <tr>\n",
       "      <th>...</th>\n",
       "      <td>...</td>\n",
       "      <td>...</td>\n",
       "      <td>...</td>\n",
       "      <td>...</td>\n",
       "      <td>...</td>\n",
       "      <td>...</td>\n",
       "      <td>...</td>\n",
       "      <td>...</td>\n",
       "      <td>...</td>\n",
       "      <td>...</td>\n",
       "      <td>...</td>\n",
       "      <td>...</td>\n",
       "      <td>...</td>\n",
       "      <td>...</td>\n",
       "      <td>...</td>\n",
       "      <td>...</td>\n",
       "      <td>...</td>\n",
       "      <td>...</td>\n",
       "      <td>...</td>\n",
       "      <td>...</td>\n",
       "      <td>...</td>\n",
       "    </tr>\n",
       "    <tr>\n",
       "      <th>119385</th>\n",
       "      <td>City Hotel</td>\n",
       "      <td>0</td>\n",
       "      <td>23</td>\n",
       "      <td>2</td>\n",
       "      <td>5</td>\n",
       "      <td>2</td>\n",
       "      <td>0.0</td>\n",
       "      <td>0</td>\n",
       "      <td>BB</td>\n",
       "      <td>TA/TO</td>\n",
       "      <td>...</td>\n",
       "      <td>A</td>\n",
       "      <td>0</td>\n",
       "      <td>No Deposit</td>\n",
       "      <td>394.0</td>\n",
       "      <td>NaN</td>\n",
       "      <td>0</td>\n",
       "      <td>Transient</td>\n",
       "      <td>96.14</td>\n",
       "      <td>0</td>\n",
       "      <td>0</td>\n",
       "    </tr>\n",
       "    <tr>\n",
       "      <th>119386</th>\n",
       "      <td>City Hotel</td>\n",
       "      <td>0</td>\n",
       "      <td>102</td>\n",
       "      <td>2</td>\n",
       "      <td>5</td>\n",
       "      <td>3</td>\n",
       "      <td>0.0</td>\n",
       "      <td>0</td>\n",
       "      <td>BB</td>\n",
       "      <td>TA/TO</td>\n",
       "      <td>...</td>\n",
       "      <td>E</td>\n",
       "      <td>0</td>\n",
       "      <td>No Deposit</td>\n",
       "      <td>9.0</td>\n",
       "      <td>NaN</td>\n",
       "      <td>0</td>\n",
       "      <td>Transient</td>\n",
       "      <td>225.43</td>\n",
       "      <td>0</td>\n",
       "      <td>2</td>\n",
       "    </tr>\n",
       "    <tr>\n",
       "      <th>119387</th>\n",
       "      <td>City Hotel</td>\n",
       "      <td>0</td>\n",
       "      <td>34</td>\n",
       "      <td>2</td>\n",
       "      <td>5</td>\n",
       "      <td>2</td>\n",
       "      <td>0.0</td>\n",
       "      <td>0</td>\n",
       "      <td>BB</td>\n",
       "      <td>TA/TO</td>\n",
       "      <td>...</td>\n",
       "      <td>D</td>\n",
       "      <td>0</td>\n",
       "      <td>No Deposit</td>\n",
       "      <td>9.0</td>\n",
       "      <td>NaN</td>\n",
       "      <td>0</td>\n",
       "      <td>Transient</td>\n",
       "      <td>157.71</td>\n",
       "      <td>0</td>\n",
       "      <td>4</td>\n",
       "    </tr>\n",
       "    <tr>\n",
       "      <th>119388</th>\n",
       "      <td>City Hotel</td>\n",
       "      <td>0</td>\n",
       "      <td>109</td>\n",
       "      <td>2</td>\n",
       "      <td>5</td>\n",
       "      <td>2</td>\n",
       "      <td>0.0</td>\n",
       "      <td>0</td>\n",
       "      <td>BB</td>\n",
       "      <td>TA/TO</td>\n",
       "      <td>...</td>\n",
       "      <td>A</td>\n",
       "      <td>0</td>\n",
       "      <td>No Deposit</td>\n",
       "      <td>89.0</td>\n",
       "      <td>NaN</td>\n",
       "      <td>0</td>\n",
       "      <td>Transient</td>\n",
       "      <td>104.40</td>\n",
       "      <td>0</td>\n",
       "      <td>0</td>\n",
       "    </tr>\n",
       "    <tr>\n",
       "      <th>119389</th>\n",
       "      <td>City Hotel</td>\n",
       "      <td>0</td>\n",
       "      <td>205</td>\n",
       "      <td>2</td>\n",
       "      <td>7</td>\n",
       "      <td>2</td>\n",
       "      <td>0.0</td>\n",
       "      <td>0</td>\n",
       "      <td>HB</td>\n",
       "      <td>TA/TO</td>\n",
       "      <td>...</td>\n",
       "      <td>A</td>\n",
       "      <td>0</td>\n",
       "      <td>No Deposit</td>\n",
       "      <td>9.0</td>\n",
       "      <td>NaN</td>\n",
       "      <td>0</td>\n",
       "      <td>Transient</td>\n",
       "      <td>151.20</td>\n",
       "      <td>0</td>\n",
       "      <td>2</td>\n",
       "    </tr>\n",
       "  </tbody>\n",
       "</table>\n",
       "<p>119390 rows × 24 columns</p>\n",
       "</div>"
      ],
      "text/plain": [
       "               hotel  is_canceled  lead_time  stays_in_weekend_nights  \\\n",
       "0       Resort Hotel            0        342                        0   \n",
       "1       Resort Hotel            0        737                        0   \n",
       "2       Resort Hotel            0          7                        0   \n",
       "3       Resort Hotel            0         13                        0   \n",
       "4       Resort Hotel            0         14                        0   \n",
       "...              ...          ...        ...                      ...   \n",
       "119385    City Hotel            0         23                        2   \n",
       "119386    City Hotel            0        102                        2   \n",
       "119387    City Hotel            0         34                        2   \n",
       "119388    City Hotel            0        109                        2   \n",
       "119389    City Hotel            0        205                        2   \n",
       "\n",
       "        stays_in_week_nights  adults  children  babies meal  \\\n",
       "0                          0       2       0.0       0   BB   \n",
       "1                          0       2       0.0       0   BB   \n",
       "2                          1       1       0.0       0   BB   \n",
       "3                          1       1       0.0       0   BB   \n",
       "4                          2       2       0.0       0   BB   \n",
       "...                      ...     ...       ...     ...  ...   \n",
       "119385                     5       2       0.0       0   BB   \n",
       "119386                     5       3       0.0       0   BB   \n",
       "119387                     5       2       0.0       0   BB   \n",
       "119388                     5       2       0.0       0   BB   \n",
       "119389                     7       2       0.0       0   HB   \n",
       "\n",
       "       distribution_channel  ...  assigned_room_type  booking_changes  \\\n",
       "0                    Direct  ...                   C                3   \n",
       "1                    Direct  ...                   C                4   \n",
       "2                    Direct  ...                   C                0   \n",
       "3                 Corporate  ...                   A                0   \n",
       "4                     TA/TO  ...                   A                0   \n",
       "...                     ...  ...                 ...              ...   \n",
       "119385                TA/TO  ...                   A                0   \n",
       "119386                TA/TO  ...                   E                0   \n",
       "119387                TA/TO  ...                   D                0   \n",
       "119388                TA/TO  ...                   A                0   \n",
       "119389                TA/TO  ...                   A                0   \n",
       "\n",
       "        deposit_type  agent company  days_in_waiting_list customer_type  \\\n",
       "0         No Deposit    NaN     NaN                     0     Transient   \n",
       "1         No Deposit    NaN     NaN                     0     Transient   \n",
       "2         No Deposit    NaN     NaN                     0     Transient   \n",
       "3         No Deposit  304.0     NaN                     0     Transient   \n",
       "4         No Deposit  240.0     NaN                     0     Transient   \n",
       "...              ...    ...     ...                   ...           ...   \n",
       "119385    No Deposit  394.0     NaN                     0     Transient   \n",
       "119386    No Deposit    9.0     NaN                     0     Transient   \n",
       "119387    No Deposit    9.0     NaN                     0     Transient   \n",
       "119388    No Deposit   89.0     NaN                     0     Transient   \n",
       "119389    No Deposit    9.0     NaN                     0     Transient   \n",
       "\n",
       "           adr  required_car_parking_spaces  total_of_special_requests  \n",
       "0         0.00                            0                          0  \n",
       "1         0.00                            0                          0  \n",
       "2        75.00                            0                          0  \n",
       "3        75.00                            0                          0  \n",
       "4        98.00                            0                          1  \n",
       "...        ...                          ...                        ...  \n",
       "119385   96.14                            0                          0  \n",
       "119386  225.43                            0                          2  \n",
       "119387  157.71                            0                          4  \n",
       "119388  104.40                            0                          0  \n",
       "119389  151.20                            0                          2  \n",
       "\n",
       "[119390 rows x 24 columns]"
      ]
     },
     "execution_count": 5,
     "metadata": {},
     "output_type": "execute_result"
    }
   ],
   "source": [
    "#due to the data being collected over a long period of time (3 years), some of the data is irrelevent. dropping irrelevant columns:\n",
    "\n",
    "fulldata.drop(columns=['arrival_date_year', 'arrival_date_month', 'arrival_date_week_number', 'arrival_date_day_of_month','country', 'reservation_status', 'market_segment','reservation_status_date'], inplace=True)\n",
    "fulldata\n"
   ]
  },
  {
   "cell_type": "markdown",
   "metadata": {
    "id": "uUImFV45PG4E"
   },
   "source": [
    "## 1.1 Missing Values (10%)\n",
    "\n",
    "Identify and handle missing values."
   ]
  },
  {
   "cell_type": "markdown",
   "metadata": {},
   "source": [
    "## identifying missing information:"
   ]
  },
  {
   "cell_type": "code",
   "execution_count": 6,
   "metadata": {
    "id": "c4eXcreOQxTD"
   },
   "outputs": [
    {
     "data": {
      "text/plain": [
       "hotel                                  0\n",
       "is_canceled                            0\n",
       "lead_time                              0\n",
       "stays_in_weekend_nights                0\n",
       "stays_in_week_nights                   0\n",
       "adults                                 0\n",
       "children                               4\n",
       "babies                                 0\n",
       "meal                                   0\n",
       "distribution_channel                   0\n",
       "is_repeated_guest                      0\n",
       "previous_cancellations                 0\n",
       "previous_bookings_not_canceled         0\n",
       "reserved_room_type                     0\n",
       "assigned_room_type                     0\n",
       "booking_changes                        0\n",
       "deposit_type                           0\n",
       "agent                              16340\n",
       "company                           112593\n",
       "days_in_waiting_list                   0\n",
       "customer_type                          0\n",
       "adr                                    0\n",
       "required_car_parking_spaces            0\n",
       "total_of_special_requests              0\n",
       "dtype: int64"
      ]
     },
     "execution_count": 6,
     "metadata": {},
     "output_type": "execute_result"
    }
   ],
   "source": [
    "# the difference between the isna and the isnull is:\n",
    "\n",
    "#isna() is used to detect the missing values \n",
    "# in the cells of the pandas data frame. It returns a data frame of the same size with the values masked as True for NA values and False for non-NA values.\n",
    "#  isnull() is also used to identify or detect the missing values in the data frame. It is just an alias for isna() method.\n",
    "\n",
    "fulldata.isnull().sum()"
   ]
  },
  {
   "cell_type": "code",
   "execution_count": 7,
   "metadata": {},
   "outputs": [
    {
     "data": {
      "text/plain": [
       "hotel                             0\n",
       "is_canceled                       0\n",
       "lead_time                         0\n",
       "stays_in_weekend_nights           0\n",
       "stays_in_week_nights              0\n",
       "adults                            0\n",
       "children                          4\n",
       "babies                            0\n",
       "meal                              0\n",
       "distribution_channel              0\n",
       "is_repeated_guest                 0\n",
       "previous_cancellations            0\n",
       "previous_bookings_not_canceled    0\n",
       "reserved_room_type                0\n",
       "assigned_room_type                0\n",
       "booking_changes                   0\n",
       "deposit_type                      0\n",
       "days_in_waiting_list              0\n",
       "customer_type                     0\n",
       "adr                               0\n",
       "required_car_parking_spaces       0\n",
       "total_of_special_requests         0\n",
       "dtype: int64"
      ]
     },
     "execution_count": 7,
     "metadata": {},
     "output_type": "execute_result"
    }
   ],
   "source": [
    "#In the columns agent and company there are lots of rows with the value of 0. I have decided to drop these rows due to the fact that this is irrelevent data which we do not need.\n",
    "fulldata.drop(columns=['agent', 'company'], inplace= True)\n",
    "fulldata.isnull().sum()"
   ]
  },
  {
   "cell_type": "code",
   "execution_count": 8,
   "metadata": {},
   "outputs": [],
   "source": [
    "fulldata['children'] = fulldata['children'].fillna(0)"
   ]
  },
  {
   "cell_type": "markdown",
   "metadata": {
    "id": "P_gLR3YnRTFf"
   },
   "source": [
    "## Unique values\n",
    "\n",
    "Find out unique values in columns. This will help you in identifying in-consistent data."
   ]
  },
  {
   "cell_type": "code",
   "execution_count": 9,
   "metadata": {
    "id": "kprpK-8NQx0E"
   },
   "outputs": [
    {
     "data": {
      "text/plain": [
       "hotel\n",
       "City Hotel      79330\n",
       "Resort Hotel    40060\n",
       "Name: count, dtype: int64"
      ]
     },
     "execution_count": 9,
     "metadata": {},
     "output_type": "execute_result"
    }
   ],
   "source": [
    "#inconsistant data can be tricy to work with and can affect the accuracy of the model.\n",
    "\n",
    "fulldata.hotel.value_counts()"
   ]
  },
  {
   "cell_type": "code",
   "execution_count": 10,
   "metadata": {},
   "outputs": [
    {
     "data": {
      "text/plain": [
       "is_canceled\n",
       "0    75166\n",
       "1    44224\n",
       "Name: count, dtype: int64"
      ]
     },
     "execution_count": 10,
     "metadata": {},
     "output_type": "execute_result"
    }
   ],
   "source": [
    "fulldata.is_canceled.value_counts()"
   ]
  },
  {
   "cell_type": "code",
   "execution_count": 11,
   "metadata": {},
   "outputs": [
    {
     "data": {
      "text/plain": [
       "children\n",
       "0.0     110800\n",
       "1.0       4861\n",
       "2.0       3652\n",
       "3.0         76\n",
       "10.0         1\n",
       "Name: count, dtype: int64"
      ]
     },
     "execution_count": 11,
     "metadata": {},
     "output_type": "execute_result"
    }
   ],
   "source": [
    "fulldata.children.value_counts()"
   ]
  },
  {
   "cell_type": "code",
   "execution_count": 12,
   "metadata": {},
   "outputs": [
    {
     "data": {
      "text/plain": [
       "meal       distribution_channel\n",
       "BB         TA/TO                   73712\n",
       "HB         TA/TO                   12625\n",
       "BB         Direct                  12109\n",
       "SC         TA/TO                   10132\n",
       "BB         Corporate                6370\n",
       "HB         Direct                   1673\n",
       "Undefined  TA/TO                     849\n",
       "FB         TA/TO                     552\n",
       "SC         Direct                    396\n",
       "Undefined  Direct                    273\n",
       "FB         Direct                    194\n",
       "HB         Corporate                 164\n",
       "BB         GDS                       115\n",
       "SC         GDS                        78\n",
       "FB         Corporate                  52\n",
       "Undefined  Corporate                  47\n",
       "SC         Corporate                  44\n",
       "BB         Undefined                   4\n",
       "HB         Undefined                   1\n",
       "Name: count, dtype: int64"
      ]
     },
     "execution_count": 12,
     "metadata": {},
     "output_type": "execute_result"
    }
   ],
   "source": [
    "# you can also quicken up the process by displaying the unique vales of multiple columns at once, this is good as it groups the information and is less time consuming.\n",
    "# however this makes the data displayed harder to understand and harder to identify the unique values in each column\n",
    "\n",
    "fulldata[['meal', 'distribution_channel' ]].value_counts()"
   ]
  },
  {
   "cell_type": "code",
   "execution_count": 13,
   "metadata": {},
   "outputs": [
    {
     "data": {
      "text/plain": [
       "reserved_room_type\n",
       "A    85994\n",
       "D    19201\n",
       "E     6535\n",
       "F     2897\n",
       "G     2094\n",
       "B     1118\n",
       "C      932\n",
       "H      601\n",
       "P       12\n",
       "L        6\n",
       "Name: count, dtype: int64"
      ]
     },
     "execution_count": 13,
     "metadata": {},
     "output_type": "execute_result"
    }
   ],
   "source": [
    "fulldata.reserved_room_type .value_counts()"
   ]
  },
  {
   "cell_type": "code",
   "execution_count": 14,
   "metadata": {},
   "outputs": [
    {
     "data": {
      "text/plain": [
       "assigned_room_type\n",
       "A    74053\n",
       "D    25322\n",
       "E     7806\n",
       "F     3751\n",
       "G     2553\n",
       "C     2375\n",
       "B     2163\n",
       "H      712\n",
       "I      363\n",
       "K      279\n",
       "P       12\n",
       "L        1\n",
       "Name: count, dtype: int64"
      ]
     },
     "execution_count": 14,
     "metadata": {},
     "output_type": "execute_result"
    }
   ],
   "source": [
    "fulldata.assigned_room_type.value_counts()"
   ]
  },
  {
   "cell_type": "code",
   "execution_count": 15,
   "metadata": {},
   "outputs": [
    {
     "data": {
      "text/plain": [
       "deposit_type\n",
       "No Deposit    104641\n",
       "Non Refund     14587\n",
       "Refundable       162\n",
       "Name: count, dtype: int64"
      ]
     },
     "execution_count": 15,
     "metadata": {},
     "output_type": "execute_result"
    }
   ],
   "source": [
    "fulldata.deposit_type.value_counts()"
   ]
  },
  {
   "cell_type": "code",
   "execution_count": 16,
   "metadata": {},
   "outputs": [
    {
     "data": {
      "text/plain": [
       "customer_type\n",
       "Transient          89613\n",
       "Transient-Party    25124\n",
       "Contract            4076\n",
       "Group                577\n",
       "Name: count, dtype: int64"
      ]
     },
     "execution_count": 16,
     "metadata": {},
     "output_type": "execute_result"
    }
   ],
   "source": [
    "fulldata.customer_type.value_counts()"
   ]
  },
  {
   "cell_type": "markdown",
   "metadata": {
    "id": "1Qiv5MThgpgM"
   },
   "source": [
    "## 1.2 Removing Inconsistent values and Outliers (10%)\n",
    "\n",
    "Detecting inconsistencies can be achieved through a variety of methods. Some can be identified by examining unique values within each column, while others may require a solid understanding of the problem domain. Since you might not be an expert in the hotel or hospitality industry, here are some helpful hints:\n",
    "\n",
    "Hints:\n",
    "\n",
    "1. Check for incomplete bookings, such as reservations with zero adults, babies, or children.\n",
    "2. Examine rows with zeros in both 'stays_in_weekend_nights' and 'stays_in_week_nights.'\n",
    "\n"
   ]
  },
  {
   "cell_type": "markdown",
   "metadata": {},
   "source": [
    "# checking for incomplete bookings:"
   ]
  },
  {
   "cell_type": "code",
   "execution_count": 17,
   "metadata": {
    "id": "qNukKr-XQzc7"
   },
   "outputs": [
    {
     "data": {
      "text/plain": [
       "Index([  2224,   2409,   3181,   3684,   3708,   4127,   9376,  31765,  32029,\n",
       "        32827,\n",
       "       ...\n",
       "       112558, 113188, 114583, 114908, 114911, 115029, 115091, 116251, 116534,\n",
       "       117087],\n",
       "      dtype='int64', length=180)"
      ]
     },
     "execution_count": 17,
     "metadata": {},
     "output_type": "execute_result"
    }
   ],
   "source": [
    "fulldata[(fulldata['adults']==0) & (fulldata['children']==0) & (fulldata['babies']==0)].index"
   ]
  },
  {
   "cell_type": "markdown",
   "metadata": {},
   "source": [
    "# examine rows with zeros"
   ]
  },
  {
   "cell_type": "code",
   "execution_count": 18,
   "metadata": {},
   "outputs": [
    {
     "data": {
      "text/plain": [
       "Index([     0,      1,    167,    168,    196,    197,    459,    568,    569,\n",
       "          618,\n",
       "       ...\n",
       "       113930, 114678, 114908, 114911, 115482, 115483, 117701, 118029, 118631,\n",
       "       118963],\n",
       "      dtype='int64', length=715)"
      ]
     },
     "execution_count": 18,
     "metadata": {},
     "output_type": "execute_result"
    }
   ],
   "source": [
    "fulldata[(fulldata['stays_in_weekend_nights']==0) & (fulldata['stays_in_week_nights']==0)].index"
   ]
  },
  {
   "cell_type": "markdown",
   "metadata": {},
   "source": [
    "### dropping values with 0"
   ]
  },
  {
   "cell_type": "code",
   "execution_count": 19,
   "metadata": {},
   "outputs": [],
   "source": [
    "#dropping all the null values to reduce data size and get more accuracy\n",
    "\n",
    "fulldata = fulldata.drop(fulldata[fulldata['adults']== 0].index)"
   ]
  },
  {
   "cell_type": "code",
   "execution_count": 20,
   "metadata": {},
   "outputs": [
    {
     "data": {
      "text/plain": [
       "Index([], dtype='int64')"
      ]
     },
     "execution_count": 20,
     "metadata": {},
     "output_type": "execute_result"
    }
   ],
   "source": [
    "#testing the code\n",
    "fulldata[fulldata['adults']== 0].index"
   ]
  },
  {
   "cell_type": "markdown",
   "metadata": {},
   "source": [
    "### dropping 0 values, stays in nights columns:"
   ]
  },
  {
   "cell_type": "code",
   "execution_count": 21,
   "metadata": {},
   "outputs": [],
   "source": [
    "fulldata = fulldata.drop(fulldata[(fulldata['stays_in_weekend_nights']== 0) & (fulldata['stays_in_week_nights']== 0)].index)"
   ]
  },
  {
   "cell_type": "code",
   "execution_count": 22,
   "metadata": {},
   "outputs": [
    {
     "data": {
      "text/plain": [
       "Index([], dtype='int64')"
      ]
     },
     "execution_count": 22,
     "metadata": {},
     "output_type": "execute_result"
    }
   ],
   "source": [
    "#testing the code\n",
    "\n",
    "fulldata[(fulldata['stays_in_weekend_nights']== 0) & (fulldata['stays_in_week_nights']== 0)].index"
   ]
  },
  {
   "cell_type": "markdown",
   "metadata": {},
   "source": [
    "# Outliers:"
   ]
  },
  {
   "cell_type": "markdown",
   "metadata": {},
   "source": [
    "## Boxplots of Columns:"
   ]
  },
  {
   "cell_type": "code",
   "execution_count": 23,
   "metadata": {},
   "outputs": [
    {
     "data": {
      "text/plain": [
       "<Axes: >"
      ]
     },
     "execution_count": 23,
     "metadata": {},
     "output_type": "execute_result"
    },
    {
     "data": {
      "image/png": "[encoded data removed]",
      "text/plain": [
       "<Figure size 640x480 with 1 Axes>"
      ]
     },
     "metadata": {},
     "output_type": "display_data"
    }
   ],
   "source": [
    "# e.g Boxpot of the column is_canceled:\n",
    "\n",
    "fulldata.plot(y=['is_canceled'], kind='box')"
   ]
  },
  {
   "cell_type": "markdown",
   "metadata": {},
   "source": [
    "## Boxplotting and removing Outlier:"
   ]
  },
  {
   "cell_type": "markdown",
   "metadata": {},
   "source": [
    "### lead_time:"
   ]
  },
  {
   "cell_type": "code",
   "execution_count": 24,
   "metadata": {},
   "outputs": [
    {
     "data": {
      "text/plain": [
       "<Axes: >"
      ]
     },
     "execution_count": 24,
     "metadata": {},
     "output_type": "execute_result"
    },
    {
     "data": {
      "image/png": "[encoded data removed]",
      "text/plain": [
       "<Figure size 640x480 with 1 Axes>"
      ]
     },
     "metadata": {},
     "output_type": "display_data"
    }
   ],
   "source": [
    "fulldata.plot(y=['lead_time'], kind='box')"
   ]
  },
  {
   "cell_type": "code",
   "execution_count": 25,
   "metadata": {},
   "outputs": [
    {
     "data": {
      "text/plain": [
       "<Axes: >"
      ]
     },
     "execution_count": 25,
     "metadata": {},
     "output_type": "execute_result"
    },
    {
     "data": {
      "image/png": "[encoded data removed]",
      "text/plain": [
       "<Figure size 640x480 with 1 Axes>"
      ]
     },
     "metadata": {},
     "output_type": "display_data"
    }
   ],
   "source": [
    "fulldata = fulldata.drop(fulldata[fulldata['lead_time']> 349].index)\n",
    "fulldata.plot(y=['lead_time'], kind='box')"
   ]
  },
  {
   "cell_type": "markdown",
   "metadata": {},
   "source": [
    "### stays_in_weekend_nights:"
   ]
  },
  {
   "cell_type": "code",
   "execution_count": 26,
   "metadata": {},
   "outputs": [
    {
     "data": {
      "text/plain": [
       "<Axes: >"
      ]
     },
     "execution_count": 26,
     "metadata": {},
     "output_type": "execute_result"
    },
    {
     "data": {
      "image/png": "[encoded data removed]",
      "text/plain": [
       "<Figure size 640x480 with 1 Axes>"
      ]
     },
     "metadata": {},
     "output_type": "display_data"
    }
   ],
   "source": [
    "fulldata.plot(y=['stays_in_weekend_nights'], kind='box')"
   ]
  },
  {
   "cell_type": "code",
   "execution_count": 27,
   "metadata": {},
   "outputs": [
    {
     "data": {
      "text/plain": [
       "<Axes: >"
      ]
     },
     "execution_count": 27,
     "metadata": {},
     "output_type": "execute_result"
    },
    {
     "data": {
      "image/png": "[encoded data removed]",
      "text/plain": [
       "<Figure size 640x480 with 1 Axes>"
      ]
     },
     "metadata": {},
     "output_type": "display_data"
    }
   ],
   "source": [
    "fulldata = fulldata.drop(fulldata[fulldata['stays_in_weekend_nights']> 5].index)\n",
    "fulldata.plot(y=['stays_in_weekend_nights'], kind='box')"
   ]
  },
  {
   "cell_type": "markdown",
   "metadata": {},
   "source": [
    "### stays_in_week_nights:"
   ]
  },
  {
   "cell_type": "code",
   "execution_count": 28,
   "metadata": {},
   "outputs": [
    {
     "data": {
      "text/plain": [
       "<Axes: >"
      ]
     },
     "execution_count": 28,
     "metadata": {},
     "output_type": "execute_result"
    },
    {
     "data": {
      "image/png": "[encoded data removed]",
      "text/plain": [
       "<Figure size 640x480 with 1 Axes>"
      ]
     },
     "metadata": {},
     "output_type": "display_data"
    }
   ],
   "source": [
    "fulldata.plot(y=['stays_in_week_nights'], kind='box')"
   ]
  },
  {
   "cell_type": "code",
   "execution_count": 29,
   "metadata": {},
   "outputs": [
    {
     "data": {
      "text/plain": [
       "<Axes: >"
      ]
     },
     "execution_count": 29,
     "metadata": {},
     "output_type": "execute_result"
    },
    {
     "data": {
      "image/png": "[encoded data removed]",
      "text/plain": [
       "<Figure size 640x480 with 1 Axes>"
      ]
     },
     "metadata": {},
     "output_type": "display_data"
    }
   ],
   "source": [
    "fulldata = fulldata.drop(fulldata[fulldata['stays_in_week_nights']> 6].index)\n",
    "fulldata.plot(y=['stays_in_week_nights'], kind='box')"
   ]
  },
  {
   "cell_type": "markdown",
   "metadata": {},
   "source": [
    "### ADR:"
   ]
  },
  {
   "cell_type": "code",
   "execution_count": 30,
   "metadata": {},
   "outputs": [
    {
     "data": {
      "text/plain": [
       "<Axes: >"
      ]
     },
     "execution_count": 30,
     "metadata": {},
     "output_type": "execute_result"
    },
    {
     "data": {
      "image/png": "[encoded data removed]",
      "text/plain": [
       "<Figure size 640x480 with 1 Axes>"
      ]
     },
     "metadata": {},
     "output_type": "display_data"
    }
   ],
   "source": [
    "fulldata.plot(y=['adr'], kind='box')"
   ]
  },
  {
   "cell_type": "code",
   "execution_count": 31,
   "metadata": {},
   "outputs": [
    {
     "data": {
      "text/plain": [
       "<Axes: >"
      ]
     },
     "execution_count": 31,
     "metadata": {},
     "output_type": "execute_result"
    },
    {
     "data": {
      "image/png": "[encoded data removed]",
      "text/plain": [
       "<Figure size 640x480 with 1 Axes>"
      ]
     },
     "metadata": {},
     "output_type": "display_data"
    }
   ],
   "source": [
    "fulldata = fulldata.drop(fulldata[(fulldata['adr']>190) | (fulldata['adr'] < 0)].index)\n",
    "fulldata.plot(y=['adr'], kind='box')"
   ]
  },
  {
   "cell_type": "markdown",
   "metadata": {},
   "source": [
    "I have chosen to only remove the outliers of these columns due to the fact that these are essential columns. For example removing the outliers of 'adults' column could interupt the data for 'children' and 'babies' columns."
   ]
  },
  {
   "cell_type": "markdown",
   "metadata": {
    "id": "1Qiv5MThgpgM"
   },
   "source": [
    "## 1.3 Column data type conversion (5%)\n",
    "\n",
    "All necessary columns should be correctly converted to appropriate data types.\n"
   ]
  },
  {
   "cell_type": "code",
   "execution_count": 32,
   "metadata": {},
   "outputs": [],
   "source": [
    "fulldata['children'] = fulldata['children'].astype('int64')"
   ]
  },
  {
   "cell_type": "markdown",
   "metadata": {
    "id": "GKLLdSmuM3wJ"
   },
   "source": [
    "# 2. Exploratory Data Analysis (25%)\n",
    "\n",
    "\n",
    "---\n",
    "\n",
    "\n",
    "\n",
    "\n",
    "\n",
    "You've also been provided with examples of valuable insights that could be of interest to hotel management, including:\n",
    "\n",
    "* Calculating cancellation percentages for City and Resort hotels.\n",
    "* Identifying the most frequently ordered meal types.\n",
    "* Determining the number of returning guests.\n",
    "* Discovering the most booked room types.\n",
    "* Exploring correlations between room types and cancellations.\n",
    "\n",
    "\n",
    "Visualize these insights using three different types of visualizations covered in the practicals, such as:\n",
    "\n",
    "* Bar graphs\n",
    "* Pie charts\n",
    "* Line charts\n",
    "* Heatmaps"
   ]
  },
  {
   "cell_type": "markdown",
   "metadata": {},
   "source": [
    "## 2.1. Calculating cancellation percentages for City and Resort hotels."
   ]
  },
  {
   "cell_type": "code",
   "execution_count": 33,
   "metadata": {
    "id": "CyBKkMrMQ088"
   },
   "outputs": [],
   "source": [
    "hotel_location = fulldata.hotel.unique()"
   ]
  },
  {
   "cell_type": "code",
   "execution_count": 34,
   "metadata": {},
   "outputs": [],
   "source": [
    "#splitting data into 2 different datasets\n",
    "\n",
    "city_hotel_data = fulldata.drop(fulldata[fulldata['hotel']== hotel_location[0]].index)\n",
    "resort_hotel_data = fulldata.drop(fulldata[fulldata['hotel']== hotel_location[1]].index)"
   ]
  },
  {
   "cell_type": "code",
   "execution_count": 35,
   "metadata": {},
   "outputs": [],
   "source": [
    "# Turning is_canceled column into a verible\n",
    "city_hotel_data = city_hotel_data.is_canceled.value_counts()\n",
    "resort_hotel_data = resort_hotel_data.is_canceled.value_counts()"
   ]
  },
  {
   "cell_type": "code",
   "execution_count": 36,
   "metadata": {},
   "outputs": [
    {
     "data": {
      "image/png": "[encoded data removed]",
      "text/plain": [
       "<Figure size 800x600 with 1 Axes>"
      ]
     },
     "metadata": {},
     "output_type": "display_data"
    }
   ],
   "source": [
    "import matplotlib.pyplot as plt\n",
    "\n",
    "plt.figure(figsize=(8, 6))  \n",
    "colors = ['#ff9999', '#66b3ff', '#99ff99', '#ffcc99']\n",
    "\n",
    "# Create the pie chart\n",
    "labels = fulldata['hotel'].value_counts().index \n",
    "fulldata['hotel'].value_counts().plot(\n",
    "    kind='pie',\n",
    "    autopct='%.2f%%',\n",
    "    startangle=90, \n",
    "    colors=colors,\n",
    "    shadow=True, \n",
    "    explode=[0.1] * len(labels),\n",
    "    labels={'city hotel','resort hotel'},\n",
    ")\n",
    "plt.title('Hotel Distribution', fontsize=16)\n",
    "plt.axis('equal')\n",
    "plt.show()\n",
    "\n"
   ]
  },
  {
   "cell_type": "markdown",
   "metadata": {},
   "source": [
    "## 2.2. Identifying the most frequently ordered meal types."
   ]
  },
  {
   "cell_type": "code",
   "execution_count": 37,
   "metadata": {
    "id": "CyBKkMrMQ088"
   },
   "outputs": [
    {
     "data": {
      "text/plain": [
       "<Axes: title={'center': 'Meal Frequency'}, xlabel='meal'>"
      ]
     },
     "execution_count": 37,
     "metadata": {},
     "output_type": "execute_result"
    },
    {
     "data": {
      "image/png": "[encoded data removed]",
      "text/plain": [
       "<Figure size 900x500 with 1 Axes>"
      ]
     },
     "metadata": {},
     "output_type": "display_data"
    }
   ],
   "source": [
    "# Meal value count as a bar chart\n",
    "fulldata.meal.value_counts().plot(kind='bar',title='Meal Frequency',figsize=[9,5])"
   ]
  },
  {
   "cell_type": "markdown",
   "metadata": {},
   "source": [
    "## 2.3. Determining the number of returning guests."
   ]
  },
  {
   "cell_type": "code",
   "execution_count": 38,
   "metadata": {
    "id": "CyBKkMrMQ088"
   },
   "outputs": [
    {
     "data": {
      "text/plain": [
       "<Axes: title={'center': 'Guest Return'}, ylabel='count'>"
      ]
     },
     "execution_count": 38,
     "metadata": {},
     "output_type": "execute_result"
    },
    {
     "data": {
      "image/png": "[encoded data removed]",
      "text/plain": [
       "<Figure size 1200x800 with 1 Axes>"
      ]
     },
     "metadata": {},
     "output_type": "display_data"
    }
   ],
   "source": [
    "explode = (0.2,0)\n",
    "fulldata.is_repeated_guest.value_counts().plot(kind='pie',labels={'New guest','Repeated Guests'}, figsize=[12,8],title='Guest Return', explode= explode, autopct='%.2f%%')"
   ]
  },
  {
   "cell_type": "code",
   "execution_count": 39,
   "metadata": {},
   "outputs": [
    {
     "data": {
      "text/plain": [
       "is_repeated_guest\n",
       "0    101757\n",
       "1      3361\n",
       "Name: count, dtype: int64"
      ]
     },
     "execution_count": 39,
     "metadata": {},
     "output_type": "execute_result"
    }
   ],
   "source": [
    "guests_repeated = fulldata.is_repeated_guest.value_counts()\n",
    "guests_repeated\n"
   ]
  },
  {
   "cell_type": "markdown",
   "metadata": {},
   "source": [
    "##### The total number of guests that came back is 3361."
   ]
  },
  {
   "cell_type": "markdown",
   "metadata": {},
   "source": [
    "## 2.4. Discovering the most booked room types."
   ]
  },
  {
   "cell_type": "code",
   "execution_count": 40,
   "metadata": {
    "id": "CyBKkMrMQ088"
   },
   "outputs": [
    {
     "data": {
      "text/plain": [
       "reserved_room_type\n",
       "A    78972\n",
       "D    16732\n",
       "E     4881\n",
       "F     1701\n",
       "G     1092\n",
       "B      869\n",
       "C      558\n",
       "H      308\n",
       "L        5\n",
       "Name: count, dtype: int64"
      ]
     },
     "execution_count": 40,
     "metadata": {},
     "output_type": "execute_result"
    }
   ],
   "source": [
    "# Count the occurrences of each unique value in the 'reserved_room_type' column\n",
    "room_types = fulldata.reserved_room_type.value_counts()\n",
    "room_types"
   ]
  },
  {
   "cell_type": "code",
   "execution_count": 58,
   "metadata": {},
   "outputs": [
    {
     "data": {
      "text/plain": [
       "<Axes: xlabel='reserved_room_type'>"
      ]
     },
     "execution_count": 58,
     "metadata": {},
     "output_type": "execute_result"
    },
    {
     "data": {
      "image/png": "[encoded data removed]",
      "text/plain": [
       "<Figure size 640x480 with 1 Axes>"
      ]
     },
     "metadata": {},
     "output_type": "display_data"
    }
   ],
   "source": [
    "room_types.plot(kind='bar', edgecolor = 'black',width = 1)"
   ]
  },
  {
   "cell_type": "markdown",
   "metadata": {},
   "source": [
    "##### As it can be seen in the above graph room_type A is the most popular"
   ]
  },
  {
   "cell_type": "markdown",
   "metadata": {},
   "source": [
    "## 2.5. Exploring correlations between room types and cancellations."
   ]
  },
  {
   "cell_type": "code",
   "execution_count": 42,
   "metadata": {
    "id": "CyBKkMrMQ088"
   },
   "outputs": [
    {
     "data": {
      "image/png": "[encoded data removed]",
      "text/plain": [
       "<Figure size 1000x600 with 2 Axes>"
      ]
     },
     "metadata": {},
     "output_type": "display_data"
    }
   ],
   "source": [
    "\n",
    "# Convert 'reserved_room_type' and 'assigned_room_type' to categorical and get their codes\n",
    "fulldata['reserved_room_type'] = fulldata['reserved_room_type'].astype('category').cat.codes\n",
    "fulldata['assigned_room_type'] = fulldata['assigned_room_type'].astype('category').cat.codes\n",
    "\n",
    "# Create a DataFrame containing reserved and assigned room types along with cancellation status\n",
    "canceled_rooms = fulldata[['reserved_room_type', 'assigned_room_type', 'is_canceled']]\n",
    "\n",
    "# Calculate the correlation matrix of the selected features\n",
    "correlation = canceled_rooms.corr().round(2)\n",
    "\n",
    "# Set up the matplotlib figure\n",
    "plt.figure(figsize=(10, 6))\n",
    "\n",
    "# Create a heatmap to visualise the correlation \n",
    "sb.heatmap(correlation, cmap=\"coolwarm\", annot=True, fmt='.2f', square=True, cbar_kws={\"shrink\": .8})\n",
    "\n",
    "# Set title for better understanding\n",
    "plt.title('Correlation Heatmap of Room Types and Cancellation Status')\n",
    "plt.show()\n"
   ]
  },
  {
   "cell_type": "markdown",
   "metadata": {},
   "source": [
    "#### conclusion:"
   ]
  },
  {
   "cell_type": "markdown",
   "metadata": {},
   "source": [
    "### \n",
    "The correlation heatmap of the canceled_rooms DataFrame reveals important relationships among the variables reserved_room_type, assigned_room_type, and is_canceled.\n",
    "\n",
    "Room Types Correlation:\n",
    "If the correlation between reserved_room_type and assigned_room_type is high (close to 1), it indicates that guests typically receive the room they reserved, suggesting efficient management of room assignments.\n",
    "\n",
    "Cancellation Insights:\n",
    "A strong negative correlation between either room type and is_canceled suggests that certain room types are less likely to be canceled. This could indicate popularity or customer satisfaction with those specific types.\n",
    "Conversely, if a room type has a high positive correlation with is_canceled, it may point to issues that make that room type less desirable."
   ]
  },
  {
   "cell_type": "markdown",
   "metadata": {
    "id": "o5SKAFmDM3z5"
   },
   "source": [
    "# 3. Feature Engineering (20%)\n",
    "\n",
    "\n",
    "---\n",
    "\n",
    "\n",
    "\n",
    "\n",
    "\n",
    "Apply various feature engineering techniques, covered in the lectures and practicals.\n",
    "\n",
    "Hint:\n",
    "* Binning\n",
    "* Encoding\n",
    "* Scaling\n",
    "* Feature selection"
   ]
  },
  {
   "cell_type": "markdown",
   "metadata": {},
   "source": [
    "## 3.1. Binning"
   ]
  },
  {
   "cell_type": "code",
   "execution_count": 43,
   "metadata": {
    "id": "CyBKkMrMQ088"
   },
   "outputs": [
    {
     "data": {
      "text/plain": [
       "<seaborn.axisgrid.FacetGrid at 0x177e282c0>"
      ]
     },
     "execution_count": 43,
     "metadata": {},
     "output_type": "execute_result"
    },
    {
     "data": {
      "image/png": "[encoded data removed]",
      "text/plain": [
       "<Figure size 500x500 with 1 Axes>"
      ]
     },
     "metadata": {},
     "output_type": "display_data"
    }
   ],
   "source": [
    "#Create a distribution plot for the 'adr' (average daily rate) variable\n",
    "sb.displot(data = fulldata, x = 'adr', bins = 20)"
   ]
  },
  {
   "cell_type": "markdown",
   "metadata": {},
   "source": [
    "##### Binning reduces the noise in the data and makes it easier to visualise and analyse trends. It allows you to summarise large datasets by organizing data into intervals. \n",
    "##### As it can be seen in the above graph using bins narrows the data making it easier to assess."
   ]
  },
  {
   "cell_type": "markdown",
   "metadata": {},
   "source": [
    "## 3.2. Encoding"
   ]
  },
  {
   "cell_type": "markdown",
   "metadata": {},
   "source": [
    "#### Hotel column:"
   ]
  },
  {
   "cell_type": "code",
   "execution_count": 44,
   "metadata": {
    "id": "CyBKkMrMQ088"
   },
   "outputs": [],
   "source": [
    "#access the interget values in the category data\n",
    "fulldata['hotel'] = fulldata['hotel'].astype('category').cat.codes"
   ]
  },
  {
   "cell_type": "code",
   "execution_count": 45,
   "metadata": {},
   "outputs": [],
   "source": [
    "fulldata.reset_index(drop=True,inplace=True)"
   ]
  },
  {
   "cell_type": "markdown",
   "metadata": {},
   "source": [
    "#### Meal column:"
   ]
  },
  {
   "cell_type": "code",
   "execution_count": 46,
   "metadata": {},
   "outputs": [
    {
     "data": {
      "text/html": [
       "<div>\n",
       "<style scoped>\n",
       "    .dataframe tbody tr th:only-of-type {\n",
       "        vertical-align: middle;\n",
       "    }\n",
       "\n",
       "    .dataframe tbody tr th {\n",
       "        vertical-align: top;\n",
       "    }\n",
       "\n",
       "    .dataframe thead th {\n",
       "        text-align: right;\n",
       "    }\n",
       "</style>\n",
       "<table border=\"1\" class=\"dataframe\">\n",
       "  <thead>\n",
       "    <tr style=\"text-align: right;\">\n",
       "      <th></th>\n",
       "      <th>hotel</th>\n",
       "      <th>is_canceled</th>\n",
       "      <th>lead_time</th>\n",
       "      <th>stays_in_weekend_nights</th>\n",
       "      <th>stays_in_week_nights</th>\n",
       "      <th>adults</th>\n",
       "      <th>children</th>\n",
       "      <th>babies</th>\n",
       "      <th>distribution_channel</th>\n",
       "      <th>is_repeated_guest</th>\n",
       "      <th>...</th>\n",
       "      <th>days_in_waiting_list</th>\n",
       "      <th>customer_type</th>\n",
       "      <th>adr</th>\n",
       "      <th>required_car_parking_spaces</th>\n",
       "      <th>total_of_special_requests</th>\n",
       "      <th>meal_BB</th>\n",
       "      <th>meal_FB</th>\n",
       "      <th>meal_HB</th>\n",
       "      <th>meal_SC</th>\n",
       "      <th>meal_Undefined</th>\n",
       "    </tr>\n",
       "  </thead>\n",
       "  <tbody>\n",
       "    <tr>\n",
       "      <th>0</th>\n",
       "      <td>1</td>\n",
       "      <td>0</td>\n",
       "      <td>7</td>\n",
       "      <td>0</td>\n",
       "      <td>1</td>\n",
       "      <td>1</td>\n",
       "      <td>0</td>\n",
       "      <td>0</td>\n",
       "      <td>Direct</td>\n",
       "      <td>0</td>\n",
       "      <td>...</td>\n",
       "      <td>0</td>\n",
       "      <td>Transient</td>\n",
       "      <td>75.00</td>\n",
       "      <td>0</td>\n",
       "      <td>0</td>\n",
       "      <td>1.0</td>\n",
       "      <td>0.0</td>\n",
       "      <td>0.0</td>\n",
       "      <td>0.0</td>\n",
       "      <td>0.0</td>\n",
       "    </tr>\n",
       "    <tr>\n",
       "      <th>1</th>\n",
       "      <td>1</td>\n",
       "      <td>0</td>\n",
       "      <td>13</td>\n",
       "      <td>0</td>\n",
       "      <td>1</td>\n",
       "      <td>1</td>\n",
       "      <td>0</td>\n",
       "      <td>0</td>\n",
       "      <td>Corporate</td>\n",
       "      <td>0</td>\n",
       "      <td>...</td>\n",
       "      <td>0</td>\n",
       "      <td>Transient</td>\n",
       "      <td>75.00</td>\n",
       "      <td>0</td>\n",
       "      <td>0</td>\n",
       "      <td>1.0</td>\n",
       "      <td>0.0</td>\n",
       "      <td>0.0</td>\n",
       "      <td>0.0</td>\n",
       "      <td>0.0</td>\n",
       "    </tr>\n",
       "    <tr>\n",
       "      <th>2</th>\n",
       "      <td>1</td>\n",
       "      <td>0</td>\n",
       "      <td>14</td>\n",
       "      <td>0</td>\n",
       "      <td>2</td>\n",
       "      <td>2</td>\n",
       "      <td>0</td>\n",
       "      <td>0</td>\n",
       "      <td>TA/TO</td>\n",
       "      <td>0</td>\n",
       "      <td>...</td>\n",
       "      <td>0</td>\n",
       "      <td>Transient</td>\n",
       "      <td>98.00</td>\n",
       "      <td>0</td>\n",
       "      <td>1</td>\n",
       "      <td>1.0</td>\n",
       "      <td>0.0</td>\n",
       "      <td>0.0</td>\n",
       "      <td>0.0</td>\n",
       "      <td>0.0</td>\n",
       "    </tr>\n",
       "    <tr>\n",
       "      <th>3</th>\n",
       "      <td>1</td>\n",
       "      <td>0</td>\n",
       "      <td>14</td>\n",
       "      <td>0</td>\n",
       "      <td>2</td>\n",
       "      <td>2</td>\n",
       "      <td>0</td>\n",
       "      <td>0</td>\n",
       "      <td>TA/TO</td>\n",
       "      <td>0</td>\n",
       "      <td>...</td>\n",
       "      <td>0</td>\n",
       "      <td>Transient</td>\n",
       "      <td>98.00</td>\n",
       "      <td>0</td>\n",
       "      <td>1</td>\n",
       "      <td>1.0</td>\n",
       "      <td>0.0</td>\n",
       "      <td>0.0</td>\n",
       "      <td>0.0</td>\n",
       "      <td>0.0</td>\n",
       "    </tr>\n",
       "    <tr>\n",
       "      <th>4</th>\n",
       "      <td>1</td>\n",
       "      <td>0</td>\n",
       "      <td>0</td>\n",
       "      <td>0</td>\n",
       "      <td>2</td>\n",
       "      <td>2</td>\n",
       "      <td>0</td>\n",
       "      <td>0</td>\n",
       "      <td>Direct</td>\n",
       "      <td>0</td>\n",
       "      <td>...</td>\n",
       "      <td>0</td>\n",
       "      <td>Transient</td>\n",
       "      <td>107.00</td>\n",
       "      <td>0</td>\n",
       "      <td>0</td>\n",
       "      <td>1.0</td>\n",
       "      <td>0.0</td>\n",
       "      <td>0.0</td>\n",
       "      <td>0.0</td>\n",
       "      <td>0.0</td>\n",
       "    </tr>\n",
       "    <tr>\n",
       "      <th>...</th>\n",
       "      <td>...</td>\n",
       "      <td>...</td>\n",
       "      <td>...</td>\n",
       "      <td>...</td>\n",
       "      <td>...</td>\n",
       "      <td>...</td>\n",
       "      <td>...</td>\n",
       "      <td>...</td>\n",
       "      <td>...</td>\n",
       "      <td>...</td>\n",
       "      <td>...</td>\n",
       "      <td>...</td>\n",
       "      <td>...</td>\n",
       "      <td>...</td>\n",
       "      <td>...</td>\n",
       "      <td>...</td>\n",
       "      <td>...</td>\n",
       "      <td>...</td>\n",
       "      <td>...</td>\n",
       "      <td>...</td>\n",
       "      <td>...</td>\n",
       "    </tr>\n",
       "    <tr>\n",
       "      <th>105113</th>\n",
       "      <td>0</td>\n",
       "      <td>0</td>\n",
       "      <td>164</td>\n",
       "      <td>2</td>\n",
       "      <td>4</td>\n",
       "      <td>2</td>\n",
       "      <td>0</td>\n",
       "      <td>0</td>\n",
       "      <td>TA/TO</td>\n",
       "      <td>0</td>\n",
       "      <td>...</td>\n",
       "      <td>0</td>\n",
       "      <td>Transient</td>\n",
       "      <td>87.60</td>\n",
       "      <td>0</td>\n",
       "      <td>0</td>\n",
       "      <td>1.0</td>\n",
       "      <td>0.0</td>\n",
       "      <td>0.0</td>\n",
       "      <td>0.0</td>\n",
       "      <td>0.0</td>\n",
       "    </tr>\n",
       "    <tr>\n",
       "      <th>105114</th>\n",
       "      <td>0</td>\n",
       "      <td>0</td>\n",
       "      <td>21</td>\n",
       "      <td>2</td>\n",
       "      <td>5</td>\n",
       "      <td>2</td>\n",
       "      <td>0</td>\n",
       "      <td>0</td>\n",
       "      <td>TA/TO</td>\n",
       "      <td>0</td>\n",
       "      <td>...</td>\n",
       "      <td>0</td>\n",
       "      <td>Transient</td>\n",
       "      <td>96.14</td>\n",
       "      <td>0</td>\n",
       "      <td>2</td>\n",
       "      <td>1.0</td>\n",
       "      <td>0.0</td>\n",
       "      <td>0.0</td>\n",
       "      <td>0.0</td>\n",
       "      <td>0.0</td>\n",
       "    </tr>\n",
       "    <tr>\n",
       "      <th>105115</th>\n",
       "      <td>0</td>\n",
       "      <td>0</td>\n",
       "      <td>23</td>\n",
       "      <td>2</td>\n",
       "      <td>5</td>\n",
       "      <td>2</td>\n",
       "      <td>0</td>\n",
       "      <td>0</td>\n",
       "      <td>TA/TO</td>\n",
       "      <td>0</td>\n",
       "      <td>...</td>\n",
       "      <td>0</td>\n",
       "      <td>Transient</td>\n",
       "      <td>96.14</td>\n",
       "      <td>0</td>\n",
       "      <td>0</td>\n",
       "      <td>1.0</td>\n",
       "      <td>0.0</td>\n",
       "      <td>0.0</td>\n",
       "      <td>0.0</td>\n",
       "      <td>0.0</td>\n",
       "    </tr>\n",
       "    <tr>\n",
       "      <th>105116</th>\n",
       "      <td>0</td>\n",
       "      <td>0</td>\n",
       "      <td>34</td>\n",
       "      <td>2</td>\n",
       "      <td>5</td>\n",
       "      <td>2</td>\n",
       "      <td>0</td>\n",
       "      <td>0</td>\n",
       "      <td>TA/TO</td>\n",
       "      <td>0</td>\n",
       "      <td>...</td>\n",
       "      <td>0</td>\n",
       "      <td>Transient</td>\n",
       "      <td>157.71</td>\n",
       "      <td>0</td>\n",
       "      <td>4</td>\n",
       "      <td>1.0</td>\n",
       "      <td>0.0</td>\n",
       "      <td>0.0</td>\n",
       "      <td>0.0</td>\n",
       "      <td>0.0</td>\n",
       "    </tr>\n",
       "    <tr>\n",
       "      <th>105117</th>\n",
       "      <td>0</td>\n",
       "      <td>0</td>\n",
       "      <td>109</td>\n",
       "      <td>2</td>\n",
       "      <td>5</td>\n",
       "      <td>2</td>\n",
       "      <td>0</td>\n",
       "      <td>0</td>\n",
       "      <td>TA/TO</td>\n",
       "      <td>0</td>\n",
       "      <td>...</td>\n",
       "      <td>0</td>\n",
       "      <td>Transient</td>\n",
       "      <td>104.40</td>\n",
       "      <td>0</td>\n",
       "      <td>0</td>\n",
       "      <td>1.0</td>\n",
       "      <td>0.0</td>\n",
       "      <td>0.0</td>\n",
       "      <td>0.0</td>\n",
       "      <td>0.0</td>\n",
       "    </tr>\n",
       "  </tbody>\n",
       "</table>\n",
       "<p>105118 rows × 26 columns</p>\n",
       "</div>"
      ],
      "text/plain": [
       "        hotel  is_canceled  lead_time  stays_in_weekend_nights  \\\n",
       "0           1            0          7                        0   \n",
       "1           1            0         13                        0   \n",
       "2           1            0         14                        0   \n",
       "3           1            0         14                        0   \n",
       "4           1            0          0                        0   \n",
       "...       ...          ...        ...                      ...   \n",
       "105113      0            0        164                        2   \n",
       "105114      0            0         21                        2   \n",
       "105115      0            0         23                        2   \n",
       "105116      0            0         34                        2   \n",
       "105117      0            0        109                        2   \n",
       "\n",
       "        stays_in_week_nights  adults  children  babies distribution_channel  \\\n",
       "0                          1       1         0       0               Direct   \n",
       "1                          1       1         0       0            Corporate   \n",
       "2                          2       2         0       0                TA/TO   \n",
       "3                          2       2         0       0                TA/TO   \n",
       "4                          2       2         0       0               Direct   \n",
       "...                      ...     ...       ...     ...                  ...   \n",
       "105113                     4       2         0       0                TA/TO   \n",
       "105114                     5       2         0       0                TA/TO   \n",
       "105115                     5       2         0       0                TA/TO   \n",
       "105116                     5       2         0       0                TA/TO   \n",
       "105117                     5       2         0       0                TA/TO   \n",
       "\n",
       "        is_repeated_guest  ...  days_in_waiting_list  customer_type     adr  \\\n",
       "0                       0  ...                     0      Transient   75.00   \n",
       "1                       0  ...                     0      Transient   75.00   \n",
       "2                       0  ...                     0      Transient   98.00   \n",
       "3                       0  ...                     0      Transient   98.00   \n",
       "4                       0  ...                     0      Transient  107.00   \n",
       "...                   ...  ...                   ...            ...     ...   \n",
       "105113                  0  ...                     0      Transient   87.60   \n",
       "105114                  0  ...                     0      Transient   96.14   \n",
       "105115                  0  ...                     0      Transient   96.14   \n",
       "105116                  0  ...                     0      Transient  157.71   \n",
       "105117                  0  ...                     0      Transient  104.40   \n",
       "\n",
       "        required_car_parking_spaces  total_of_special_requests meal_BB  \\\n",
       "0                                 0                          0     1.0   \n",
       "1                                 0                          0     1.0   \n",
       "2                                 0                          1     1.0   \n",
       "3                                 0                          1     1.0   \n",
       "4                                 0                          0     1.0   \n",
       "...                             ...                        ...     ...   \n",
       "105113                            0                          0     1.0   \n",
       "105114                            0                          2     1.0   \n",
       "105115                            0                          0     1.0   \n",
       "105116                            0                          4     1.0   \n",
       "105117                            0                          0     1.0   \n",
       "\n",
       "        meal_FB meal_HB  meal_SC  meal_Undefined  \n",
       "0           0.0     0.0      0.0             0.0  \n",
       "1           0.0     0.0      0.0             0.0  \n",
       "2           0.0     0.0      0.0             0.0  \n",
       "3           0.0     0.0      0.0             0.0  \n",
       "4           0.0     0.0      0.0             0.0  \n",
       "...         ...     ...      ...             ...  \n",
       "105113      0.0     0.0      0.0             0.0  \n",
       "105114      0.0     0.0      0.0             0.0  \n",
       "105115      0.0     0.0      0.0             0.0  \n",
       "105116      0.0     0.0      0.0             0.0  \n",
       "105117      0.0     0.0      0.0             0.0  \n",
       "\n",
       "[105118 rows x 26 columns]"
      ]
     },
     "execution_count": 46,
     "metadata": {},
     "output_type": "execute_result"
    }
   ],
   "source": [
    "ohe = OneHotEncoder(sparse_output= False)\n",
    "\n",
    "#applying One Hot coding to the meal column:\n",
    "ohe_coded = ohe.fit_transform(fulldata[['meal']])\n",
    "\n",
    "#converting the resutl into Dataframe:\n",
    "one_hot = pd.DataFrame(ohe_coded, columns= ohe.get_feature_names_out(['meal']))\n",
    "\n",
    "#drop original column\n",
    "fulldata = fulldata.drop('meal', axis = 1)\n",
    "\n",
    "#join the new One Hot code to the original\n",
    "fulldata = fulldata.join(one_hot)\n",
    "\n",
    "fulldata"
   ]
  },
  {
   "cell_type": "markdown",
   "metadata": {},
   "source": [
    "#### Distribution_channel:"
   ]
  },
  {
   "cell_type": "code",
   "execution_count": 47,
   "metadata": {},
   "outputs": [
    {
     "data": {
      "text/html": [
       "<div>\n",
       "<style scoped>\n",
       "    .dataframe tbody tr th:only-of-type {\n",
       "        vertical-align: middle;\n",
       "    }\n",
       "\n",
       "    .dataframe tbody tr th {\n",
       "        vertical-align: top;\n",
       "    }\n",
       "\n",
       "    .dataframe thead th {\n",
       "        text-align: right;\n",
       "    }\n",
       "</style>\n",
       "<table border=\"1\" class=\"dataframe\">\n",
       "  <thead>\n",
       "    <tr style=\"text-align: right;\">\n",
       "      <th></th>\n",
       "      <th>hotel</th>\n",
       "      <th>is_canceled</th>\n",
       "      <th>lead_time</th>\n",
       "      <th>stays_in_weekend_nights</th>\n",
       "      <th>stays_in_week_nights</th>\n",
       "      <th>adults</th>\n",
       "      <th>children</th>\n",
       "      <th>babies</th>\n",
       "      <th>is_repeated_guest</th>\n",
       "      <th>previous_cancellations</th>\n",
       "      <th>...</th>\n",
       "      <th>meal_BB</th>\n",
       "      <th>meal_FB</th>\n",
       "      <th>meal_HB</th>\n",
       "      <th>meal_SC</th>\n",
       "      <th>meal_Undefined</th>\n",
       "      <th>distribution_channel_Corporate</th>\n",
       "      <th>distribution_channel_Direct</th>\n",
       "      <th>distribution_channel_GDS</th>\n",
       "      <th>distribution_channel_TA/TO</th>\n",
       "      <th>distribution_channel_Undefined</th>\n",
       "    </tr>\n",
       "  </thead>\n",
       "  <tbody>\n",
       "    <tr>\n",
       "      <th>0</th>\n",
       "      <td>1</td>\n",
       "      <td>0</td>\n",
       "      <td>7</td>\n",
       "      <td>0</td>\n",
       "      <td>1</td>\n",
       "      <td>1</td>\n",
       "      <td>0</td>\n",
       "      <td>0</td>\n",
       "      <td>0</td>\n",
       "      <td>0</td>\n",
       "      <td>...</td>\n",
       "      <td>1.0</td>\n",
       "      <td>0.0</td>\n",
       "      <td>0.0</td>\n",
       "      <td>0.0</td>\n",
       "      <td>0.0</td>\n",
       "      <td>0.0</td>\n",
       "      <td>1.0</td>\n",
       "      <td>0.0</td>\n",
       "      <td>0.0</td>\n",
       "      <td>0.0</td>\n",
       "    </tr>\n",
       "    <tr>\n",
       "      <th>1</th>\n",
       "      <td>1</td>\n",
       "      <td>0</td>\n",
       "      <td>13</td>\n",
       "      <td>0</td>\n",
       "      <td>1</td>\n",
       "      <td>1</td>\n",
       "      <td>0</td>\n",
       "      <td>0</td>\n",
       "      <td>0</td>\n",
       "      <td>0</td>\n",
       "      <td>...</td>\n",
       "      <td>1.0</td>\n",
       "      <td>0.0</td>\n",
       "      <td>0.0</td>\n",
       "      <td>0.0</td>\n",
       "      <td>0.0</td>\n",
       "      <td>1.0</td>\n",
       "      <td>0.0</td>\n",
       "      <td>0.0</td>\n",
       "      <td>0.0</td>\n",
       "      <td>0.0</td>\n",
       "    </tr>\n",
       "    <tr>\n",
       "      <th>2</th>\n",
       "      <td>1</td>\n",
       "      <td>0</td>\n",
       "      <td>14</td>\n",
       "      <td>0</td>\n",
       "      <td>2</td>\n",
       "      <td>2</td>\n",
       "      <td>0</td>\n",
       "      <td>0</td>\n",
       "      <td>0</td>\n",
       "      <td>0</td>\n",
       "      <td>...</td>\n",
       "      <td>1.0</td>\n",
       "      <td>0.0</td>\n",
       "      <td>0.0</td>\n",
       "      <td>0.0</td>\n",
       "      <td>0.0</td>\n",
       "      <td>0.0</td>\n",
       "      <td>0.0</td>\n",
       "      <td>0.0</td>\n",
       "      <td>1.0</td>\n",
       "      <td>0.0</td>\n",
       "    </tr>\n",
       "    <tr>\n",
       "      <th>3</th>\n",
       "      <td>1</td>\n",
       "      <td>0</td>\n",
       "      <td>14</td>\n",
       "      <td>0</td>\n",
       "      <td>2</td>\n",
       "      <td>2</td>\n",
       "      <td>0</td>\n",
       "      <td>0</td>\n",
       "      <td>0</td>\n",
       "      <td>0</td>\n",
       "      <td>...</td>\n",
       "      <td>1.0</td>\n",
       "      <td>0.0</td>\n",
       "      <td>0.0</td>\n",
       "      <td>0.0</td>\n",
       "      <td>0.0</td>\n",
       "      <td>0.0</td>\n",
       "      <td>0.0</td>\n",
       "      <td>0.0</td>\n",
       "      <td>1.0</td>\n",
       "      <td>0.0</td>\n",
       "    </tr>\n",
       "    <tr>\n",
       "      <th>4</th>\n",
       "      <td>1</td>\n",
       "      <td>0</td>\n",
       "      <td>0</td>\n",
       "      <td>0</td>\n",
       "      <td>2</td>\n",
       "      <td>2</td>\n",
       "      <td>0</td>\n",
       "      <td>0</td>\n",
       "      <td>0</td>\n",
       "      <td>0</td>\n",
       "      <td>...</td>\n",
       "      <td>1.0</td>\n",
       "      <td>0.0</td>\n",
       "      <td>0.0</td>\n",
       "      <td>0.0</td>\n",
       "      <td>0.0</td>\n",
       "      <td>0.0</td>\n",
       "      <td>1.0</td>\n",
       "      <td>0.0</td>\n",
       "      <td>0.0</td>\n",
       "      <td>0.0</td>\n",
       "    </tr>\n",
       "    <tr>\n",
       "      <th>...</th>\n",
       "      <td>...</td>\n",
       "      <td>...</td>\n",
       "      <td>...</td>\n",
       "      <td>...</td>\n",
       "      <td>...</td>\n",
       "      <td>...</td>\n",
       "      <td>...</td>\n",
       "      <td>...</td>\n",
       "      <td>...</td>\n",
       "      <td>...</td>\n",
       "      <td>...</td>\n",
       "      <td>...</td>\n",
       "      <td>...</td>\n",
       "      <td>...</td>\n",
       "      <td>...</td>\n",
       "      <td>...</td>\n",
       "      <td>...</td>\n",
       "      <td>...</td>\n",
       "      <td>...</td>\n",
       "      <td>...</td>\n",
       "      <td>...</td>\n",
       "    </tr>\n",
       "    <tr>\n",
       "      <th>105113</th>\n",
       "      <td>0</td>\n",
       "      <td>0</td>\n",
       "      <td>164</td>\n",
       "      <td>2</td>\n",
       "      <td>4</td>\n",
       "      <td>2</td>\n",
       "      <td>0</td>\n",
       "      <td>0</td>\n",
       "      <td>0</td>\n",
       "      <td>0</td>\n",
       "      <td>...</td>\n",
       "      <td>1.0</td>\n",
       "      <td>0.0</td>\n",
       "      <td>0.0</td>\n",
       "      <td>0.0</td>\n",
       "      <td>0.0</td>\n",
       "      <td>0.0</td>\n",
       "      <td>0.0</td>\n",
       "      <td>0.0</td>\n",
       "      <td>1.0</td>\n",
       "      <td>0.0</td>\n",
       "    </tr>\n",
       "    <tr>\n",
       "      <th>105114</th>\n",
       "      <td>0</td>\n",
       "      <td>0</td>\n",
       "      <td>21</td>\n",
       "      <td>2</td>\n",
       "      <td>5</td>\n",
       "      <td>2</td>\n",
       "      <td>0</td>\n",
       "      <td>0</td>\n",
       "      <td>0</td>\n",
       "      <td>0</td>\n",
       "      <td>...</td>\n",
       "      <td>1.0</td>\n",
       "      <td>0.0</td>\n",
       "      <td>0.0</td>\n",
       "      <td>0.0</td>\n",
       "      <td>0.0</td>\n",
       "      <td>0.0</td>\n",
       "      <td>0.0</td>\n",
       "      <td>0.0</td>\n",
       "      <td>1.0</td>\n",
       "      <td>0.0</td>\n",
       "    </tr>\n",
       "    <tr>\n",
       "      <th>105115</th>\n",
       "      <td>0</td>\n",
       "      <td>0</td>\n",
       "      <td>23</td>\n",
       "      <td>2</td>\n",
       "      <td>5</td>\n",
       "      <td>2</td>\n",
       "      <td>0</td>\n",
       "      <td>0</td>\n",
       "      <td>0</td>\n",
       "      <td>0</td>\n",
       "      <td>...</td>\n",
       "      <td>1.0</td>\n",
       "      <td>0.0</td>\n",
       "      <td>0.0</td>\n",
       "      <td>0.0</td>\n",
       "      <td>0.0</td>\n",
       "      <td>0.0</td>\n",
       "      <td>0.0</td>\n",
       "      <td>0.0</td>\n",
       "      <td>1.0</td>\n",
       "      <td>0.0</td>\n",
       "    </tr>\n",
       "    <tr>\n",
       "      <th>105116</th>\n",
       "      <td>0</td>\n",
       "      <td>0</td>\n",
       "      <td>34</td>\n",
       "      <td>2</td>\n",
       "      <td>5</td>\n",
       "      <td>2</td>\n",
       "      <td>0</td>\n",
       "      <td>0</td>\n",
       "      <td>0</td>\n",
       "      <td>0</td>\n",
       "      <td>...</td>\n",
       "      <td>1.0</td>\n",
       "      <td>0.0</td>\n",
       "      <td>0.0</td>\n",
       "      <td>0.0</td>\n",
       "      <td>0.0</td>\n",
       "      <td>0.0</td>\n",
       "      <td>0.0</td>\n",
       "      <td>0.0</td>\n",
       "      <td>1.0</td>\n",
       "      <td>0.0</td>\n",
       "    </tr>\n",
       "    <tr>\n",
       "      <th>105117</th>\n",
       "      <td>0</td>\n",
       "      <td>0</td>\n",
       "      <td>109</td>\n",
       "      <td>2</td>\n",
       "      <td>5</td>\n",
       "      <td>2</td>\n",
       "      <td>0</td>\n",
       "      <td>0</td>\n",
       "      <td>0</td>\n",
       "      <td>0</td>\n",
       "      <td>...</td>\n",
       "      <td>1.0</td>\n",
       "      <td>0.0</td>\n",
       "      <td>0.0</td>\n",
       "      <td>0.0</td>\n",
       "      <td>0.0</td>\n",
       "      <td>0.0</td>\n",
       "      <td>0.0</td>\n",
       "      <td>0.0</td>\n",
       "      <td>1.0</td>\n",
       "      <td>0.0</td>\n",
       "    </tr>\n",
       "  </tbody>\n",
       "</table>\n",
       "<p>105118 rows × 30 columns</p>\n",
       "</div>"
      ],
      "text/plain": [
       "        hotel  is_canceled  lead_time  stays_in_weekend_nights  \\\n",
       "0           1            0          7                        0   \n",
       "1           1            0         13                        0   \n",
       "2           1            0         14                        0   \n",
       "3           1            0         14                        0   \n",
       "4           1            0          0                        0   \n",
       "...       ...          ...        ...                      ...   \n",
       "105113      0            0        164                        2   \n",
       "105114      0            0         21                        2   \n",
       "105115      0            0         23                        2   \n",
       "105116      0            0         34                        2   \n",
       "105117      0            0        109                        2   \n",
       "\n",
       "        stays_in_week_nights  adults  children  babies  is_repeated_guest  \\\n",
       "0                          1       1         0       0                  0   \n",
       "1                          1       1         0       0                  0   \n",
       "2                          2       2         0       0                  0   \n",
       "3                          2       2         0       0                  0   \n",
       "4                          2       2         0       0                  0   \n",
       "...                      ...     ...       ...     ...                ...   \n",
       "105113                     4       2         0       0                  0   \n",
       "105114                     5       2         0       0                  0   \n",
       "105115                     5       2         0       0                  0   \n",
       "105116                     5       2         0       0                  0   \n",
       "105117                     5       2         0       0                  0   \n",
       "\n",
       "        previous_cancellations  ...  meal_BB  meal_FB  meal_HB  meal_SC  \\\n",
       "0                            0  ...      1.0      0.0      0.0      0.0   \n",
       "1                            0  ...      1.0      0.0      0.0      0.0   \n",
       "2                            0  ...      1.0      0.0      0.0      0.0   \n",
       "3                            0  ...      1.0      0.0      0.0      0.0   \n",
       "4                            0  ...      1.0      0.0      0.0      0.0   \n",
       "...                        ...  ...      ...      ...      ...      ...   \n",
       "105113                       0  ...      1.0      0.0      0.0      0.0   \n",
       "105114                       0  ...      1.0      0.0      0.0      0.0   \n",
       "105115                       0  ...      1.0      0.0      0.0      0.0   \n",
       "105116                       0  ...      1.0      0.0      0.0      0.0   \n",
       "105117                       0  ...      1.0      0.0      0.0      0.0   \n",
       "\n",
       "       meal_Undefined  distribution_channel_Corporate  \\\n",
       "0                 0.0                             0.0   \n",
       "1                 0.0                             1.0   \n",
       "2                 0.0                             0.0   \n",
       "3                 0.0                             0.0   \n",
       "4                 0.0                             0.0   \n",
       "...               ...                             ...   \n",
       "105113            0.0                             0.0   \n",
       "105114            0.0                             0.0   \n",
       "105115            0.0                             0.0   \n",
       "105116            0.0                             0.0   \n",
       "105117            0.0                             0.0   \n",
       "\n",
       "       distribution_channel_Direct  distribution_channel_GDS  \\\n",
       "0                              1.0                       0.0   \n",
       "1                              0.0                       0.0   \n",
       "2                              0.0                       0.0   \n",
       "3                              0.0                       0.0   \n",
       "4                              1.0                       0.0   \n",
       "...                            ...                       ...   \n",
       "105113                         0.0                       0.0   \n",
       "105114                         0.0                       0.0   \n",
       "105115                         0.0                       0.0   \n",
       "105116                         0.0                       0.0   \n",
       "105117                         0.0                       0.0   \n",
       "\n",
       "        distribution_channel_TA/TO  distribution_channel_Undefined  \n",
       "0                              0.0                             0.0  \n",
       "1                              0.0                             0.0  \n",
       "2                              1.0                             0.0  \n",
       "3                              1.0                             0.0  \n",
       "4                              0.0                             0.0  \n",
       "...                            ...                             ...  \n",
       "105113                         1.0                             0.0  \n",
       "105114                         1.0                             0.0  \n",
       "105115                         1.0                             0.0  \n",
       "105116                         1.0                             0.0  \n",
       "105117                         1.0                             0.0  \n",
       "\n",
       "[105118 rows x 30 columns]"
      ]
     },
     "execution_count": 47,
     "metadata": {},
     "output_type": "execute_result"
    }
   ],
   "source": [
    "\n",
    "#applying One Hot coding to the distribution_channel column:\n",
    "ohe_coded = ohe.fit_transform(fulldata[['distribution_channel']])\n",
    "\n",
    "#converting the resutl into Dataframe:\n",
    "one_hot = pd.DataFrame(ohe_coded, columns= ohe.get_feature_names_out(['distribution_channel']))\n",
    "\n",
    "#drop original column\n",
    "fulldata = fulldata.drop('distribution_channel', axis = 1)\n",
    "\n",
    "#join the new One Hot code to the original\n",
    "fulldata = fulldata.join(one_hot)\n",
    "\n",
    "fulldata"
   ]
  },
  {
   "cell_type": "markdown",
   "metadata": {},
   "source": [
    "### Deposit_type:"
   ]
  },
  {
   "cell_type": "code",
   "execution_count": 48,
   "metadata": {},
   "outputs": [
    {
     "name": "stderr",
     "output_type": "stream",
     "text": [
      "/var/folders/1j/fs5z60_j3v1dvsb4s00k2_r00000gn/T/ipykernel_2181/2402214467.py:4: FutureWarning: Downcasting behavior in `replace` is deprecated and will be removed in a future version. To retain the old behavior, explicitly call `result.infer_objects(copy=False)`. To opt-in to the future behavior, set `pd.set_option('future.no_silent_downcasting', True)`\n",
      "  fulldata['deposit_type'] = fulldata['deposit_type'].replace({deposit_type[0]:0, deposit_type[1]: 1, deposit_type[2]:2})\n"
     ]
    },
    {
     "data": {
      "text/plain": [
       "deposit_type\n",
       "0    92781\n",
       "2    12186\n",
       "1      151\n",
       "Name: count, dtype: int64"
      ]
     },
     "execution_count": 48,
     "metadata": {},
     "output_type": "execute_result"
    }
   ],
   "source": [
    "#using the replace(() function to manually convert the data:\n",
    "deposit_type = fulldata.deposit_type.unique()\n",
    "\n",
    "fulldata['deposit_type'] = fulldata['deposit_type'].replace({deposit_type[0]:0, deposit_type[1]: 1, deposit_type[2]:2})\n",
    "\n",
    "fulldata.deposit_type.value_counts()\n"
   ]
  },
  {
   "cell_type": "code",
   "execution_count": 49,
   "metadata": {},
   "outputs": [
    {
     "name": "stdout",
     "output_type": "stream",
     "text": [
      "<class 'pandas.core.frame.DataFrame'>\n",
      "RangeIndex: 105118 entries, 0 to 105117\n",
      "Data columns (total 30 columns):\n",
      " #   Column                          Non-Null Count   Dtype  \n",
      "---  ------                          --------------   -----  \n",
      " 0   hotel                           105118 non-null  int8   \n",
      " 1   is_canceled                     105118 non-null  int64  \n",
      " 2   lead_time                       105118 non-null  int64  \n",
      " 3   stays_in_weekend_nights         105118 non-null  int64  \n",
      " 4   stays_in_week_nights            105118 non-null  int64  \n",
      " 5   adults                          105118 non-null  int64  \n",
      " 6   children                        105118 non-null  int64  \n",
      " 7   babies                          105118 non-null  int64  \n",
      " 8   is_repeated_guest               105118 non-null  int64  \n",
      " 9   previous_cancellations          105118 non-null  int64  \n",
      " 10  previous_bookings_not_canceled  105118 non-null  int64  \n",
      " 11  reserved_room_type              105118 non-null  int8   \n",
      " 12  assigned_room_type              105118 non-null  int8   \n",
      " 13  booking_changes                 105118 non-null  int64  \n",
      " 14  deposit_type                    105118 non-null  int64  \n",
      " 15  days_in_waiting_list            105118 non-null  int64  \n",
      " 16  customer_type                   105118 non-null  object \n",
      " 17  adr                             105118 non-null  float64\n",
      " 18  required_car_parking_spaces     105118 non-null  int64  \n",
      " 19  total_of_special_requests       105118 non-null  int64  \n",
      " 20  meal_BB                         105118 non-null  float64\n",
      " 21  meal_FB                         105118 non-null  float64\n",
      " 22  meal_HB                         105118 non-null  float64\n",
      " 23  meal_SC                         105118 non-null  float64\n",
      " 24  meal_Undefined                  105118 non-null  float64\n",
      " 25  distribution_channel_Corporate  105118 non-null  float64\n",
      " 26  distribution_channel_Direct     105118 non-null  float64\n",
      " 27  distribution_channel_GDS        105118 non-null  float64\n",
      " 28  distribution_channel_TA/TO      105118 non-null  float64\n",
      " 29  distribution_channel_Undefined  105118 non-null  float64\n",
      "dtypes: float64(11), int64(15), int8(3), object(1)\n",
      "memory usage: 22.0+ MB\n"
     ]
    }
   ],
   "source": [
    "# Checking to see all the columns are no longer have object datatype:\n",
    "fulldata.info()"
   ]
  },
  {
   "cell_type": "code",
   "execution_count": 50,
   "metadata": {},
   "outputs": [
    {
     "data": {
      "text/html": [
       "<div>\n",
       "<style scoped>\n",
       "    .dataframe tbody tr th:only-of-type {\n",
       "        vertical-align: middle;\n",
       "    }\n",
       "\n",
       "    .dataframe tbody tr th {\n",
       "        vertical-align: top;\n",
       "    }\n",
       "\n",
       "    .dataframe thead th {\n",
       "        text-align: right;\n",
       "    }\n",
       "</style>\n",
       "<table border=\"1\" class=\"dataframe\">\n",
       "  <thead>\n",
       "    <tr style=\"text-align: right;\">\n",
       "      <th></th>\n",
       "      <th>hotel</th>\n",
       "      <th>is_canceled</th>\n",
       "      <th>lead_time</th>\n",
       "      <th>stays_in_weekend_nights</th>\n",
       "      <th>stays_in_week_nights</th>\n",
       "      <th>adults</th>\n",
       "      <th>children</th>\n",
       "      <th>babies</th>\n",
       "      <th>is_repeated_guest</th>\n",
       "      <th>previous_cancellations</th>\n",
       "      <th>...</th>\n",
       "      <th>meal_Undefined</th>\n",
       "      <th>distribution_channel_Corporate</th>\n",
       "      <th>distribution_channel_Direct</th>\n",
       "      <th>distribution_channel_GDS</th>\n",
       "      <th>distribution_channel_TA/TO</th>\n",
       "      <th>distribution_channel_Undefined</th>\n",
       "      <th>customer_type_Contract</th>\n",
       "      <th>customer_type_Group</th>\n",
       "      <th>customer_type_Transient</th>\n",
       "      <th>customer_type_Transient-Party</th>\n",
       "    </tr>\n",
       "  </thead>\n",
       "  <tbody>\n",
       "    <tr>\n",
       "      <th>0</th>\n",
       "      <td>1</td>\n",
       "      <td>0</td>\n",
       "      <td>7</td>\n",
       "      <td>0</td>\n",
       "      <td>1</td>\n",
       "      <td>1</td>\n",
       "      <td>0</td>\n",
       "      <td>0</td>\n",
       "      <td>0</td>\n",
       "      <td>0</td>\n",
       "      <td>...</td>\n",
       "      <td>0.0</td>\n",
       "      <td>0.0</td>\n",
       "      <td>1.0</td>\n",
       "      <td>0.0</td>\n",
       "      <td>0.0</td>\n",
       "      <td>0.0</td>\n",
       "      <td>0.0</td>\n",
       "      <td>0.0</td>\n",
       "      <td>1.0</td>\n",
       "      <td>0.0</td>\n",
       "    </tr>\n",
       "    <tr>\n",
       "      <th>1</th>\n",
       "      <td>1</td>\n",
       "      <td>0</td>\n",
       "      <td>13</td>\n",
       "      <td>0</td>\n",
       "      <td>1</td>\n",
       "      <td>1</td>\n",
       "      <td>0</td>\n",
       "      <td>0</td>\n",
       "      <td>0</td>\n",
       "      <td>0</td>\n",
       "      <td>...</td>\n",
       "      <td>0.0</td>\n",
       "      <td>1.0</td>\n",
       "      <td>0.0</td>\n",
       "      <td>0.0</td>\n",
       "      <td>0.0</td>\n",
       "      <td>0.0</td>\n",
       "      <td>0.0</td>\n",
       "      <td>0.0</td>\n",
       "      <td>1.0</td>\n",
       "      <td>0.0</td>\n",
       "    </tr>\n",
       "    <tr>\n",
       "      <th>2</th>\n",
       "      <td>1</td>\n",
       "      <td>0</td>\n",
       "      <td>14</td>\n",
       "      <td>0</td>\n",
       "      <td>2</td>\n",
       "      <td>2</td>\n",
       "      <td>0</td>\n",
       "      <td>0</td>\n",
       "      <td>0</td>\n",
       "      <td>0</td>\n",
       "      <td>...</td>\n",
       "      <td>0.0</td>\n",
       "      <td>0.0</td>\n",
       "      <td>0.0</td>\n",
       "      <td>0.0</td>\n",
       "      <td>1.0</td>\n",
       "      <td>0.0</td>\n",
       "      <td>0.0</td>\n",
       "      <td>0.0</td>\n",
       "      <td>1.0</td>\n",
       "      <td>0.0</td>\n",
       "    </tr>\n",
       "    <tr>\n",
       "      <th>3</th>\n",
       "      <td>1</td>\n",
       "      <td>0</td>\n",
       "      <td>14</td>\n",
       "      <td>0</td>\n",
       "      <td>2</td>\n",
       "      <td>2</td>\n",
       "      <td>0</td>\n",
       "      <td>0</td>\n",
       "      <td>0</td>\n",
       "      <td>0</td>\n",
       "      <td>...</td>\n",
       "      <td>0.0</td>\n",
       "      <td>0.0</td>\n",
       "      <td>0.0</td>\n",
       "      <td>0.0</td>\n",
       "      <td>1.0</td>\n",
       "      <td>0.0</td>\n",
       "      <td>0.0</td>\n",
       "      <td>0.0</td>\n",
       "      <td>1.0</td>\n",
       "      <td>0.0</td>\n",
       "    </tr>\n",
       "    <tr>\n",
       "      <th>4</th>\n",
       "      <td>1</td>\n",
       "      <td>0</td>\n",
       "      <td>0</td>\n",
       "      <td>0</td>\n",
       "      <td>2</td>\n",
       "      <td>2</td>\n",
       "      <td>0</td>\n",
       "      <td>0</td>\n",
       "      <td>0</td>\n",
       "      <td>0</td>\n",
       "      <td>...</td>\n",
       "      <td>0.0</td>\n",
       "      <td>0.0</td>\n",
       "      <td>1.0</td>\n",
       "      <td>0.0</td>\n",
       "      <td>0.0</td>\n",
       "      <td>0.0</td>\n",
       "      <td>0.0</td>\n",
       "      <td>0.0</td>\n",
       "      <td>1.0</td>\n",
       "      <td>0.0</td>\n",
       "    </tr>\n",
       "    <tr>\n",
       "      <th>...</th>\n",
       "      <td>...</td>\n",
       "      <td>...</td>\n",
       "      <td>...</td>\n",
       "      <td>...</td>\n",
       "      <td>...</td>\n",
       "      <td>...</td>\n",
       "      <td>...</td>\n",
       "      <td>...</td>\n",
       "      <td>...</td>\n",
       "      <td>...</td>\n",
       "      <td>...</td>\n",
       "      <td>...</td>\n",
       "      <td>...</td>\n",
       "      <td>...</td>\n",
       "      <td>...</td>\n",
       "      <td>...</td>\n",
       "      <td>...</td>\n",
       "      <td>...</td>\n",
       "      <td>...</td>\n",
       "      <td>...</td>\n",
       "      <td>...</td>\n",
       "    </tr>\n",
       "    <tr>\n",
       "      <th>105113</th>\n",
       "      <td>0</td>\n",
       "      <td>0</td>\n",
       "      <td>164</td>\n",
       "      <td>2</td>\n",
       "      <td>4</td>\n",
       "      <td>2</td>\n",
       "      <td>0</td>\n",
       "      <td>0</td>\n",
       "      <td>0</td>\n",
       "      <td>0</td>\n",
       "      <td>...</td>\n",
       "      <td>0.0</td>\n",
       "      <td>0.0</td>\n",
       "      <td>0.0</td>\n",
       "      <td>0.0</td>\n",
       "      <td>1.0</td>\n",
       "      <td>0.0</td>\n",
       "      <td>0.0</td>\n",
       "      <td>0.0</td>\n",
       "      <td>1.0</td>\n",
       "      <td>0.0</td>\n",
       "    </tr>\n",
       "    <tr>\n",
       "      <th>105114</th>\n",
       "      <td>0</td>\n",
       "      <td>0</td>\n",
       "      <td>21</td>\n",
       "      <td>2</td>\n",
       "      <td>5</td>\n",
       "      <td>2</td>\n",
       "      <td>0</td>\n",
       "      <td>0</td>\n",
       "      <td>0</td>\n",
       "      <td>0</td>\n",
       "      <td>...</td>\n",
       "      <td>0.0</td>\n",
       "      <td>0.0</td>\n",
       "      <td>0.0</td>\n",
       "      <td>0.0</td>\n",
       "      <td>1.0</td>\n",
       "      <td>0.0</td>\n",
       "      <td>0.0</td>\n",
       "      <td>0.0</td>\n",
       "      <td>1.0</td>\n",
       "      <td>0.0</td>\n",
       "    </tr>\n",
       "    <tr>\n",
       "      <th>105115</th>\n",
       "      <td>0</td>\n",
       "      <td>0</td>\n",
       "      <td>23</td>\n",
       "      <td>2</td>\n",
       "      <td>5</td>\n",
       "      <td>2</td>\n",
       "      <td>0</td>\n",
       "      <td>0</td>\n",
       "      <td>0</td>\n",
       "      <td>0</td>\n",
       "      <td>...</td>\n",
       "      <td>0.0</td>\n",
       "      <td>0.0</td>\n",
       "      <td>0.0</td>\n",
       "      <td>0.0</td>\n",
       "      <td>1.0</td>\n",
       "      <td>0.0</td>\n",
       "      <td>0.0</td>\n",
       "      <td>0.0</td>\n",
       "      <td>1.0</td>\n",
       "      <td>0.0</td>\n",
       "    </tr>\n",
       "    <tr>\n",
       "      <th>105116</th>\n",
       "      <td>0</td>\n",
       "      <td>0</td>\n",
       "      <td>34</td>\n",
       "      <td>2</td>\n",
       "      <td>5</td>\n",
       "      <td>2</td>\n",
       "      <td>0</td>\n",
       "      <td>0</td>\n",
       "      <td>0</td>\n",
       "      <td>0</td>\n",
       "      <td>...</td>\n",
       "      <td>0.0</td>\n",
       "      <td>0.0</td>\n",
       "      <td>0.0</td>\n",
       "      <td>0.0</td>\n",
       "      <td>1.0</td>\n",
       "      <td>0.0</td>\n",
       "      <td>0.0</td>\n",
       "      <td>0.0</td>\n",
       "      <td>1.0</td>\n",
       "      <td>0.0</td>\n",
       "    </tr>\n",
       "    <tr>\n",
       "      <th>105117</th>\n",
       "      <td>0</td>\n",
       "      <td>0</td>\n",
       "      <td>109</td>\n",
       "      <td>2</td>\n",
       "      <td>5</td>\n",
       "      <td>2</td>\n",
       "      <td>0</td>\n",
       "      <td>0</td>\n",
       "      <td>0</td>\n",
       "      <td>0</td>\n",
       "      <td>...</td>\n",
       "      <td>0.0</td>\n",
       "      <td>0.0</td>\n",
       "      <td>0.0</td>\n",
       "      <td>0.0</td>\n",
       "      <td>1.0</td>\n",
       "      <td>0.0</td>\n",
       "      <td>0.0</td>\n",
       "      <td>0.0</td>\n",
       "      <td>1.0</td>\n",
       "      <td>0.0</td>\n",
       "    </tr>\n",
       "  </tbody>\n",
       "</table>\n",
       "<p>105118 rows × 33 columns</p>\n",
       "</div>"
      ],
      "text/plain": [
       "        hotel  is_canceled  lead_time  stays_in_weekend_nights  \\\n",
       "0           1            0          7                        0   \n",
       "1           1            0         13                        0   \n",
       "2           1            0         14                        0   \n",
       "3           1            0         14                        0   \n",
       "4           1            0          0                        0   \n",
       "...       ...          ...        ...                      ...   \n",
       "105113      0            0        164                        2   \n",
       "105114      0            0         21                        2   \n",
       "105115      0            0         23                        2   \n",
       "105116      0            0         34                        2   \n",
       "105117      0            0        109                        2   \n",
       "\n",
       "        stays_in_week_nights  adults  children  babies  is_repeated_guest  \\\n",
       "0                          1       1         0       0                  0   \n",
       "1                          1       1         0       0                  0   \n",
       "2                          2       2         0       0                  0   \n",
       "3                          2       2         0       0                  0   \n",
       "4                          2       2         0       0                  0   \n",
       "...                      ...     ...       ...     ...                ...   \n",
       "105113                     4       2         0       0                  0   \n",
       "105114                     5       2         0       0                  0   \n",
       "105115                     5       2         0       0                  0   \n",
       "105116                     5       2         0       0                  0   \n",
       "105117                     5       2         0       0                  0   \n",
       "\n",
       "        previous_cancellations  ...  meal_Undefined  \\\n",
       "0                            0  ...             0.0   \n",
       "1                            0  ...             0.0   \n",
       "2                            0  ...             0.0   \n",
       "3                            0  ...             0.0   \n",
       "4                            0  ...             0.0   \n",
       "...                        ...  ...             ...   \n",
       "105113                       0  ...             0.0   \n",
       "105114                       0  ...             0.0   \n",
       "105115                       0  ...             0.0   \n",
       "105116                       0  ...             0.0   \n",
       "105117                       0  ...             0.0   \n",
       "\n",
       "        distribution_channel_Corporate  distribution_channel_Direct  \\\n",
       "0                                  0.0                          1.0   \n",
       "1                                  1.0                          0.0   \n",
       "2                                  0.0                          0.0   \n",
       "3                                  0.0                          0.0   \n",
       "4                                  0.0                          1.0   \n",
       "...                                ...                          ...   \n",
       "105113                             0.0                          0.0   \n",
       "105114                             0.0                          0.0   \n",
       "105115                             0.0                          0.0   \n",
       "105116                             0.0                          0.0   \n",
       "105117                             0.0                          0.0   \n",
       "\n",
       "        distribution_channel_GDS  distribution_channel_TA/TO  \\\n",
       "0                            0.0                         0.0   \n",
       "1                            0.0                         0.0   \n",
       "2                            0.0                         1.0   \n",
       "3                            0.0                         1.0   \n",
       "4                            0.0                         0.0   \n",
       "...                          ...                         ...   \n",
       "105113                       0.0                         1.0   \n",
       "105114                       0.0                         1.0   \n",
       "105115                       0.0                         1.0   \n",
       "105116                       0.0                         1.0   \n",
       "105117                       0.0                         1.0   \n",
       "\n",
       "        distribution_channel_Undefined  customer_type_Contract  \\\n",
       "0                                  0.0                     0.0   \n",
       "1                                  0.0                     0.0   \n",
       "2                                  0.0                     0.0   \n",
       "3                                  0.0                     0.0   \n",
       "4                                  0.0                     0.0   \n",
       "...                                ...                     ...   \n",
       "105113                             0.0                     0.0   \n",
       "105114                             0.0                     0.0   \n",
       "105115                             0.0                     0.0   \n",
       "105116                             0.0                     0.0   \n",
       "105117                             0.0                     0.0   \n",
       "\n",
       "        customer_type_Group  customer_type_Transient  \\\n",
       "0                       0.0                      1.0   \n",
       "1                       0.0                      1.0   \n",
       "2                       0.0                      1.0   \n",
       "3                       0.0                      1.0   \n",
       "4                       0.0                      1.0   \n",
       "...                     ...                      ...   \n",
       "105113                  0.0                      1.0   \n",
       "105114                  0.0                      1.0   \n",
       "105115                  0.0                      1.0   \n",
       "105116                  0.0                      1.0   \n",
       "105117                  0.0                      1.0   \n",
       "\n",
       "        customer_type_Transient-Party  \n",
       "0                                 0.0  \n",
       "1                                 0.0  \n",
       "2                                 0.0  \n",
       "3                                 0.0  \n",
       "4                                 0.0  \n",
       "...                               ...  \n",
       "105113                            0.0  \n",
       "105114                            0.0  \n",
       "105115                            0.0  \n",
       "105116                            0.0  \n",
       "105117                            0.0  \n",
       "\n",
       "[105118 rows x 33 columns]"
      ]
     },
     "execution_count": 50,
     "metadata": {},
     "output_type": "execute_result"
    }
   ],
   "source": [
    "#applying One Hot coding to the customer_type column:\n",
    "ohe_coded = ohe.fit_transform(fulldata[['customer_type']])\n",
    "\n",
    "#converting the resutl into Dataframe:\n",
    "one_hot = pd.DataFrame(ohe_coded, columns= ohe.get_feature_names_out(['customer_type']))\n",
    "\n",
    "#drop original column\n",
    "fulldata = fulldata.drop('customer_type', axis = 1)\n",
    "\n",
    "#join the new One Hot code to the original\n",
    "fulldata = fulldata.join(one_hot)\n",
    "\n",
    "fulldata"
   ]
  },
  {
   "cell_type": "code",
   "execution_count": 51,
   "metadata": {},
   "outputs": [
    {
     "name": "stdout",
     "output_type": "stream",
     "text": [
      "<class 'pandas.core.frame.DataFrame'>\n",
      "RangeIndex: 105118 entries, 0 to 105117\n",
      "Data columns (total 33 columns):\n",
      " #   Column                          Non-Null Count   Dtype  \n",
      "---  ------                          --------------   -----  \n",
      " 0   hotel                           105118 non-null  int8   \n",
      " 1   is_canceled                     105118 non-null  int64  \n",
      " 2   lead_time                       105118 non-null  int64  \n",
      " 3   stays_in_weekend_nights         105118 non-null  int64  \n",
      " 4   stays_in_week_nights            105118 non-null  int64  \n",
      " 5   adults                          105118 non-null  int64  \n",
      " 6   children                        105118 non-null  int64  \n",
      " 7   babies                          105118 non-null  int64  \n",
      " 8   is_repeated_guest               105118 non-null  int64  \n",
      " 9   previous_cancellations          105118 non-null  int64  \n",
      " 10  previous_bookings_not_canceled  105118 non-null  int64  \n",
      " 11  reserved_room_type              105118 non-null  int8   \n",
      " 12  assigned_room_type              105118 non-null  int8   \n",
      " 13  booking_changes                 105118 non-null  int64  \n",
      " 14  deposit_type                    105118 non-null  int64  \n",
      " 15  days_in_waiting_list            105118 non-null  int64  \n",
      " 16  adr                             105118 non-null  float64\n",
      " 17  required_car_parking_spaces     105118 non-null  int64  \n",
      " 18  total_of_special_requests       105118 non-null  int64  \n",
      " 19  meal_BB                         105118 non-null  float64\n",
      " 20  meal_FB                         105118 non-null  float64\n",
      " 21  meal_HB                         105118 non-null  float64\n",
      " 22  meal_SC                         105118 non-null  float64\n",
      " 23  meal_Undefined                  105118 non-null  float64\n",
      " 24  distribution_channel_Corporate  105118 non-null  float64\n",
      " 25  distribution_channel_Direct     105118 non-null  float64\n",
      " 26  distribution_channel_GDS        105118 non-null  float64\n",
      " 27  distribution_channel_TA/TO      105118 non-null  float64\n",
      " 28  distribution_channel_Undefined  105118 non-null  float64\n",
      " 29  customer_type_Contract          105118 non-null  float64\n",
      " 30  customer_type_Group             105118 non-null  float64\n",
      " 31  customer_type_Transient         105118 non-null  float64\n",
      " 32  customer_type_Transient-Party   105118 non-null  float64\n",
      "dtypes: float64(15), int64(15), int8(3)\n",
      "memory usage: 24.4 MB\n"
     ]
    }
   ],
   "source": [
    "fulldata.info()"
   ]
  },
  {
   "cell_type": "markdown",
   "metadata": {},
   "source": [
    "#### *Conclusion:*"
   ]
  },
  {
   "cell_type": "markdown",
   "metadata": {},
   "source": [
    "##### converted the data into categorical  using encoding to get a better understanding of the the values and allows me to make amendments to the indivisual values."
   ]
  },
  {
   "cell_type": "markdown",
   "metadata": {},
   "source": [
    "## 3.3. Scaling"
   ]
  },
  {
   "cell_type": "code",
   "execution_count": 52,
   "metadata": {
    "id": "Gps2vXHySuBX"
   },
   "outputs": [
    {
     "name": "stdout",
     "output_type": "stream",
     "text": [
      "Dataset using Standard Scaling\n"
     ]
    },
    {
     "data": {
      "text/html": [
       "<div>\n",
       "<style scoped>\n",
       "    .dataframe tbody tr th:only-of-type {\n",
       "        vertical-align: middle;\n",
       "    }\n",
       "\n",
       "    .dataframe tbody tr th {\n",
       "        vertical-align: top;\n",
       "    }\n",
       "\n",
       "    .dataframe thead th {\n",
       "        text-align: right;\n",
       "    }\n",
       "</style>\n",
       "<table border=\"1\" class=\"dataframe\">\n",
       "  <thead>\n",
       "    <tr style=\"text-align: right;\">\n",
       "      <th></th>\n",
       "      <th>hotel</th>\n",
       "      <th>is_canceled</th>\n",
       "      <th>lead_time</th>\n",
       "      <th>stays_in_weekend_nights</th>\n",
       "      <th>stays_in_week_nights</th>\n",
       "      <th>adults</th>\n",
       "      <th>children</th>\n",
       "      <th>babies</th>\n",
       "      <th>is_repeated_guest</th>\n",
       "      <th>previous_cancellations</th>\n",
       "      <th>...</th>\n",
       "      <th>meal_Undefined</th>\n",
       "      <th>distribution_channel_Corporate</th>\n",
       "      <th>distribution_channel_Direct</th>\n",
       "      <th>distribution_channel_GDS</th>\n",
       "      <th>distribution_channel_TA/TO</th>\n",
       "      <th>distribution_channel_Undefined</th>\n",
       "      <th>customer_type_Contract</th>\n",
       "      <th>customer_type_Group</th>\n",
       "      <th>customer_type_Transient</th>\n",
       "      <th>customer_type_Transient-Party</th>\n",
       "    </tr>\n",
       "  </thead>\n",
       "  <tbody>\n",
       "    <tr>\n",
       "      <th>0</th>\n",
       "      <td>1.486312</td>\n",
       "      <td>-0.751681</td>\n",
       "      <td>-0.955664</td>\n",
       "      <td>-0.987359</td>\n",
       "      <td>-0.919393</td>\n",
       "      <td>-1.488238</td>\n",
       "      <td>-0.224947</td>\n",
       "      <td>-0.077822</td>\n",
       "      <td>-0.181741</td>\n",
       "      <td>-0.103568</td>\n",
       "      <td>...</td>\n",
       "      <td>-0.099183</td>\n",
       "      <td>-0.251833</td>\n",
       "      <td>2.707179</td>\n",
       "      <td>-0.041185</td>\n",
       "      <td>-2.123994</td>\n",
       "      <td>-0.006897</td>\n",
       "      <td>-0.178362</td>\n",
       "      <td>-0.070372</td>\n",
       "      <td>0.58017</td>\n",
       "      <td>-0.525001</td>\n",
       "    </tr>\n",
       "    <tr>\n",
       "      <th>1</th>\n",
       "      <td>1.486312</td>\n",
       "      <td>-0.751681</td>\n",
       "      <td>-0.889210</td>\n",
       "      <td>-0.987359</td>\n",
       "      <td>-0.919393</td>\n",
       "      <td>-1.488238</td>\n",
       "      <td>-0.224947</td>\n",
       "      <td>-0.077822</td>\n",
       "      <td>-0.181741</td>\n",
       "      <td>-0.103568</td>\n",
       "      <td>...</td>\n",
       "      <td>-0.099183</td>\n",
       "      <td>3.970882</td>\n",
       "      <td>-0.369388</td>\n",
       "      <td>-0.041185</td>\n",
       "      <td>-2.123994</td>\n",
       "      <td>-0.006897</td>\n",
       "      <td>-0.178362</td>\n",
       "      <td>-0.070372</td>\n",
       "      <td>0.58017</td>\n",
       "      <td>-0.525001</td>\n",
       "    </tr>\n",
       "    <tr>\n",
       "      <th>2</th>\n",
       "      <td>1.486312</td>\n",
       "      <td>-0.751681</td>\n",
       "      <td>-0.878134</td>\n",
       "      <td>-0.987359</td>\n",
       "      <td>-0.210978</td>\n",
       "      <td>0.279532</td>\n",
       "      <td>-0.224947</td>\n",
       "      <td>-0.077822</td>\n",
       "      <td>-0.181741</td>\n",
       "      <td>-0.103568</td>\n",
       "      <td>...</td>\n",
       "      <td>-0.099183</td>\n",
       "      <td>-0.251833</td>\n",
       "      <td>-0.369388</td>\n",
       "      <td>-0.041185</td>\n",
       "      <td>0.470811</td>\n",
       "      <td>-0.006897</td>\n",
       "      <td>-0.178362</td>\n",
       "      <td>-0.070372</td>\n",
       "      <td>0.58017</td>\n",
       "      <td>-0.525001</td>\n",
       "    </tr>\n",
       "    <tr>\n",
       "      <th>3</th>\n",
       "      <td>1.486312</td>\n",
       "      <td>-0.751681</td>\n",
       "      <td>-0.878134</td>\n",
       "      <td>-0.987359</td>\n",
       "      <td>-0.210978</td>\n",
       "      <td>0.279532</td>\n",
       "      <td>-0.224947</td>\n",
       "      <td>-0.077822</td>\n",
       "      <td>-0.181741</td>\n",
       "      <td>-0.103568</td>\n",
       "      <td>...</td>\n",
       "      <td>-0.099183</td>\n",
       "      <td>-0.251833</td>\n",
       "      <td>-0.369388</td>\n",
       "      <td>-0.041185</td>\n",
       "      <td>0.470811</td>\n",
       "      <td>-0.006897</td>\n",
       "      <td>-0.178362</td>\n",
       "      <td>-0.070372</td>\n",
       "      <td>0.58017</td>\n",
       "      <td>-0.525001</td>\n",
       "    </tr>\n",
       "    <tr>\n",
       "      <th>4</th>\n",
       "      <td>1.486312</td>\n",
       "      <td>-0.751681</td>\n",
       "      <td>-1.033194</td>\n",
       "      <td>-0.987359</td>\n",
       "      <td>-0.210978</td>\n",
       "      <td>0.279532</td>\n",
       "      <td>-0.224947</td>\n",
       "      <td>-0.077822</td>\n",
       "      <td>-0.181741</td>\n",
       "      <td>-0.103568</td>\n",
       "      <td>...</td>\n",
       "      <td>-0.099183</td>\n",
       "      <td>-0.251833</td>\n",
       "      <td>2.707179</td>\n",
       "      <td>-0.041185</td>\n",
       "      <td>-2.123994</td>\n",
       "      <td>-0.006897</td>\n",
       "      <td>-0.178362</td>\n",
       "      <td>-0.070372</td>\n",
       "      <td>0.58017</td>\n",
       "      <td>-0.525001</td>\n",
       "    </tr>\n",
       "    <tr>\n",
       "      <th>...</th>\n",
       "      <td>...</td>\n",
       "      <td>...</td>\n",
       "      <td>...</td>\n",
       "      <td>...</td>\n",
       "      <td>...</td>\n",
       "      <td>...</td>\n",
       "      <td>...</td>\n",
       "      <td>...</td>\n",
       "      <td>...</td>\n",
       "      <td>...</td>\n",
       "      <td>...</td>\n",
       "      <td>...</td>\n",
       "      <td>...</td>\n",
       "      <td>...</td>\n",
       "      <td>...</td>\n",
       "      <td>...</td>\n",
       "      <td>...</td>\n",
       "      <td>...</td>\n",
       "      <td>...</td>\n",
       "      <td>...</td>\n",
       "      <td>...</td>\n",
       "    </tr>\n",
       "    <tr>\n",
       "      <th>105113</th>\n",
       "      <td>-0.672806</td>\n",
       "      <td>-0.751681</td>\n",
       "      <td>0.783221</td>\n",
       "      <td>1.316253</td>\n",
       "      <td>1.205851</td>\n",
       "      <td>0.279532</td>\n",
       "      <td>-0.224947</td>\n",
       "      <td>-0.077822</td>\n",
       "      <td>-0.181741</td>\n",
       "      <td>-0.103568</td>\n",
       "      <td>...</td>\n",
       "      <td>-0.099183</td>\n",
       "      <td>-0.251833</td>\n",
       "      <td>-0.369388</td>\n",
       "      <td>-0.041185</td>\n",
       "      <td>0.470811</td>\n",
       "      <td>-0.006897</td>\n",
       "      <td>-0.178362</td>\n",
       "      <td>-0.070372</td>\n",
       "      <td>0.58017</td>\n",
       "      <td>-0.525001</td>\n",
       "    </tr>\n",
       "    <tr>\n",
       "      <th>105114</th>\n",
       "      <td>-0.672806</td>\n",
       "      <td>-0.751681</td>\n",
       "      <td>-0.800604</td>\n",
       "      <td>1.316253</td>\n",
       "      <td>1.914265</td>\n",
       "      <td>0.279532</td>\n",
       "      <td>-0.224947</td>\n",
       "      <td>-0.077822</td>\n",
       "      <td>-0.181741</td>\n",
       "      <td>-0.103568</td>\n",
       "      <td>...</td>\n",
       "      <td>-0.099183</td>\n",
       "      <td>-0.251833</td>\n",
       "      <td>-0.369388</td>\n",
       "      <td>-0.041185</td>\n",
       "      <td>0.470811</td>\n",
       "      <td>-0.006897</td>\n",
       "      <td>-0.178362</td>\n",
       "      <td>-0.070372</td>\n",
       "      <td>0.58017</td>\n",
       "      <td>-0.525001</td>\n",
       "    </tr>\n",
       "    <tr>\n",
       "      <th>105115</th>\n",
       "      <td>-0.672806</td>\n",
       "      <td>-0.751681</td>\n",
       "      <td>-0.778453</td>\n",
       "      <td>1.316253</td>\n",
       "      <td>1.914265</td>\n",
       "      <td>0.279532</td>\n",
       "      <td>-0.224947</td>\n",
       "      <td>-0.077822</td>\n",
       "      <td>-0.181741</td>\n",
       "      <td>-0.103568</td>\n",
       "      <td>...</td>\n",
       "      <td>-0.099183</td>\n",
       "      <td>-0.251833</td>\n",
       "      <td>-0.369388</td>\n",
       "      <td>-0.041185</td>\n",
       "      <td>0.470811</td>\n",
       "      <td>-0.006897</td>\n",
       "      <td>-0.178362</td>\n",
       "      <td>-0.070372</td>\n",
       "      <td>0.58017</td>\n",
       "      <td>-0.525001</td>\n",
       "    </tr>\n",
       "    <tr>\n",
       "      <th>105116</th>\n",
       "      <td>-0.672806</td>\n",
       "      <td>-0.751681</td>\n",
       "      <td>-0.656620</td>\n",
       "      <td>1.316253</td>\n",
       "      <td>1.914265</td>\n",
       "      <td>0.279532</td>\n",
       "      <td>-0.224947</td>\n",
       "      <td>-0.077822</td>\n",
       "      <td>-0.181741</td>\n",
       "      <td>-0.103568</td>\n",
       "      <td>...</td>\n",
       "      <td>-0.099183</td>\n",
       "      <td>-0.251833</td>\n",
       "      <td>-0.369388</td>\n",
       "      <td>-0.041185</td>\n",
       "      <td>0.470811</td>\n",
       "      <td>-0.006897</td>\n",
       "      <td>-0.178362</td>\n",
       "      <td>-0.070372</td>\n",
       "      <td>0.58017</td>\n",
       "      <td>-0.525001</td>\n",
       "    </tr>\n",
       "    <tr>\n",
       "      <th>105117</th>\n",
       "      <td>-0.672806</td>\n",
       "      <td>-0.751681</td>\n",
       "      <td>0.174058</td>\n",
       "      <td>1.316253</td>\n",
       "      <td>1.914265</td>\n",
       "      <td>0.279532</td>\n",
       "      <td>-0.224947</td>\n",
       "      <td>-0.077822</td>\n",
       "      <td>-0.181741</td>\n",
       "      <td>-0.103568</td>\n",
       "      <td>...</td>\n",
       "      <td>-0.099183</td>\n",
       "      <td>-0.251833</td>\n",
       "      <td>-0.369388</td>\n",
       "      <td>-0.041185</td>\n",
       "      <td>0.470811</td>\n",
       "      <td>-0.006897</td>\n",
       "      <td>-0.178362</td>\n",
       "      <td>-0.070372</td>\n",
       "      <td>0.58017</td>\n",
       "      <td>-0.525001</td>\n",
       "    </tr>\n",
       "  </tbody>\n",
       "</table>\n",
       "<p>105118 rows × 33 columns</p>\n",
       "</div>"
      ],
      "text/plain": [
       "           hotel  is_canceled  lead_time  stays_in_weekend_nights  \\\n",
       "0       1.486312    -0.751681  -0.955664                -0.987359   \n",
       "1       1.486312    -0.751681  -0.889210                -0.987359   \n",
       "2       1.486312    -0.751681  -0.878134                -0.987359   \n",
       "3       1.486312    -0.751681  -0.878134                -0.987359   \n",
       "4       1.486312    -0.751681  -1.033194                -0.987359   \n",
       "...          ...          ...        ...                      ...   \n",
       "105113 -0.672806    -0.751681   0.783221                 1.316253   \n",
       "105114 -0.672806    -0.751681  -0.800604                 1.316253   \n",
       "105115 -0.672806    -0.751681  -0.778453                 1.316253   \n",
       "105116 -0.672806    -0.751681  -0.656620                 1.316253   \n",
       "105117 -0.672806    -0.751681   0.174058                 1.316253   \n",
       "\n",
       "        stays_in_week_nights    adults  children    babies  is_repeated_guest  \\\n",
       "0                  -0.919393 -1.488238 -0.224947 -0.077822          -0.181741   \n",
       "1                  -0.919393 -1.488238 -0.224947 -0.077822          -0.181741   \n",
       "2                  -0.210978  0.279532 -0.224947 -0.077822          -0.181741   \n",
       "3                  -0.210978  0.279532 -0.224947 -0.077822          -0.181741   \n",
       "4                  -0.210978  0.279532 -0.224947 -0.077822          -0.181741   \n",
       "...                      ...       ...       ...       ...                ...   \n",
       "105113              1.205851  0.279532 -0.224947 -0.077822          -0.181741   \n",
       "105114              1.914265  0.279532 -0.224947 -0.077822          -0.181741   \n",
       "105115              1.914265  0.279532 -0.224947 -0.077822          -0.181741   \n",
       "105116              1.914265  0.279532 -0.224947 -0.077822          -0.181741   \n",
       "105117              1.914265  0.279532 -0.224947 -0.077822          -0.181741   \n",
       "\n",
       "        previous_cancellations  ...  meal_Undefined  \\\n",
       "0                    -0.103568  ...       -0.099183   \n",
       "1                    -0.103568  ...       -0.099183   \n",
       "2                    -0.103568  ...       -0.099183   \n",
       "3                    -0.103568  ...       -0.099183   \n",
       "4                    -0.103568  ...       -0.099183   \n",
       "...                        ...  ...             ...   \n",
       "105113               -0.103568  ...       -0.099183   \n",
       "105114               -0.103568  ...       -0.099183   \n",
       "105115               -0.103568  ...       -0.099183   \n",
       "105116               -0.103568  ...       -0.099183   \n",
       "105117               -0.103568  ...       -0.099183   \n",
       "\n",
       "        distribution_channel_Corporate  distribution_channel_Direct  \\\n",
       "0                            -0.251833                     2.707179   \n",
       "1                             3.970882                    -0.369388   \n",
       "2                            -0.251833                    -0.369388   \n",
       "3                            -0.251833                    -0.369388   \n",
       "4                            -0.251833                     2.707179   \n",
       "...                                ...                          ...   \n",
       "105113                       -0.251833                    -0.369388   \n",
       "105114                       -0.251833                    -0.369388   \n",
       "105115                       -0.251833                    -0.369388   \n",
       "105116                       -0.251833                    -0.369388   \n",
       "105117                       -0.251833                    -0.369388   \n",
       "\n",
       "        distribution_channel_GDS  distribution_channel_TA/TO  \\\n",
       "0                      -0.041185                   -2.123994   \n",
       "1                      -0.041185                   -2.123994   \n",
       "2                      -0.041185                    0.470811   \n",
       "3                      -0.041185                    0.470811   \n",
       "4                      -0.041185                   -2.123994   \n",
       "...                          ...                         ...   \n",
       "105113                 -0.041185                    0.470811   \n",
       "105114                 -0.041185                    0.470811   \n",
       "105115                 -0.041185                    0.470811   \n",
       "105116                 -0.041185                    0.470811   \n",
       "105117                 -0.041185                    0.470811   \n",
       "\n",
       "        distribution_channel_Undefined  customer_type_Contract  \\\n",
       "0                            -0.006897               -0.178362   \n",
       "1                            -0.006897               -0.178362   \n",
       "2                            -0.006897               -0.178362   \n",
       "3                            -0.006897               -0.178362   \n",
       "4                            -0.006897               -0.178362   \n",
       "...                                ...                     ...   \n",
       "105113                       -0.006897               -0.178362   \n",
       "105114                       -0.006897               -0.178362   \n",
       "105115                       -0.006897               -0.178362   \n",
       "105116                       -0.006897               -0.178362   \n",
       "105117                       -0.006897               -0.178362   \n",
       "\n",
       "        customer_type_Group  customer_type_Transient  \\\n",
       "0                 -0.070372                  0.58017   \n",
       "1                 -0.070372                  0.58017   \n",
       "2                 -0.070372                  0.58017   \n",
       "3                 -0.070372                  0.58017   \n",
       "4                 -0.070372                  0.58017   \n",
       "...                     ...                      ...   \n",
       "105113            -0.070372                  0.58017   \n",
       "105114            -0.070372                  0.58017   \n",
       "105115            -0.070372                  0.58017   \n",
       "105116            -0.070372                  0.58017   \n",
       "105117            -0.070372                  0.58017   \n",
       "\n",
       "        customer_type_Transient-Party  \n",
       "0                           -0.525001  \n",
       "1                           -0.525001  \n",
       "2                           -0.525001  \n",
       "3                           -0.525001  \n",
       "4                           -0.525001  \n",
       "...                               ...  \n",
       "105113                      -0.525001  \n",
       "105114                      -0.525001  \n",
       "105115                      -0.525001  \n",
       "105116                      -0.525001  \n",
       "105117                      -0.525001  \n",
       "\n",
       "[105118 rows x 33 columns]"
      ]
     },
     "execution_count": 52,
     "metadata": {},
     "output_type": "execute_result"
    }
   ],
   "source": [
    "# Initialising the StandardScaler\n",
    "std_scaler = StandardScaler()\n",
    "\n",
    "# Fit the scaler to the data and transform it, creating a new DataFrame with standardised values\n",
    "fulldata_std = pd.DataFrame(std_scaler.fit_transform(fulldata.values), columns=fulldata.columns, index=fulldata.index)\n",
    "\n",
    "print(\"Dataset using Standard Scaling\")\n",
    "\n",
    "fulldata_std\n"
   ]
  },
  {
   "cell_type": "markdown",
   "metadata": {},
   "source": [
    "##### In this code, `StandardScaler` standardises the features of `fulldata` by removing the mean and scaling to unit variance. The transformed data is stored in `fulldata_std`, which maintains the original column names and indices for clarity. This process helps to improve the performance of machine learning algorithms by ensuring that all features contribute equally."
   ]
  },
  {
   "cell_type": "markdown",
   "metadata": {},
   "source": [
    "## 3.4. Feature selection"
   ]
  },
  {
   "cell_type": "code",
   "execution_count": 53,
   "metadata": {
    "id": "CyBKkMrMQ088"
   },
   "outputs": [],
   "source": [
    "x = fulldata_std.drop(columns=['is_canceled'])\n",
    "y = fulldata.is_canceled"
   ]
  },
  {
   "cell_type": "markdown",
   "metadata": {},
   "source": [
    "##### The code separates the feature matrix `X` by dropping the target variable `is_canceled` from the standardized dataset `fulldata_std`. It assigns the target variable `y` to the `is_canceled` column in the original dataset `fulldata`."
   ]
  },
  {
   "cell_type": "markdown",
   "metadata": {
    "id": "P29DufVRM33h"
   },
   "source": [
    "# 4. Classifier Training (20%)\n",
    "\n",
    "\n",
    "---\n",
    "\n",
    "\n",
    "Utilise the sklearn Python library to train a ML model (e.g.decision tree classifier). Your process should start with splitting your dataset into input features (X) and a target feature (y). Next, divide the data into 70% training and 30% testing subsets. Train your model on the training dataset and evaluate using test dataset with appropriate metrics. Aim to achieve higher accuracy e.g. more than 70% accuracy using your model."
   ]
  },
  {
   "cell_type": "markdown",
   "metadata": {},
   "source": [
    "## 4.1. Data Splitting (5%)"
   ]
  },
  {
   "cell_type": "code",
   "execution_count": 54,
   "metadata": {
    "id": "Gps2vXHySuBX"
   },
   "outputs": [],
   "source": [
    "# Splitting the datasets into training and testing sets\n",
    "X_train, X_test, Y_train, Y_test = train_test_split(x, y, test_size = 0.3)"
   ]
  },
  {
   "cell_type": "markdown",
   "metadata": {},
   "source": [
    "##### This code splits the feature matrix `x` and target variable `y` into training and testing sets, with 70% of the data used for training (`X_train`, `Y_train`) and 30% for testing (`X_test`, `Y_test`). This helps evaluate model performance on unseen data."
   ]
  },
  {
   "cell_type": "markdown",
   "metadata": {},
   "source": [
    "## 4.2. Model Training (10%)"
   ]
  },
  {
   "cell_type": "code",
   "execution_count": 55,
   "metadata": {
    "id": "Gps2vXHySuBX"
   },
   "outputs": [],
   "source": [
    "# Initialize a Decision Tree Classifier with 'entropy' as the criterion and a fixed random state\n",
    "data_training = DecisionTreeClassifier(criterion='entropy', random_state=1)\n",
    "\n",
    "# Fit the model on the training data and make predictions on the test data\n",
    "data_training = data_training.fit(X_train, Y_train)\n",
    "Y_prediction = data_training.predict(X_test)\n"
   ]
  },
  {
   "cell_type": "markdown",
   "metadata": {},
   "source": [
    "##### A Decision Tree Classifier is created and trained using the training data (X_train, Y_train), and then it predicts the target variable for the test set (X_test)."
   ]
  },
  {
   "cell_type": "markdown",
   "metadata": {},
   "source": [
    "## 4.3. Model Evaluation (5%)"
   ]
  },
  {
   "cell_type": "code",
   "execution_count": 56,
   "metadata": {
    "id": "tJS1HdmGSuY_"
   },
   "outputs": [
    {
     "name": "stdout",
     "output_type": "stream",
     "text": [
      "STD Accuracy: 0.8127536783358701\n"
     ]
    }
   ],
   "source": [
    "# Calculate the accuracy of the model by comparing predicted values to actual values\n",
    "data_accuracy = metrics.accuracy_score(Y_test, Y_prediction)\n",
    "\n",
    "# Print the accuracy score of the model\n",
    "print(\"STD Accuracy:\", data_accuracy)\n"
   ]
  },
  {
   "cell_type": "markdown",
   "metadata": {},
   "source": [
    "### Overall accurancy of the data is: *81.49%*"
   ]
  },
  {
   "cell_type": "markdown",
   "metadata": {
    "id": "rBa3rsiSM365"
   },
   "source": [
    "# 5. Feature Importance (10%)\n",
    "\n",
    "\n",
    "---\n",
    "\n",
    "Assess the importance of features within your decision tree model. Provide commentary on the reliability of your model's results based on the feature importance scores."
   ]
  },
  {
   "cell_type": "code",
   "execution_count": 57,
   "metadata": {
    "id": "y0P8oWvPUBX7"
   },
   "outputs": [
    {
     "name": "stdout",
     "output_type": "stream",
     "text": [
      "Importance Classifier\n"
     ]
    },
    {
     "data": {
      "text/html": [
       "<div>\n",
       "<style scoped>\n",
       "    .dataframe tbody tr th:only-of-type {\n",
       "        vertical-align: middle;\n",
       "    }\n",
       "\n",
       "    .dataframe tbody tr th {\n",
       "        vertical-align: top;\n",
       "    }\n",
       "\n",
       "    .dataframe thead th {\n",
       "        text-align: right;\n",
       "    }\n",
       "</style>\n",
       "<table border=\"1\" class=\"dataframe\">\n",
       "  <thead>\n",
       "    <tr style=\"text-align: right;\">\n",
       "      <th></th>\n",
       "      <th>variable</th>\n",
       "      <th>importance</th>\n",
       "    </tr>\n",
       "  </thead>\n",
       "  <tbody>\n",
       "    <tr>\n",
       "      <th>1</th>\n",
       "      <td>lead_time</td>\n",
       "      <td>0.230117</td>\n",
       "    </tr>\n",
       "    <tr>\n",
       "      <th>13</th>\n",
       "      <td>deposit_type</td>\n",
       "      <td>0.198956</td>\n",
       "    </tr>\n",
       "    <tr>\n",
       "      <th>15</th>\n",
       "      <td>adr</td>\n",
       "      <td>0.197499</td>\n",
       "    </tr>\n",
       "    <tr>\n",
       "      <th>3</th>\n",
       "      <td>stays_in_week_nights</td>\n",
       "      <td>0.061927</td>\n",
       "    </tr>\n",
       "    <tr>\n",
       "      <th>2</th>\n",
       "      <td>stays_in_weekend_nights</td>\n",
       "      <td>0.033636</td>\n",
       "    </tr>\n",
       "    <tr>\n",
       "      <th>17</th>\n",
       "      <td>total_of_special_requests</td>\n",
       "      <td>0.033208</td>\n",
       "    </tr>\n",
       "    <tr>\n",
       "      <th>8</th>\n",
       "      <td>previous_cancellations</td>\n",
       "      <td>0.029507</td>\n",
       "    </tr>\n",
       "    <tr>\n",
       "      <th>11</th>\n",
       "      <td>assigned_room_type</td>\n",
       "      <td>0.026724</td>\n",
       "    </tr>\n",
       "    <tr>\n",
       "      <th>16</th>\n",
       "      <td>required_car_parking_spaces</td>\n",
       "      <td>0.025337</td>\n",
       "    </tr>\n",
       "    <tr>\n",
       "      <th>12</th>\n",
       "      <td>booking_changes</td>\n",
       "      <td>0.021760</td>\n",
       "    </tr>\n",
       "    <tr>\n",
       "      <th>10</th>\n",
       "      <td>reserved_room_type</td>\n",
       "      <td>0.020148</td>\n",
       "    </tr>\n",
       "    <tr>\n",
       "      <th>4</th>\n",
       "      <td>adults</td>\n",
       "      <td>0.019118</td>\n",
       "    </tr>\n",
       "    <tr>\n",
       "      <th>30</th>\n",
       "      <td>customer_type_Transient</td>\n",
       "      <td>0.018740</td>\n",
       "    </tr>\n",
       "    <tr>\n",
       "      <th>26</th>\n",
       "      <td>distribution_channel_TA/TO</td>\n",
       "      <td>0.014592</td>\n",
       "    </tr>\n",
       "    <tr>\n",
       "      <th>0</th>\n",
       "      <td>is_canceled</td>\n",
       "      <td>0.013314</td>\n",
       "    </tr>\n",
       "    <tr>\n",
       "      <th>9</th>\n",
       "      <td>previous_bookings_not_canceled</td>\n",
       "      <td>0.009456</td>\n",
       "    </tr>\n",
       "    <tr>\n",
       "      <th>18</th>\n",
       "      <td>meal_BB</td>\n",
       "      <td>0.007199</td>\n",
       "    </tr>\n",
       "    <tr>\n",
       "      <th>5</th>\n",
       "      <td>children</td>\n",
       "      <td>0.006801</td>\n",
       "    </tr>\n",
       "    <tr>\n",
       "      <th>31</th>\n",
       "      <td>customer_type_Transient-Party</td>\n",
       "      <td>0.006081</td>\n",
       "    </tr>\n",
       "    <tr>\n",
       "      <th>20</th>\n",
       "      <td>meal_HB</td>\n",
       "      <td>0.005242</td>\n",
       "    </tr>\n",
       "  </tbody>\n",
       "</table>\n",
       "</div>"
      ],
      "text/plain": [
       "                          variable  importance\n",
       "1                        lead_time    0.230117\n",
       "13                    deposit_type    0.198956\n",
       "15                             adr    0.197499\n",
       "3             stays_in_week_nights    0.061927\n",
       "2          stays_in_weekend_nights    0.033636\n",
       "17       total_of_special_requests    0.033208\n",
       "8           previous_cancellations    0.029507\n",
       "11              assigned_room_type    0.026724\n",
       "16     required_car_parking_spaces    0.025337\n",
       "12                 booking_changes    0.021760\n",
       "10              reserved_room_type    0.020148\n",
       "4                           adults    0.019118\n",
       "30         customer_type_Transient    0.018740\n",
       "26      distribution_channel_TA/TO    0.014592\n",
       "0                      is_canceled    0.013314\n",
       "9   previous_bookings_not_canceled    0.009456\n",
       "18                         meal_BB    0.007199\n",
       "5                         children    0.006801\n",
       "31   customer_type_Transient-Party    0.006081\n",
       "20                         meal_HB    0.005242"
      ]
     },
     "execution_count": 57,
     "metadata": {},
     "output_type": "execute_result"
    }
   ],
   "source": [
    "# Print a header for the importance of features\n",
    "print(\"Importance Classifier\")\n",
    "\n",
    "# Create a DataFrame that combines feature names with their importance scores, sort by importance, and display the top 20\n",
    "pd.concat(\n",
    "    (pd.DataFrame(fulldata_std.iloc[:, 1:].columns, columns=['variable']),\n",
    "     pd.DataFrame(data_training.feature_importances_, columns=['importance'])),\n",
    "    axis=1).sort_values(by='importance', ascending=False)[:20]\n"
   ]
  },
  {
   "cell_type": "markdown",
   "metadata": {},
   "source": [
    "##### The code combines the feature names and their corresponding importance scores from the trained Decision Tree model into a single DataFrame. It then sorts this DataFrame by importance and displays the top 20 most important features, highlighting their relevance in the classification task."
   ]
  }
 ],
 "metadata": {
  "colab": {
   "provenance": []
  },
  "kernelspec": {
   "display_name": "base",
   "language": "python",
   "name": "python3"
  },
  "language_info": {
   "codemirror_mode": {
    "name": "ipython",
    "version": 3
   },
   "file_extension": ".py",
   "mimetype": "text/x-python",
   "name": "python",
   "nbconvert_exporter": "python",
   "pygments_lexer": "ipython3",
   "version": "3.12.7"
  }
 },
 "nbformat": 4,
 "nbformat_minor": 1
}
