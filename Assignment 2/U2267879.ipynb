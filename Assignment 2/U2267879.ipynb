{
 "cells": [
  {
   "cell_type": "markdown",
   "metadata": {
    "id": "xIemj7xXplEN"
   },
   "source": [
    "## 1. Import required Libraries"
   ]
  },
  {
   "cell_type": "code",
   "execution_count": 27,
   "metadata": {
    "id": "hhh-tfOkDYWL"
   },
   "outputs": [],
   "source": [
    "import os\n",
    "import numpy as np \n",
    "import tensorflow as tf \n",
    "from tensorflow.keras import layers, models \n",
    "from tensorflow.keras.datasets import cifar10 \n",
    "from tensorflow.keras.utils import to_categorical \n",
    "import matplotlib.pyplot as plt \n",
    "from xgboost import XGBClassifier \n",
    "from sklearn import preprocessing \n",
    "from sklearn.model_selection import cross_val_predict \n",
    "from sklearn. model_selection import train_test_split \n",
    "from sklearn.metrics import accuracy_score"
   ]
  },
  {
   "cell_type": "markdown",
   "metadata": {
    "id": "WBWdDnVep6y_"
   },
   "source": [
    "## 2. Loading the Data"
   ]
  },
  {
   "cell_type": "code",
   "execution_count": 28,
   "metadata": {
    "id": "LmmZvzmJAchM"
   },
   "outputs": [
    {
     "name": "stdout",
     "output_type": "stream",
     "text": [
      "your the best ./CHS2406_Coursework2_Data_Repository/Stage8/Stage_8_U2265620(4).jpeg: cannot identify image file <_io.BytesIO object at 0x17e1e1490>\n",
      "your the best ./CHS2406_Coursework2_Data_Repository/Stage8/Stage_8_U2265620(6).jpeg: cannot identify image file <_io.BytesIO object at 0x1117293a0>\n",
      "your the best ./CHS2406_Coursework2_Data_Repository/Stage8/Stage_8_U2265620(2).jpeg: cannot identify image file <_io.BytesIO object at 0x17e1e1490>\n",
      "your the best ./CHS2406_Coursework2_Data_Repository/Stage8/Stage_8_U2265620(7).jpeg: cannot identify image file <_io.BytesIO object at 0x1117293a0>\n",
      "your the best ./CHS2406_Coursework2_Data_Repository/Stage8/Stage_8_U2265620(5).jpeg: cannot identify image file <_io.BytesIO object at 0x17e1e1490>\n",
      "your the best ./CHS2406_Coursework2_Data_Repository/Stage8/Stage_8_U2265620(1).jpeg: cannot identify image file <_io.BytesIO object at 0x111729350>\n",
      "your the best ./CHS2406_Coursework2_Data_Repository/Stage8/Stage_8_U2265620(3).jpeg: cannot identify image file <_io.BytesIO object at 0x1117293a0>\n",
      "your the best ./CHS2406_Coursework2_Data_Repository/Stage8/Stage_8_U2265620(9).jpeg: cannot identify image file <_io.BytesIO object at 0x17e1e1490>\n",
      "your the best ./CHS2406_Coursework2_Data_Repository/Stage8/Stage_8_U2265620(10).jpeg: cannot identify image file <_io.BytesIO object at 0x17e1e1490>\n",
      "your the best ./CHS2406_Coursework2_Data_Repository/Stage8/Stage_8_U2265620(8).jpeg: cannot identify image file <_io.BytesIO object at 0x17e1d1530>\n",
      "your the best ./CHS2406_Coursework2_Data_Repository/Stage6/Stage_6_U2265620(1).jpeg: cannot identify image file <_io.BytesIO object at 0x17e1d1530>\n",
      "your the best ./CHS2406_Coursework2_Data_Repository/Stage6/Stage_6_U2265620(3).jpeg: cannot identify image file <_io.BytesIO object at 0x17e001260>\n",
      "your the best ./CHS2406_Coursework2_Data_Repository/Stage6/Stage_6_U2265620(7).jpeg: cannot identify image file <_io.BytesIO object at 0x17e001260>\n",
      "your the best ./CHS2406_Coursework2_Data_Repository/Stage6/Stage_6_U2265620(5).jpeg: cannot identify image file <_io.BytesIO object at 0x17e1d1530>\n",
      "your the best ./CHS2406_Coursework2_Data_Repository/Stage6/Stage_6_U2265620(2).jpeg: cannot identify image file <_io.BytesIO object at 0x17e1d1530>\n",
      "your the best ./CHS2406_Coursework2_Data_Repository/Stage6/Stage_6_U2265620(4).jpeg: cannot identify image file <_io.BytesIO object at 0x17e1d1530>\n",
      "your the best ./CHS2406_Coursework2_Data_Repository/Stage6/Stage_6_U2265620(10).jpeg: cannot identify image file <_io.BytesIO object at 0x17e001260>\n",
      "your the best ./CHS2406_Coursework2_Data_Repository/Stage6/Stage_6_U2265620(6).jpeg: cannot identify image file <_io.BytesIO object at 0x17e001260>\n",
      "your the best ./CHS2406_Coursework2_Data_Repository/Stage6/Stage_6_U2265620(8).jpeg: cannot identify image file <_io.BytesIO object at 0x17e001260>\n",
      "your the best ./CHS2406_Coursework2_Data_Repository/Stage6/Stage_6_U2265620(9).jpeg: cannot identify image file <_io.BytesIO object at 0x17e001260>\n",
      "your the best ./CHS2406_Coursework2_Data_Repository/Stage1/Stage_1_U2265620(5).jpg: cannot identify image file <_io.BytesIO object at 0x17dff5120>\n",
      "your the best ./CHS2406_Coursework2_Data_Repository/Stage1/stage1_u2353673(4) copy.jpg: cannot identify image file <_io.BytesIO object at 0x17dff5120>\n",
      "your the best ./CHS2406_Coursework2_Data_Repository/Stage1/stage1_u2353673(9) copy.jpg: cannot identify image file <_io.BytesIO object at 0x17e1e1490>\n",
      "your the best ./CHS2406_Coursework2_Data_Repository/Stage1/Stage_1_U2265620(9).jpg: cannot identify image file <_io.BytesIO object at 0x17e1e1490>\n",
      "your the best ./CHS2406_Coursework2_Data_Repository/Stage1/Stage_1_U2265620(8).jpg: cannot identify image file <_io.BytesIO object at 0x17e1e1490>\n",
      "your the best ./CHS2406_Coursework2_Data_Repository/Stage1/stage1_u2353673(2) copy.jpg: cannot identify image file <_io.BytesIO object at 0x3092f27f0>\n",
      "your the best ./CHS2406_Coursework2_Data_Repository/Stage1/Stage_1_U2265620(4).jpg: cannot identify image file <_io.BytesIO object at 0x17dff5120>\n",
      "your the best ./CHS2406_Coursework2_Data_Repository/Stage1/stage1_u2353673(5) copy.jpg: cannot identify image file <_io.BytesIO object at 0x3092f27f0>\n",
      "your the best ./CHS2406_Coursework2_Data_Repository/Stage1/Stage_1_U2265620(10).jpg: cannot identify image file <_io.BytesIO object at 0x17dff5120>\n",
      "your the best ./CHS2406_Coursework2_Data_Repository/Stage1/stage1_u2353673(8) copy.jpg: cannot identify image file <_io.BytesIO object at 0x3092f27f0>\n",
      "your the best ./CHS2406_Coursework2_Data_Repository/Stage1/Stage_1_U2265620(3).jpg: cannot identify image file <_io.BytesIO object at 0x3092f27f0>\n",
      "your the best ./CHS2406_Coursework2_Data_Repository/Stage1/stage1_u2353673(3) copy.jpg: cannot identify image file <_io.BytesIO object at 0x3092f27f0>\n",
      "your the best ./CHS2406_Coursework2_Data_Repository/Stage1/Stage_1_U2265620(2).jpg: cannot identify image file <_io.BytesIO object at 0x17dff5120>\n",
      "your the best ./CHS2406_Coursework2_Data_Repository/Stage1/stage1_u2353673(10) copy.jpg: cannot identify image file <_io.BytesIO object at 0x17dff5120>\n",
      "your the best ./CHS2406_Coursework2_Data_Repository/Stage1/stage1_u2353673(6) copy.jpg: cannot identify image file <_io.BytesIO object at 0x3092f27f0>\n",
      "your the best ./CHS2406_Coursework2_Data_Repository/Stage1/Stage_1_U2265620(7).jpg: cannot identify image file <_io.BytesIO object at 0x17dff5120>\n",
      "your the best ./CHS2406_Coursework2_Data_Repository/Stage1/stage1_u2353673(7) copy.jpg: cannot identify image file <_io.BytesIO object at 0x17e1e1490>\n",
      "your the best ./CHS2406_Coursework2_Data_Repository/Stage1/20241116_035521674_iOS 1.jpg: cannot identify image file <_io.BytesIO object at 0x17e1e1490>\n",
      "your the best ./CHS2406_Coursework2_Data_Repository/Stage1/20241116_035840182_iOS 1.jpg: cannot identify image file <_io.BytesIO object at 0x17e1e1490>\n",
      "your the best ./CHS2406_Coursework2_Data_Repository/Stage1/stage1_u2353673(1)copy.jpg: cannot identify image file <_io.BytesIO object at 0x17e1e1490>\n",
      "your the best ./CHS2406_Coursework2_Data_Repository/Stage1/Stage_1_U2265620(1).jpeg: cannot identify image file <_io.BytesIO object at 0x17dff5120>\n",
      "your the best ./CHS2406_Coursework2_Data_Repository/Stage1/Stage_1_U2265620(6).jpg: cannot identify image file <_io.BytesIO object at 0x3092f27f0>\n",
      "your the best ./CHS2406_Coursework2_Data_Repository/Stage7/Stage_7_U2265620(2).jpeg: cannot identify image file <_io.BytesIO object at 0x17dfe9080>\n",
      "your the best ./CHS2406_Coursework2_Data_Repository/Stage7/Stage_7_U2265620(4).jpeg: cannot identify image file <_io.BytesIO object at 0x111729350>\n",
      "your the best ./CHS2406_Coursework2_Data_Repository/Stage7/Stage_7_U2265620(6).jpeg: cannot identify image file <_io.BytesIO object at 0x111729350>\n",
      "your the best ./CHS2406_Coursework2_Data_Repository/Stage7/Stage_7_U2265620(1).jpeg: cannot identify image file <_io.BytesIO object at 0x17dfe9080>\n",
      "your the best ./CHS2406_Coursework2_Data_Repository/Stage7/Stage_7_U2265620(10).jpeg: cannot identify image file <_io.BytesIO object at 0x17dfe9080>\n",
      "your the best ./CHS2406_Coursework2_Data_Repository/Stage7/Stage_7_U2265620(3).jpeg: cannot identify image file <_io.BytesIO object at 0x17dfe9080>\n",
      "your the best ./CHS2406_Coursework2_Data_Repository/Stage7/Stage_7_U2265620(7).jpeg: cannot identify image file <_io.BytesIO object at 0x17dfe9080>\n",
      "your the best ./CHS2406_Coursework2_Data_Repository/Stage7/Stage_7_U2265620(5).jpeg: cannot identify image file <_io.BytesIO object at 0x17dfe9080>\n",
      "your the best ./CHS2406_Coursework2_Data_Repository/Stage7/Stage_7_U2265620(9).jpeg: cannot identify image file <_io.BytesIO object at 0x17dfe9080>\n",
      "your the best ./CHS2406_Coursework2_Data_Repository/Stage7/Stage_7_U2265620(8).jpeg: cannot identify image file <_io.BytesIO object at 0x17e1e1c60>\n",
      "your the best ./CHS2406_Coursework2_Data_Repository/Stage2/Stage_2_U2265620(5).jpeg: cannot identify image file <_io.BytesIO object at 0x17e1d1530>\n",
      "your the best ./CHS2406_Coursework2_Data_Repository/Stage2/stage2_u2353673(1) copy.jpg: cannot identify image file <_io.BytesIO object at 0x17e1d1530>\n",
      "your the best ./CHS2406_Coursework2_Data_Repository/Stage2/Stage_2_U2265620(7).jpeg: cannot identify image file <_io.BytesIO object at 0x17e1d1530>\n",
      "your the best ./CHS2406_Coursework2_Data_Repository/Stage2/Stage_2_U2265620(3).jpeg: cannot identify image file <_io.BytesIO object at 0x17e1d1530>\n",
      "your the best ./CHS2406_Coursework2_Data_Repository/Stage2/Stage_2_U2265620(1).jpeg: cannot identify image file <_io.BytesIO object at 0x17e1d1530>\n",
      "your the best ./CHS2406_Coursework2_Data_Repository/Stage2/stage_2_u2266497(3).jpg: cannot identify image file <_io.BytesIO object at 0x17e1d1530>\n",
      "your the best ./CHS2406_Coursework2_Data_Repository/Stage2/Stage_2_U2265620(10).jpeg: cannot identify image file <_io.BytesIO object at 0x17e1d1530>\n",
      "your the best ./CHS2406_Coursework2_Data_Repository/Stage2/stage_2_u2266497(8).jpg: cannot identify image file <_io.BytesIO object at 0x17e1d1530>\n",
      "your the best ./CHS2406_Coursework2_Data_Repository/Stage2/Stage_2_U2265620(6).jpeg: cannot identify image file <_io.BytesIO object at 0x17e1d1530>\n",
      "your the best ./CHS2406_Coursework2_Data_Repository/Stage2/Stage_2_U2265620(4).jpeg: cannot identify image file <_io.BytesIO object at 0x17e1d1530>\n",
      "your the best ./CHS2406_Coursework2_Data_Repository/Stage2/stage_2_u2266497(4).jpg: cannot identify image file <_io.BytesIO object at 0x17e1d1530>\n",
      "your the best ./CHS2406_Coursework2_Data_Repository/Stage2/stage_2_u2266497(10).jpg: cannot identify image file <_io.BytesIO object at 0x17e1d1530>\n",
      "your the best ./CHS2406_Coursework2_Data_Repository/Stage2/Stage_2_U2265620(2).jpeg: cannot identify image file <_io.BytesIO object at 0x17e1d1530>\n",
      "your the best ./CHS2406_Coursework2_Data_Repository/Stage2/stage_2_u2266497(6).jpg: cannot identify image file <_io.BytesIO object at 0x17e1d1530>\n",
      "your the best ./CHS2406_Coursework2_Data_Repository/Stage2/Stage_2_U2265620(8).jpeg: cannot identify image file <_io.BytesIO object at 0x17e1d1530>\n",
      "your the best ./CHS2406_Coursework2_Data_Repository/Stage2/stage_2_u2266497.jpg: cannot identify image file <_io.BytesIO object at 0x17e1d1530>\n",
      "your the best ./CHS2406_Coursework2_Data_Repository/Stage2/stage2_u2353673(2) copy.jpg: cannot identify image file <_io.BytesIO object at 0x17e1d1530>\n",
      "your the best ./CHS2406_Coursework2_Data_Repository/Stage2/Stage_2_U2265620(9).jpeg: cannot identify image file <_io.BytesIO object at 0x17e1d1530>\n",
      "your the best ./CHS2406_Coursework2_Data_Repository/Stage5/Stage_5_U2265620(9).jpeg: cannot identify image file <_io.BytesIO object at 0x17dee05e0>\n",
      "your the best ./CHS2406_Coursework2_Data_Repository/Stage5/Stage_5_U2265620(10).jpeg: cannot identify image file <_io.BytesIO object at 0x17dee05e0>\n",
      "your the best ./CHS2406_Coursework2_Data_Repository/Stage5/Stage_5_U2265620(8).jpeg: cannot identify image file <_io.BytesIO object at 0x17dee05e0>\n",
      "your the best ./CHS2406_Coursework2_Data_Repository/Stage5/Stage_5_U2265620(2).jpeg: cannot identify image file <_io.BytesIO object at 0x17dee05e0>\n",
      "your the best ./CHS2406_Coursework2_Data_Repository/Stage5/Stage_5_U2265620(6).jpeg: cannot identify image file <_io.BytesIO object at 0x17dee05e0>\n",
      "your the best ./CHS2406_Coursework2_Data_Repository/Stage5/Stage_5_U2265620(4).jpeg: cannot identify image file <_io.BytesIO object at 0x17dee05e0>\n",
      "your the best ./CHS2406_Coursework2_Data_Repository/Stage5/Stage_5_U2265620(3).jpeg: cannot identify image file <_io.BytesIO object at 0x17dee05e0>\n",
      "your the best ./CHS2406_Coursework2_Data_Repository/Stage5/Stage_5_U2265620(1).jpeg: cannot identify image file <_io.BytesIO object at 0x17dee05e0>\n",
      "your the best ./CHS2406_Coursework2_Data_Repository/Stage5/Stage_5_U2265620(5).jpeg: cannot identify image file <_io.BytesIO object at 0x17dee05e0>\n",
      "your the best ./CHS2406_Coursework2_Data_Repository/Stage5/Stage_5_U2265620(7).jpeg: cannot identify image file <_io.BytesIO object at 0x17dee05e0>\n",
      "your the best ./CHS2406_Coursework2_Data_Repository/Stage4/Stage_4_U2265620(8).jpeg: cannot identify image file <_io.BytesIO object at 0x17e1e1490>\n",
      "your the best ./CHS2406_Coursework2_Data_Repository/Stage4/Stage_4_U2265620(10).jpeg: cannot identify image file <_io.BytesIO object at 0x17e1e1490>\n",
      "your the best ./CHS2406_Coursework2_Data_Repository/Stage4/Stage_4_U2265620(9).jpeg: cannot identify image file <_io.BytesIO object at 0x17e1e1490>\n",
      "your the best ./CHS2406_Coursework2_Data_Repository/Stage4/Stage_4_U2265620(3).jpeg: cannot identify image file <_io.BytesIO object at 0x17e1e1490>\n",
      "your the best ./CHS2406_Coursework2_Data_Repository/Stage4/Stage_4_U2265620(1).jpeg: cannot identify image file <_io.BytesIO object at 0x17e1e1490>\n",
      "your the best ./CHS2406_Coursework2_Data_Repository/Stage4/Stage_4_U2265620(5).jpeg: cannot identify image file <_io.BytesIO object at 0x17e1e1490>\n",
      "your the best ./CHS2406_Coursework2_Data_Repository/Stage4/Stage_4_U2265620(7).jpeg: cannot identify image file <_io.BytesIO object at 0x17e1e1490>\n",
      "your the best ./CHS2406_Coursework2_Data_Repository/Stage4/Stage_4_U2265620(2).jpeg: cannot identify image file <_io.BytesIO object at 0x17e1e1490>\n",
      "your the best ./CHS2406_Coursework2_Data_Repository/Stage4/Stage_4_U2265620(6).jpeg: cannot identify image file <_io.BytesIO object at 0x17e1e1490>\n",
      "your the best ./CHS2406_Coursework2_Data_Repository/Stage4/Stage_4_U2265620(4).jpeg: cannot identify image file <_io.BytesIO object at 0x17dfef0b0>\n",
      "your the best ./CHS2406_Coursework2_Data_Repository/Stage3/Stage_3_U2265620(6).jpeg: cannot identify image file <_io.BytesIO object at 0x17e0eb0b0>\n",
      "your the best ./CHS2406_Coursework2_Data_Repository/Stage3/Stage_3_u2266497(5).jpg: cannot identify image file <_io.BytesIO object at 0x17e0eb0b0>\n",
      "your the best ./CHS2406_Coursework2_Data_Repository/Stage3/Stage_3_u2266497(9).jpg: cannot identify image file <_io.BytesIO object at 0x17e0eb0b0>\n",
      "your the best ./CHS2406_Coursework2_Data_Repository/Stage3/Stage_3_U2265620(4).jpeg: cannot identify image file <_io.BytesIO object at 0x17e0eb0b0>\n",
      "your the best ./CHS2406_Coursework2_Data_Repository/Stage3/Stage_3_U2265620(2).jpeg: cannot identify image file <_io.BytesIO object at 0x17e0eb0b0>\n",
      "your the best ./CHS2406_Coursework2_Data_Repository/Stage3/Stage_3_U2265620(5).jpeg: cannot identify image file <_io.BytesIO object at 0x17e0eb0b0>\n",
      "your the best ./CHS2406_Coursework2_Data_Repository/Stage3/Stage_3_U2265620(7).jpeg: cannot identify image file <_io.BytesIO object at 0x1117293a0>\n",
      "your the best ./CHS2406_Coursework2_Data_Repository/Stage3/Stage_3_u2266497(3).jpg: cannot identify image file <_io.BytesIO object at 0x1117293a0>\n",
      "your the best ./CHS2406_Coursework2_Data_Repository/Stage3/Stage_3_U2265620(10).jpeg: cannot identify image file <_io.BytesIO object at 0x1117293a0>\n",
      "your the best ./CHS2406_Coursework2_Data_Repository/Stage3/Stage_3_U2265620(3).jpeg: cannot identify image file <_io.BytesIO object at 0x1117293a0>\n",
      "your the best ./CHS2406_Coursework2_Data_Repository/Stage3/Stage_3_U2265620(1).jpeg: cannot identify image file <_io.BytesIO object at 0x1117293a0>\n",
      "your the best ./CHS2406_Coursework2_Data_Repository/Stage3/Stage_3_U2265620(9).jpeg: cannot identify image file <_io.BytesIO object at 0x1117293a0>\n",
      "your the best ./CHS2406_Coursework2_Data_Repository/Stage3/Stage_3_u2266497(7).jpg: cannot identify image file <_io.BytesIO object at 0x1117293a0>\n",
      "your the best ./CHS2406_Coursework2_Data_Repository/Stage3/Stage_3_U2265620(8).jpeg: cannot identify image file <_io.BytesIO object at 0x17e0eb0b0>\n",
      "your the best ./CHS2406_Coursework2_Data_Repository/Stage3/Stage_3_u2266497.JPG: cannot identify image file <_io.BytesIO object at 0x1117293a0>\n"
     ]
    }
   ],
   "source": [
    "\n",
    "# Directory containing image subfolders\n",
    "image_dir = './CHS2406_Coursework2_Data_Repository'\n",
    "labels = []\n",
    "data = []\n",
    "\n",
    "# Allowed image extensions (make sure to use correct ones)\n",
    "allowed_extensions = {'.png', '.jpg', '.jpeg', '.JPG'}\n",
    "\n",
    "# Target size for resizing images (modify based on your needs)\n",
    "img_size = (150, 150,3)  # Image size (height, width)\n",
    "\n",
    "for label in os.listdir(image_dir):\n",
    "    subfolder_path = os.path.join(image_dir, label)\n",
    "    \n",
    "    if os.path.isdir(subfolder_path):\n",
    "        # Assign label based on folder name\n",
    "        for image_file in os.listdir(subfolder_path):\n",
    "            image_path = os.path.join(subfolder_path, image_file)\n",
    "            \n",
    "            # Check if the file has an allowed extension\n",
    "            if any(image_file.lower().endswith(ext) for ext in allowed_extensions):\n",
    "                try:\n",
    "                    # Load the image with the specified target size and RGB mode\n",
    "                    image = tf.keras.preprocessing.image.load_img(image_path, color_mode='rgb', target_size=img_size)\n",
    "                    \n",
    "                    # Convert the image to a NumPy array\n",
    "                    image = np.array(image)\n",
    "                    \n",
    "                    # Append the label and image to the respective lists\n",
    "                    labels.append(int(label[-1])) #From the string 'stage1' it takes the last digit and converts it to int\n",
    "                    data.append(image)  # Append the image itself\n",
    "                \n",
    "                except Exception as e:\n",
    "                    print(f\"your the best {image_path}: {e}\")\n"
   ]
  },
  {
   "cell_type": "markdown",
   "metadata": {
    "id": "nARc2I1BAchK"
   },
   "source": [
    "## 3. Data Labelling Errors"
   ]
  },
  {
   "cell_type": "code",
   "execution_count": 29,
   "metadata": {},
   "outputs": [],
   "source": [
    "train_data, test_data, train_labels, test_labels = train_test_split(data,labels,random_state=42)"
   ]
  },
  {
   "cell_type": "code",
   "execution_count": 30,
   "metadata": {},
   "outputs": [],
   "source": [
    "for i in range (len(train_data)):\n",
    "    train_data[1] = train_data[i].astype('float32') / 255.0\n",
    "\n",
    "for i in range (len(test_data)):\n",
    "    test_data[i] = test_data[i].astype('float32') / 255.0\n",
    "\n",
    "train_data = np.array(train_data)\n",
    "test_data = np.array(test_data)"
   ]
  },
  {
   "cell_type": "code",
   "execution_count": 31,
   "metadata": {},
   "outputs": [
    {
     "data": {
      "text/plain": [
       "array([0.39607844, 0.36862746, 0.30588236, ..., 0.76862746, 0.81960785,\n",
       "       0.88235295], dtype=float32)"
      ]
     },
     "execution_count": 31,
     "metadata": {},
     "output_type": "execute_result"
    }
   ],
   "source": [
    "train_data.flatten()\n",
    "test_data.flatten()"
   ]
  },
  {
   "cell_type": "code",
   "execution_count": 32,
   "metadata": {},
   "outputs": [],
   "source": [
    "train_data = train_data.reshape(-1,150,150,3)\n",
    "test_data = test_data.reshape(-1,150,150,3)\n"
   ]
  },
  {
   "cell_type": "code",
   "execution_count": 33,
   "metadata": {},
   "outputs": [],
   "source": [
    "test_labels = to_categorical(test_labels, 9)\n",
    "train_labels = to_categorical(train_labels, 9)"
   ]
  },
  {
   "cell_type": "code",
   "execution_count": null,
   "metadata": {},
   "outputs": [],
   "source": [
    "model = models.Sequential([\n",
    "    layers.Conv2D(32, (3, 3), activation='relu', input_shape=(150,150,3)),\n",
    "    layers.MaxPooling2D((2, 2)),\n",
    "    layers.Conv2D(64, (3, 3), activation='relu'),\n",
    "    layers.MaxPooling2D((2, 2)),\n",
    "    layers.Conv2D(64, (3, 3), activation='relu'),\n",
    "    layers.Flatten(),\n",
    "    layers.Dense(64, activation='relu'),\n",
    "    layers.Dense(9, activation='softmax')\n",
    "\n",
    "])"
   ]
  },
  {
   "cell_type": "code",
   "execution_count": 38,
   "metadata": {},
   "outputs": [],
   "source": [
    "model.compile(optimizer='adam',\n",
    "              loss='categorical_crossentropy',\n",
    "              metrics=['accuracy'])"
   ]
  },
  {
   "cell_type": "code",
   "execution_count": 39,
   "metadata": {},
   "outputs": [
    {
     "name": "stdout",
     "output_type": "stream",
     "text": [
      "Epoch 1/5\n",
      "\u001b[1m148/148\u001b[0m \u001b[32m━━━━━━━━━━━━━━━━━━━━\u001b[0m\u001b[37m\u001b[0m \u001b[1m68s\u001b[0m 452ms/step - accuracy: 0.1420 - loss: 45.8457 - val_accuracy: 0.1182 - val_loss: 2.1449\n",
      "Epoch 2/5\n",
      "\u001b[1m148/148\u001b[0m \u001b[32m━━━━━━━━━━━━━━━━━━━━\u001b[0m\u001b[37m\u001b[0m \u001b[1m63s\u001b[0m 427ms/step - accuracy: 0.1736 - loss: 2.0951 - val_accuracy: 0.1182 - val_loss: 2.1081\n",
      "Epoch 3/5\n",
      "\u001b[1m148/148\u001b[0m \u001b[32m━━━━━━━━━━━━━━━━━━━━\u001b[0m\u001b[37m\u001b[0m \u001b[1m197s\u001b[0m 1s/step - accuracy: 0.2352 - loss: 1.9627 - val_accuracy: 0.1182 - val_loss: 2.0921\n",
      "Epoch 4/5\n",
      "\u001b[1m 40/148\u001b[0m \u001b[32m━━━━━\u001b[0m\u001b[37m━━━━━━━━━━━━━━━\u001b[0m \u001b[1m17:29\u001b[0m 10s/step - accuracy: 0.3212 - loss: 1.7686"
     ]
    },
    {
     "ename": "KeyboardInterrupt",
     "evalue": "",
     "output_type": "error",
     "traceback": [
      "\u001b[0;31m---------------------------------------------------------------------------\u001b[0m",
      "\u001b[0;31mKeyboardInterrupt\u001b[0m                         Traceback (most recent call last)",
      "Cell \u001b[0;32mIn[39], line 1\u001b[0m\n\u001b[0;32m----> 1\u001b[0m model\u001b[38;5;241m.\u001b[39mfit(train_data, train_labels, epochs\u001b[38;5;241m=\u001b[39m \u001b[38;5;241m5\u001b[39m, batch_size\u001b[38;5;241m=\u001b[39m \u001b[38;5;241m64\u001b[39m, validation_data\u001b[38;5;241m=\u001b[39m(test_data, test_labels))\n",
      "File \u001b[0;32m/opt/anaconda3/lib/python3.12/site-packages/keras/src/utils/traceback_utils.py:117\u001b[0m, in \u001b[0;36mfilter_traceback.<locals>.error_handler\u001b[0;34m(*args, **kwargs)\u001b[0m\n\u001b[1;32m    115\u001b[0m filtered_tb \u001b[38;5;241m=\u001b[39m \u001b[38;5;28;01mNone\u001b[39;00m\n\u001b[1;32m    116\u001b[0m \u001b[38;5;28;01mtry\u001b[39;00m:\n\u001b[0;32m--> 117\u001b[0m     \u001b[38;5;28;01mreturn\u001b[39;00m fn(\u001b[38;5;241m*\u001b[39margs, \u001b[38;5;241m*\u001b[39m\u001b[38;5;241m*\u001b[39mkwargs)\n\u001b[1;32m    118\u001b[0m \u001b[38;5;28;01mexcept\u001b[39;00m \u001b[38;5;167;01mException\u001b[39;00m \u001b[38;5;28;01mas\u001b[39;00m e:\n\u001b[1;32m    119\u001b[0m     filtered_tb \u001b[38;5;241m=\u001b[39m _process_traceback_frames(e\u001b[38;5;241m.\u001b[39m__traceback__)\n",
      "File \u001b[0;32m/opt/anaconda3/lib/python3.12/site-packages/keras/src/backend/tensorflow/trainer.py:320\u001b[0m, in \u001b[0;36mTensorFlowTrainer.fit\u001b[0;34m(self, x, y, batch_size, epochs, verbose, callbacks, validation_split, validation_data, shuffle, class_weight, sample_weight, initial_epoch, steps_per_epoch, validation_steps, validation_batch_size, validation_freq)\u001b[0m\n\u001b[1;32m    318\u001b[0m \u001b[38;5;28;01mfor\u001b[39;00m step, iterator \u001b[38;5;129;01min\u001b[39;00m epoch_iterator\u001b[38;5;241m.\u001b[39menumerate_epoch():\n\u001b[1;32m    319\u001b[0m     callbacks\u001b[38;5;241m.\u001b[39mon_train_batch_begin(step)\n\u001b[0;32m--> 320\u001b[0m     logs \u001b[38;5;241m=\u001b[39m \u001b[38;5;28mself\u001b[39m\u001b[38;5;241m.\u001b[39mtrain_function(iterator)\n\u001b[1;32m    321\u001b[0m     callbacks\u001b[38;5;241m.\u001b[39mon_train_batch_end(step, logs)\n\u001b[1;32m    322\u001b[0m     \u001b[38;5;28;01mif\u001b[39;00m \u001b[38;5;28mself\u001b[39m\u001b[38;5;241m.\u001b[39mstop_training:\n",
      "File \u001b[0;32m/opt/anaconda3/lib/python3.12/site-packages/tensorflow/python/util/traceback_utils.py:150\u001b[0m, in \u001b[0;36mfilter_traceback.<locals>.error_handler\u001b[0;34m(*args, **kwargs)\u001b[0m\n\u001b[1;32m    148\u001b[0m filtered_tb \u001b[38;5;241m=\u001b[39m \u001b[38;5;28;01mNone\u001b[39;00m\n\u001b[1;32m    149\u001b[0m \u001b[38;5;28;01mtry\u001b[39;00m:\n\u001b[0;32m--> 150\u001b[0m   \u001b[38;5;28;01mreturn\u001b[39;00m fn(\u001b[38;5;241m*\u001b[39margs, \u001b[38;5;241m*\u001b[39m\u001b[38;5;241m*\u001b[39mkwargs)\n\u001b[1;32m    151\u001b[0m \u001b[38;5;28;01mexcept\u001b[39;00m \u001b[38;5;167;01mException\u001b[39;00m \u001b[38;5;28;01mas\u001b[39;00m e:\n\u001b[1;32m    152\u001b[0m   filtered_tb \u001b[38;5;241m=\u001b[39m _process_traceback_frames(e\u001b[38;5;241m.\u001b[39m__traceback__)\n",
      "File \u001b[0;32m/opt/anaconda3/lib/python3.12/site-packages/tensorflow/python/eager/polymorphic_function/polymorphic_function.py:833\u001b[0m, in \u001b[0;36mFunction.__call__\u001b[0;34m(self, *args, **kwds)\u001b[0m\n\u001b[1;32m    830\u001b[0m compiler \u001b[38;5;241m=\u001b[39m \u001b[38;5;124m\"\u001b[39m\u001b[38;5;124mxla\u001b[39m\u001b[38;5;124m\"\u001b[39m \u001b[38;5;28;01mif\u001b[39;00m \u001b[38;5;28mself\u001b[39m\u001b[38;5;241m.\u001b[39m_jit_compile \u001b[38;5;28;01melse\u001b[39;00m \u001b[38;5;124m\"\u001b[39m\u001b[38;5;124mnonXla\u001b[39m\u001b[38;5;124m\"\u001b[39m\n\u001b[1;32m    832\u001b[0m \u001b[38;5;28;01mwith\u001b[39;00m OptionalXlaContext(\u001b[38;5;28mself\u001b[39m\u001b[38;5;241m.\u001b[39m_jit_compile):\n\u001b[0;32m--> 833\u001b[0m   result \u001b[38;5;241m=\u001b[39m \u001b[38;5;28mself\u001b[39m\u001b[38;5;241m.\u001b[39m_call(\u001b[38;5;241m*\u001b[39margs, \u001b[38;5;241m*\u001b[39m\u001b[38;5;241m*\u001b[39mkwds)\n\u001b[1;32m    835\u001b[0m new_tracing_count \u001b[38;5;241m=\u001b[39m \u001b[38;5;28mself\u001b[39m\u001b[38;5;241m.\u001b[39mexperimental_get_tracing_count()\n\u001b[1;32m    836\u001b[0m without_tracing \u001b[38;5;241m=\u001b[39m (tracing_count \u001b[38;5;241m==\u001b[39m new_tracing_count)\n",
      "File \u001b[0;32m/opt/anaconda3/lib/python3.12/site-packages/tensorflow/python/eager/polymorphic_function/polymorphic_function.py:878\u001b[0m, in \u001b[0;36mFunction._call\u001b[0;34m(self, *args, **kwds)\u001b[0m\n\u001b[1;32m    875\u001b[0m \u001b[38;5;28mself\u001b[39m\u001b[38;5;241m.\u001b[39m_lock\u001b[38;5;241m.\u001b[39mrelease()\n\u001b[1;32m    876\u001b[0m \u001b[38;5;66;03m# In this case we have not created variables on the first call. So we can\u001b[39;00m\n\u001b[1;32m    877\u001b[0m \u001b[38;5;66;03m# run the first trace but we should fail if variables are created.\u001b[39;00m\n\u001b[0;32m--> 878\u001b[0m results \u001b[38;5;241m=\u001b[39m tracing_compilation\u001b[38;5;241m.\u001b[39mcall_function(\n\u001b[1;32m    879\u001b[0m     args, kwds, \u001b[38;5;28mself\u001b[39m\u001b[38;5;241m.\u001b[39m_variable_creation_config\n\u001b[1;32m    880\u001b[0m )\n\u001b[1;32m    881\u001b[0m \u001b[38;5;28;01mif\u001b[39;00m \u001b[38;5;28mself\u001b[39m\u001b[38;5;241m.\u001b[39m_created_variables:\n\u001b[1;32m    882\u001b[0m   \u001b[38;5;28;01mraise\u001b[39;00m \u001b[38;5;167;01mValueError\u001b[39;00m(\u001b[38;5;124m\"\u001b[39m\u001b[38;5;124mCreating variables on a non-first call to a function\u001b[39m\u001b[38;5;124m\"\u001b[39m\n\u001b[1;32m    883\u001b[0m                    \u001b[38;5;124m\"\u001b[39m\u001b[38;5;124m decorated with tf.function.\u001b[39m\u001b[38;5;124m\"\u001b[39m)\n",
      "File \u001b[0;32m/opt/anaconda3/lib/python3.12/site-packages/tensorflow/python/eager/polymorphic_function/tracing_compilation.py:139\u001b[0m, in \u001b[0;36mcall_function\u001b[0;34m(args, kwargs, tracing_options)\u001b[0m\n\u001b[1;32m    137\u001b[0m bound_args \u001b[38;5;241m=\u001b[39m function\u001b[38;5;241m.\u001b[39mfunction_type\u001b[38;5;241m.\u001b[39mbind(\u001b[38;5;241m*\u001b[39margs, \u001b[38;5;241m*\u001b[39m\u001b[38;5;241m*\u001b[39mkwargs)\n\u001b[1;32m    138\u001b[0m flat_inputs \u001b[38;5;241m=\u001b[39m function\u001b[38;5;241m.\u001b[39mfunction_type\u001b[38;5;241m.\u001b[39munpack_inputs(bound_args)\n\u001b[0;32m--> 139\u001b[0m \u001b[38;5;28;01mreturn\u001b[39;00m function\u001b[38;5;241m.\u001b[39m_call_flat(  \u001b[38;5;66;03m# pylint: disable=protected-access\u001b[39;00m\n\u001b[1;32m    140\u001b[0m     flat_inputs, captured_inputs\u001b[38;5;241m=\u001b[39mfunction\u001b[38;5;241m.\u001b[39mcaptured_inputs\n\u001b[1;32m    141\u001b[0m )\n",
      "File \u001b[0;32m/opt/anaconda3/lib/python3.12/site-packages/tensorflow/python/eager/polymorphic_function/concrete_function.py:1322\u001b[0m, in \u001b[0;36mConcreteFunction._call_flat\u001b[0;34m(self, tensor_inputs, captured_inputs)\u001b[0m\n\u001b[1;32m   1318\u001b[0m possible_gradient_type \u001b[38;5;241m=\u001b[39m gradients_util\u001b[38;5;241m.\u001b[39mPossibleTapeGradientTypes(args)\n\u001b[1;32m   1319\u001b[0m \u001b[38;5;28;01mif\u001b[39;00m (possible_gradient_type \u001b[38;5;241m==\u001b[39m gradients_util\u001b[38;5;241m.\u001b[39mPOSSIBLE_GRADIENT_TYPES_NONE\n\u001b[1;32m   1320\u001b[0m     \u001b[38;5;129;01mand\u001b[39;00m executing_eagerly):\n\u001b[1;32m   1321\u001b[0m   \u001b[38;5;66;03m# No tape is watching; skip to running the function.\u001b[39;00m\n\u001b[0;32m-> 1322\u001b[0m   \u001b[38;5;28;01mreturn\u001b[39;00m \u001b[38;5;28mself\u001b[39m\u001b[38;5;241m.\u001b[39m_inference_function\u001b[38;5;241m.\u001b[39mcall_preflattened(args)\n\u001b[1;32m   1323\u001b[0m forward_backward \u001b[38;5;241m=\u001b[39m \u001b[38;5;28mself\u001b[39m\u001b[38;5;241m.\u001b[39m_select_forward_and_backward_functions(\n\u001b[1;32m   1324\u001b[0m     args,\n\u001b[1;32m   1325\u001b[0m     possible_gradient_type,\n\u001b[1;32m   1326\u001b[0m     executing_eagerly)\n\u001b[1;32m   1327\u001b[0m forward_function, args_with_tangents \u001b[38;5;241m=\u001b[39m forward_backward\u001b[38;5;241m.\u001b[39mforward()\n",
      "File \u001b[0;32m/opt/anaconda3/lib/python3.12/site-packages/tensorflow/python/eager/polymorphic_function/atomic_function.py:216\u001b[0m, in \u001b[0;36mAtomicFunction.call_preflattened\u001b[0;34m(self, args)\u001b[0m\n\u001b[1;32m    214\u001b[0m \u001b[38;5;28;01mdef\u001b[39;00m \u001b[38;5;21mcall_preflattened\u001b[39m(\u001b[38;5;28mself\u001b[39m, args: Sequence[core\u001b[38;5;241m.\u001b[39mTensor]) \u001b[38;5;241m-\u001b[39m\u001b[38;5;241m>\u001b[39m Any:\n\u001b[1;32m    215\u001b[0m \u001b[38;5;250m  \u001b[39m\u001b[38;5;124;03m\"\"\"Calls with flattened tensor inputs and returns the structured output.\"\"\"\u001b[39;00m\n\u001b[0;32m--> 216\u001b[0m   flat_outputs \u001b[38;5;241m=\u001b[39m \u001b[38;5;28mself\u001b[39m\u001b[38;5;241m.\u001b[39mcall_flat(\u001b[38;5;241m*\u001b[39margs)\n\u001b[1;32m    217\u001b[0m   \u001b[38;5;28;01mreturn\u001b[39;00m \u001b[38;5;28mself\u001b[39m\u001b[38;5;241m.\u001b[39mfunction_type\u001b[38;5;241m.\u001b[39mpack_output(flat_outputs)\n",
      "File \u001b[0;32m/opt/anaconda3/lib/python3.12/site-packages/tensorflow/python/eager/polymorphic_function/atomic_function.py:251\u001b[0m, in \u001b[0;36mAtomicFunction.call_flat\u001b[0;34m(self, *args)\u001b[0m\n\u001b[1;32m    249\u001b[0m \u001b[38;5;28;01mwith\u001b[39;00m record\u001b[38;5;241m.\u001b[39mstop_recording():\n\u001b[1;32m    250\u001b[0m   \u001b[38;5;28;01mif\u001b[39;00m \u001b[38;5;28mself\u001b[39m\u001b[38;5;241m.\u001b[39m_bound_context\u001b[38;5;241m.\u001b[39mexecuting_eagerly():\n\u001b[0;32m--> 251\u001b[0m     outputs \u001b[38;5;241m=\u001b[39m \u001b[38;5;28mself\u001b[39m\u001b[38;5;241m.\u001b[39m_bound_context\u001b[38;5;241m.\u001b[39mcall_function(\n\u001b[1;32m    252\u001b[0m         \u001b[38;5;28mself\u001b[39m\u001b[38;5;241m.\u001b[39mname,\n\u001b[1;32m    253\u001b[0m         \u001b[38;5;28mlist\u001b[39m(args),\n\u001b[1;32m    254\u001b[0m         \u001b[38;5;28mlen\u001b[39m(\u001b[38;5;28mself\u001b[39m\u001b[38;5;241m.\u001b[39mfunction_type\u001b[38;5;241m.\u001b[39mflat_outputs),\n\u001b[1;32m    255\u001b[0m     )\n\u001b[1;32m    256\u001b[0m   \u001b[38;5;28;01melse\u001b[39;00m:\n\u001b[1;32m    257\u001b[0m     outputs \u001b[38;5;241m=\u001b[39m make_call_op_in_graph(\n\u001b[1;32m    258\u001b[0m         \u001b[38;5;28mself\u001b[39m,\n\u001b[1;32m    259\u001b[0m         \u001b[38;5;28mlist\u001b[39m(args),\n\u001b[1;32m    260\u001b[0m         \u001b[38;5;28mself\u001b[39m\u001b[38;5;241m.\u001b[39m_bound_context\u001b[38;5;241m.\u001b[39mfunction_call_options\u001b[38;5;241m.\u001b[39mas_attrs(),\n\u001b[1;32m    261\u001b[0m     )\n",
      "File \u001b[0;32m/opt/anaconda3/lib/python3.12/site-packages/tensorflow/python/eager/context.py:1683\u001b[0m, in \u001b[0;36mContext.call_function\u001b[0;34m(self, name, tensor_inputs, num_outputs)\u001b[0m\n\u001b[1;32m   1681\u001b[0m cancellation_context \u001b[38;5;241m=\u001b[39m cancellation\u001b[38;5;241m.\u001b[39mcontext()\n\u001b[1;32m   1682\u001b[0m \u001b[38;5;28;01mif\u001b[39;00m cancellation_context \u001b[38;5;129;01mis\u001b[39;00m \u001b[38;5;28;01mNone\u001b[39;00m:\n\u001b[0;32m-> 1683\u001b[0m   outputs \u001b[38;5;241m=\u001b[39m execute\u001b[38;5;241m.\u001b[39mexecute(\n\u001b[1;32m   1684\u001b[0m       name\u001b[38;5;241m.\u001b[39mdecode(\u001b[38;5;124m\"\u001b[39m\u001b[38;5;124mutf-8\u001b[39m\u001b[38;5;124m\"\u001b[39m),\n\u001b[1;32m   1685\u001b[0m       num_outputs\u001b[38;5;241m=\u001b[39mnum_outputs,\n\u001b[1;32m   1686\u001b[0m       inputs\u001b[38;5;241m=\u001b[39mtensor_inputs,\n\u001b[1;32m   1687\u001b[0m       attrs\u001b[38;5;241m=\u001b[39mattrs,\n\u001b[1;32m   1688\u001b[0m       ctx\u001b[38;5;241m=\u001b[39m\u001b[38;5;28mself\u001b[39m,\n\u001b[1;32m   1689\u001b[0m   )\n\u001b[1;32m   1690\u001b[0m \u001b[38;5;28;01melse\u001b[39;00m:\n\u001b[1;32m   1691\u001b[0m   outputs \u001b[38;5;241m=\u001b[39m execute\u001b[38;5;241m.\u001b[39mexecute_with_cancellation(\n\u001b[1;32m   1692\u001b[0m       name\u001b[38;5;241m.\u001b[39mdecode(\u001b[38;5;124m\"\u001b[39m\u001b[38;5;124mutf-8\u001b[39m\u001b[38;5;124m\"\u001b[39m),\n\u001b[1;32m   1693\u001b[0m       num_outputs\u001b[38;5;241m=\u001b[39mnum_outputs,\n\u001b[0;32m   (...)\u001b[0m\n\u001b[1;32m   1697\u001b[0m       cancellation_manager\u001b[38;5;241m=\u001b[39mcancellation_context,\n\u001b[1;32m   1698\u001b[0m   )\n",
      "File \u001b[0;32m/opt/anaconda3/lib/python3.12/site-packages/tensorflow/python/eager/execute.py:53\u001b[0m, in \u001b[0;36mquick_execute\u001b[0;34m(op_name, num_outputs, inputs, attrs, ctx, name)\u001b[0m\n\u001b[1;32m     51\u001b[0m \u001b[38;5;28;01mtry\u001b[39;00m:\n\u001b[1;32m     52\u001b[0m   ctx\u001b[38;5;241m.\u001b[39mensure_initialized()\n\u001b[0;32m---> 53\u001b[0m   tensors \u001b[38;5;241m=\u001b[39m pywrap_tfe\u001b[38;5;241m.\u001b[39mTFE_Py_Execute(ctx\u001b[38;5;241m.\u001b[39m_handle, device_name, op_name,\n\u001b[1;32m     54\u001b[0m                                       inputs, attrs, num_outputs)\n\u001b[1;32m     55\u001b[0m \u001b[38;5;28;01mexcept\u001b[39;00m core\u001b[38;5;241m.\u001b[39m_NotOkStatusException \u001b[38;5;28;01mas\u001b[39;00m e:\n\u001b[1;32m     56\u001b[0m   \u001b[38;5;28;01mif\u001b[39;00m name \u001b[38;5;129;01mis\u001b[39;00m \u001b[38;5;129;01mnot\u001b[39;00m \u001b[38;5;28;01mNone\u001b[39;00m:\n",
      "\u001b[0;31mKeyboardInterrupt\u001b[0m: "
     ]
    }
   ],
   "source": [
    "model.fit(train_data, train_labels, epochs= 5, batch_size= 64, validation_data=(test_data, test_labels))"
   ]
  },
  {
   "cell_type": "markdown",
   "metadata": {
    "id": "nARc2I1BAchK"
   },
   "source": [
    "## Label errors:\n",
    "\n",
    "<ol>\n",
    "  <li>Explain what kind of errors you found in the dataset.</li>\n",
    "  <li>List the total number of images left in each class/stage after the label error handling</li>\n",
    "</ol>\n",
    "\n",
    "<br>\n",
    "\n",
    "<ol>\n",
    "  <li>Stage 1: <<Number of images>></li>\n",
    "  <li>Stage 2: <<Number of images>></li>\n",
    "  <li>Stage 3: <<Number of images>></li>\n",
    "  <li>Stage 4: <<Number of images>></li>\n",
    "  <li>Stage 5: <<Number of images>></li>\n",
    "  <li>Stage 6: <<Number of images>></li>\n",
    "  <li>Stage 7: <<Number of images>></li>\n",
    "  <li>Stage 8: <<Number of images>></li>\n",
    "</ol>"
   ]
  },
  {
   "cell_type": "markdown",
   "metadata": {
    "id": "zRZjH2b9MVbg"
   },
   "source": [
    "## 4. Pre-process the Dataset"
   ]
  },
  {
   "cell_type": "code",
   "execution_count": null,
   "metadata": {
    "id": "5IQZ-4IFMViV"
   },
   "outputs": [],
   "source": [
    "# <<insert yout code here>>"
   ]
  },
  {
   "cell_type": "markdown",
   "metadata": {
    "id": "coYf31ZiEpvR"
   },
   "source": [
    "## 5. Split the data\n",
    "<br>\n",
    "\n",
    "Split the data into training, validation and testing dataset using Startification, ensuring equal class distribution.\n",
    "\n",
    "Choose appropriate values of training, validation and testing datasets.\n",
    "\n",
    "Display total number of images in each dataset split."
   ]
  },
  {
   "cell_type": "code",
   "execution_count": null,
   "metadata": {
    "id": "hzuPzB-u4c-d"
   },
   "outputs": [],
   "source": [
    "# <<insert yout code here>>"
   ]
  },
  {
   "cell_type": "markdown",
   "metadata": {
    "id": "ffQESA7O15id"
   },
   "source": [
    "## 6. Model Implementation"
   ]
  },
  {
   "cell_type": "code",
   "execution_count": null,
   "metadata": {
    "id": "H-cazfIn15id"
   },
   "outputs": [],
   "source": [
    "# <<insert yout code here>>"
   ]
  },
  {
   "cell_type": "markdown",
   "metadata": {
    "id": "pTuB7BmG15in"
   },
   "source": [
    "## 7. Evaluate the Model"
   ]
  },
  {
   "cell_type": "code",
   "execution_count": null,
   "metadata": {
    "id": "4Vk-iINqOAPS"
   },
   "outputs": [],
   "source": [
    "# <<insert yout code here>>"
   ]
  },
  {
   "cell_type": "markdown",
   "metadata": {
    "id": "jz41FYcYONCx"
   },
   "source": [
    "### Training Curves"
   ]
  },
  {
   "cell_type": "code",
   "execution_count": null,
   "metadata": {
    "id": "pWrLdXGDOP6K"
   },
   "outputs": [],
   "source": [
    "# <<insert yout code here>>"
   ]
  },
  {
   "cell_type": "markdown",
   "metadata": {
    "id": "mhBIB8lcOYqr"
   },
   "source": [
    "### Make Inference\n",
    "For some unseen data, make predictions using the trained model."
   ]
  },
  {
   "cell_type": "code",
   "execution_count": null,
   "metadata": {
    "id": "iPcz2rfq7Xi6"
   },
   "outputs": [],
   "source": [
    "# <<insert yout code here>>"
   ]
  },
  {
   "cell_type": "code",
   "execution_count": null,
   "metadata": {
    "id": "lx5gZ54yQkaI"
   },
   "outputs": [],
   "source": []
  }
 ],
 "metadata": {
  "accelerator": "GPU",
  "colab": {
   "gpuType": "T4",
   "provenance": []
  },
  "kernelspec": {
   "display_name": "base",
   "language": "python",
   "name": "python3"
  },
  "language_info": {
   "codemirror_mode": {
    "name": "ipython",
    "version": 3
   },
   "file_extension": ".py",
   "mimetype": "text/x-python",
   "name": "python",
   "nbconvert_exporter": "python",
   "pygments_lexer": "ipython3",
   "version": "3.12.7"
  }
 },
 "nbformat": 4,
 "nbformat_minor": 1
}
