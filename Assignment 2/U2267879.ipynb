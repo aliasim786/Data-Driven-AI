{
 "cells": [
  {
   "cell_type": "markdown",
   "metadata": {
    "id": "xIemj7xXplEN"
   },
   "source": [
    "## 1. Import required Libraries"
   ]
  },
  {
   "cell_type": "code",
   "execution_count": 1,
   "metadata": {
    "id": "hhh-tfOkDYWL"
   },
   "outputs": [],
   "source": [
    "# <<insert yout code here>>"
   ]
  },
  {
   "cell_type": "markdown",
   "metadata": {
    "id": "WBWdDnVep6y_"
   },
   "source": [
    "## 2. Loading the Data"
   ]
  },
  {
   "cell_type": "code",
   "execution_count": 2,
   "metadata": {
    "id": "LmmZvzmJAchM"
   },
   "outputs": [],
   "source": [
    "# <<insert yout code here>>"
   ]
  },
  {
   "cell_type": "markdown",
   "metadata": {
    "id": "nARc2I1BAchK"
   },
   "source": [
    "## 3. Data Labelling Errors"
   ]
  },
  {
   "cell_type": "code",
   "execution_count": 3,
   "metadata": {},
   "outputs": [],
   "source": [
    "# <<insert yout code here>>"
   ]
  },
  {
   "cell_type": "markdown",
   "metadata": {
    "id": "nARc2I1BAchK"
   },
   "source": [
    "## Label errors:\n",
    "\n",
    "<ol>\n",
    "  <li>Explain what kind of errors you found in the dataset.</li>\n",
    "  <li>List the total number of images left in each class/stage after the label error handling</li>\n",
    "</ol>\n",
    "\n",
    "<br>\n",
    "\n",
    "<ol>\n",
    "  <li>Stage 1: <<Number of images>></li>\n",
    "  <li>Stage 2: <<Number of images>></li>\n",
    "  <li>Stage 3: <<Number of images>></li>\n",
    "  <li>Stage 4: <<Number of images>></li>\n",
    "  <li>Stage 5: <<Number of images>></li>\n",
    "  <li>Stage 6: <<Number of images>></li>\n",
    "  <li>Stage 7: <<Number of images>></li>\n",
    "  <li>Stage 8: <<Number of images>></li>\n",
    "</ol>"
   ]
  },
  {
   "cell_type": "markdown",
   "metadata": {
    "id": "zRZjH2b9MVbg"
   },
   "source": [
    "## 4. Pre-process the Dataset"
   ]
  },
  {
   "cell_type": "code",
   "execution_count": 4,
   "metadata": {
    "id": "5IQZ-4IFMViV"
   },
   "outputs": [],
   "source": [
    "# <<insert yout code here>>"
   ]
  },
  {
   "cell_type": "markdown",
   "metadata": {
    "id": "coYf31ZiEpvR"
   },
   "source": [
    "## 5. Split the data\n",
    "<br>\n",
    "\n",
    "Split the data into training, validation and testing dataset using Startification, ensuring equal class distribution.\n",
    "\n",
    "Choose appropriate values of training, validation and testing datasets.\n",
    "\n",
    "Display total number of images in each dataset split."
   ]
  },
  {
   "cell_type": "code",
   "execution_count": 5,
   "metadata": {
    "id": "hzuPzB-u4c-d"
   },
   "outputs": [],
   "source": [
    "# <<insert yout code here>>"
   ]
  },
  {
   "cell_type": "markdown",
   "metadata": {
    "id": "ffQESA7O15id"
   },
   "source": [
    "## 6. Model Implementation"
   ]
  },
  {
   "cell_type": "code",
   "execution_count": 6,
   "metadata": {
    "id": "H-cazfIn15id"
   },
   "outputs": [],
   "source": [
    "# <<insert yout code here>>"
   ]
  },
  {
   "cell_type": "markdown",
   "metadata": {
    "id": "pTuB7BmG15in"
   },
   "source": [
    "## 7. Evaluate the Model"
   ]
  },
  {
   "cell_type": "code",
   "execution_count": 7,
   "metadata": {
    "id": "4Vk-iINqOAPS"
   },
   "outputs": [],
   "source": [
    "# <<insert yout code here>>"
   ]
  },
  {
   "cell_type": "markdown",
   "metadata": {
    "id": "jz41FYcYONCx"
   },
   "source": [
    "### Training Curves"
   ]
  },
  {
   "cell_type": "code",
   "execution_count": 8,
   "metadata": {
    "id": "pWrLdXGDOP6K"
   },
   "outputs": [],
   "source": [
    "# <<insert yout code here>>"
   ]
  },
  {
   "cell_type": "markdown",
   "metadata": {
    "id": "mhBIB8lcOYqr"
   },
   "source": [
    "### Make Inference\n",
    "For some unseen data, make predictions using the trained model."
   ]
  },
  {
   "cell_type": "code",
   "execution_count": 9,
   "metadata": {
    "id": "iPcz2rfq7Xi6"
   },
   "outputs": [],
   "source": [
    "# <<insert yout code here>>"
   ]
  },
  {
   "cell_type": "code",
   "execution_count": null,
   "metadata": {
    "id": "lx5gZ54yQkaI"
   },
   "outputs": [],
   "source": []
  }
 ],
 "metadata": {
  "accelerator": "GPU",
  "colab": {
   "gpuType": "T4",
   "provenance": []
  },
  "kernelspec": {
   "display_name": "Python 3 (ipykernel)",
   "language": "python",
   "name": "python3"
  },
  "language_info": {
   "codemirror_mode": {
    "name": "ipython",
    "version": 3
   },
   "file_extension": ".py",
   "mimetype": "text/x-python",
   "name": "python",
   "nbconvert_exporter": "python",
   "pygments_lexer": "ipython3",
   "version": "3.11.5"
  }
 },
 "nbformat": 4,
 "nbformat_minor": 1
}
