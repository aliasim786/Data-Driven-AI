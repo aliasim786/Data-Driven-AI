{
 "cells": [
  {
   "cell_type": "code",
   "execution_count": null,
   "id": "31ecfbfb",
   "metadata": {},
   "outputs": [],
   "source": [
    "#pip install opencv-python"
   ]
  },
  {
   "cell_type": "code",
   "execution_count": null,
   "id": "067be2c6",
   "metadata": {},
   "outputs": [],
   "source": [
    "import cv2\n",
    "import numpy as np\n",
    "import matplotlib.pyplot as plt\n",
    "from os import walk\n",
    "import os\n",
    "import glob\n",
    "import tensorflow as tf"
   ]
  },
  {
   "cell_type": "markdown",
   "id": "347bbd59",
   "metadata": {},
   "source": [
    "## To resize the images by 150*150 "
   ]
  },
  {
   "cell_type": "code",
   "execution_count": null,
   "id": "585328fa",
   "metadata": {},
   "outputs": [],
   "source": [
    "# Define the path to your folder containing images\n",
    "folder_path = './images'                  # Replace with the path to your folder\n",
    "\n",
    "# Create a new folder to save the resized images\n",
    "output_folder = './re_images'             # Replace with the path for saving resized images\n",
    "os.makedirs(output_folder, exist_ok=True)\n",
    "\n",
    "# Loop through each image in the folder\n",
    "for filename in os.listdir(folder_path):\n",
    "    if filename.endswith(('.jpg', '.jpeg', '.png')): \n",
    "       # Read the image\n",
    "        image_path = os.path.join(folder_path, filename)\n",
    "        image = cv2.imread(image_path)\n",
    "\n",
    "        # Resize the image to 150x150\n",
    "        resized_image = cv2.resize(image, (150, 150))\n",
    "\n",
    "        # Save the resized image in the output folder\n",
    "        output_path = os.path.join(output_folder, filename)\n",
    "        cv2.imwrite(output_path, resized_image)\n",
    "\n",
    "        print(f\"Resized and saved {filename}\")\n",
    "\n"
   ]
  },
  {
   "cell_type": "markdown",
   "id": "4305842b",
   "metadata": {},
   "source": [
    "## 1. Manually label the images "
   ]
  },
  {
   "cell_type": "code",
   "execution_count": null,
   "id": "9831fd50",
   "metadata": {
    "scrolled": false
   },
   "outputs": [],
   "source": [
    "image_dir = './re_images'  #path to the image folder containing images to labe\n",
    "image_files = os.listdir(image_dir)\n",
    "\n",
    "labels = []\n",
    "\n",
    "# Iterate through subfolders if the image folder has any subfolders\n",
    "for label in os.listdir(image_dir):\n",
    "    subfolder_path = os.path.join(image_dir, label)\n",
    "    \n",
    "    if os.path.isdir(subfolder_path):\n",
    "        for image_file in os.listdir(subfolder_path):\n",
    "            image_path = os.path.join(subfolder_path, image_file)\n",
    "            img = cv2.imread(image_path)\n",
    "            \n",
    "            if img is None:\n",
    "                print(f\"Failed to load image at {image_path}.\")\n",
    "            else:\n",
    "                print(f\"Image loaded successfully with shape: {img.shape}\")\n",
    "            # Display the image          \n",
    "            plt.imshow(img)\n",
    "            plt.title(\"Image with Matplotlib\")\n",
    "            plt.show()\n",
    "                \n",
    "            # Wait for user input and close the image window\n",
    "            label = input(f\"Enter label for {image_file}: \")\n",
    "            labels.append((image_file, label))\n",
    "            cv2.destroyAllWindows()\n",
    "    else:               # if the image folder does not have any subfolders\n",
    "        for image_file in image_files:\n",
    "            image_path = os.path.join(image_dir, image_file)\n",
    "            img = cv2.imread(image_path)\n",
    "\n",
    "            \n",
    "#             if img is None:\n",
    "#                 print(f\"Failed to load image at {image_path}.\")\n",
    "#             else:\n",
    "#                 print(f\"Image loaded successfully with shape: {img.shape}\")\n",
    "            # Display the image          \n",
    "            plt.imshow(img)\n",
    "            plt.title(\"Image with Matplotlib\")\n",
    "            plt.show()\n",
    "\n",
    "            # Wait for user input and close the image window\n",
    "            label = input(f\"Enter label for {image_file}: \")\n",
    "            labels.append((image_file, label))\n",
    "    \n",
    "            cv2.destroyAllWindows()\n",
    "        break\n",
    "        \n",
    "# Save the labels to a file or process them further\n",
    "with open('image_labels.txt', 'w') as f:\n",
    "    for image_file, label in labels:\n",
    "        f.write(f\"{image_file}: {label}\\n\")"
   ]
  },
  {
   "cell_type": "markdown",
   "id": "fa27af28",
   "metadata": {},
   "source": [
    "#### With this separate text file (image_labels.txt) containing labels, the model can be fed with  the labels for the input images."
   ]
  },
  {
   "cell_type": "markdown",
   "id": "f37b812f",
   "metadata": {},
   "source": [
    "## 2. Through subfolders' names, labelling can be interpreted"
   ]
  },
  {
   "cell_type": "code",
   "execution_count": null,
   "id": "f1b492b6",
   "metadata": {},
   "outputs": [],
   "source": [
    "import os\n",
    "\n",
    "# Directory containing folders of images\n",
    "image_dir = 'C:/Users/scomag4/Downloads/images_folder'\n",
    "#image_files = os.listdir(image_dir)\n",
    "labels = []\n",
    "\n",
    "# Iterate through subfolders\n",
    "for label in os.listdir(image_dir):\n",
    "    subfolder_path = os.path.join(image_dir, label)\n",
    "    \n",
    "    if os.path.isdir(subfolder_path):\n",
    "        # Assign label based on folder name\n",
    "        for image_file in os.listdir(subfolder_path):\n",
    "            image_path = os.path.join(subfolder_path, image_file)\n",
    "            labels.append((image_path, label))\n",
    "\n",
    "# Save or use the labels\n",
    "with open('automatic_image_labels.txt', 'w') as f:\n",
    "    for image_path, label in labels:\n",
    "        f.write(f\"{image_path}: {label}\\n\")\n"
   ]
  },
  {
   "cell_type": "code",
   "execution_count": null,
   "id": "646638a9",
   "metadata": {},
   "outputs": [],
   "source": [
    "labels"
   ]
  },
  {
   "cell_type": "markdown",
   "id": "4d6f23dc",
   "metadata": {},
   "source": [
    "#### Here, you can observe the labels are automatically interpreted through the corresponding folder name.  "
   ]
  },
  {
   "cell_type": "code",
   "execution_count": null,
   "id": "d31b1f4c",
   "metadata": {},
   "outputs": [],
   "source": []
  }
 ],
 "metadata": {
  "kernelspec": {
   "display_name": "Python 3 (ipykernel)",
   "language": "python",
   "name": "python3"
  },
  "language_info": {
   "codemirror_mode": {
    "name": "ipython",
    "version": 3
   },
   "file_extension": ".py",
   "mimetype": "text/x-python",
   "name": "python",
   "nbconvert_exporter": "python",
   "pygments_lexer": "ipython3",
   "version": "3.11.5"
  }
 },
 "nbformat": 4,
 "nbformat_minor": 5
}
