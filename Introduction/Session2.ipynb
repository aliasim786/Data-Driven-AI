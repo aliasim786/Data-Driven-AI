{
 "cells": [
  {
   "cell_type": "markdown",
   "metadata": {},
   "source": [
    "TASK 1"
   ]
  },
  {
   "cell_type": "code",
   "execution_count": 15,
   "metadata": {},
   "outputs": [
    {
     "data": {
      "text/html": [
       "<div>\n",
       "<style scoped>\n",
       "    .dataframe tbody tr th:only-of-type {\n",
       "        vertical-align: middle;\n",
       "    }\n",
       "\n",
       "    .dataframe tbody tr th {\n",
       "        vertical-align: top;\n",
       "    }\n",
       "\n",
       "    .dataframe thead th {\n",
       "        text-align: right;\n",
       "    }\n",
       "</style>\n",
       "<table border=\"1\" class=\"dataframe\">\n",
       "  <thead>\n",
       "    <tr style=\"text-align: right;\">\n",
       "      <th></th>\n",
       "      <th>Transaction_date</th>\n",
       "      <th>Transaction_ID</th>\n",
       "      <th>Gender</th>\n",
       "      <th>Age</th>\n",
       "      <th>Marital_status</th>\n",
       "      <th>State_names</th>\n",
       "      <th>Segment</th>\n",
       "      <th>Employees_status</th>\n",
       "      <th>Payment_method</th>\n",
       "      <th>Referal</th>\n",
       "      <th>Amount_spent</th>\n",
       "    </tr>\n",
       "  </thead>\n",
       "  <tbody>\n",
       "    <tr>\n",
       "      <th>0</th>\n",
       "      <td>1/1/2019</td>\n",
       "      <td>151200</td>\n",
       "      <td>Female</td>\n",
       "      <td>19.0</td>\n",
       "      <td>Single</td>\n",
       "      <td>Kansas</td>\n",
       "      <td>Basic</td>\n",
       "      <td>Unemployment</td>\n",
       "      <td>Other</td>\n",
       "      <td>1.0</td>\n",
       "      <td>2051.36</td>\n",
       "    </tr>\n",
       "    <tr>\n",
       "      <th>1</th>\n",
       "      <td>1/1/2019</td>\n",
       "      <td>151201</td>\n",
       "      <td>Male</td>\n",
       "      <td>49.0</td>\n",
       "      <td>Single</td>\n",
       "      <td>Illinois</td>\n",
       "      <td>Basic</td>\n",
       "      <td>self-employed</td>\n",
       "      <td>Card</td>\n",
       "      <td>0.0</td>\n",
       "      <td>544.04</td>\n",
       "    </tr>\n",
       "    <tr>\n",
       "      <th>2</th>\n",
       "      <td>1/1/2019</td>\n",
       "      <td>151202</td>\n",
       "      <td>Male</td>\n",
       "      <td>63.0</td>\n",
       "      <td>Married</td>\n",
       "      <td>New Mexico</td>\n",
       "      <td>Basic</td>\n",
       "      <td>workers</td>\n",
       "      <td>PayPal</td>\n",
       "      <td>1.0</td>\n",
       "      <td>1572.60</td>\n",
       "    </tr>\n",
       "  </tbody>\n",
       "</table>\n",
       "</div>"
      ],
      "text/plain": [
       "  Transaction_date  Transaction_ID  Gender   Age Marital_status State_names  \\\n",
       "0         1/1/2019          151200  Female  19.0         Single      Kansas   \n",
       "1         1/1/2019          151201    Male  49.0         Single    Illinois   \n",
       "2         1/1/2019          151202    Male  63.0        Married  New Mexico   \n",
       "\n",
       "  Segment Employees_status Payment_method  Referal  Amount_spent  \n",
       "0   Basic     Unemployment          Other      1.0       2051.36  \n",
       "1   Basic    self-employed           Card      0.0        544.04  \n",
       "2   Basic          workers         PayPal      1.0       1572.60  "
      ]
     },
     "execution_count": 15,
     "metadata": {},
     "output_type": "execute_result"
    }
   ],
   "source": [
    "import pandas as pd\n",
    "\n",
    "fulldata_df = pd.read_csv('./online_store_customer_data.csv')\n",
    "fulldata_df.head(3)"
   ]
  },
  {
   "cell_type": "code",
   "execution_count": 16,
   "metadata": {},
   "outputs": [
    {
     "data": {
      "text/plain": [
       "(2512, 11)"
      ]
     },
     "execution_count": 16,
     "metadata": {},
     "output_type": "execute_result"
    }
   ],
   "source": [
    "shape = fulldata_df.shape\n",
    "shape\n"
   ]
  },
  {
   "cell_type": "code",
   "execution_count": 17,
   "metadata": {},
   "outputs": [
    {
     "data": {
      "text/html": [
       "<div>\n",
       "<style scoped>\n",
       "    .dataframe tbody tr th:only-of-type {\n",
       "        vertical-align: middle;\n",
       "    }\n",
       "\n",
       "    .dataframe tbody tr th {\n",
       "        vertical-align: top;\n",
       "    }\n",
       "\n",
       "    .dataframe thead th {\n",
       "        text-align: right;\n",
       "    }\n",
       "</style>\n",
       "<table border=\"1\" class=\"dataframe\">\n",
       "  <thead>\n",
       "    <tr style=\"text-align: right;\">\n",
       "      <th></th>\n",
       "      <th>Transaction_ID</th>\n",
       "      <th>Age</th>\n",
       "      <th>Referal</th>\n",
       "      <th>Amount_spent</th>\n",
       "    </tr>\n",
       "  </thead>\n",
       "  <tbody>\n",
       "    <tr>\n",
       "      <th>count</th>\n",
       "      <td>2512.000000</td>\n",
       "      <td>2470.000000</td>\n",
       "      <td>2357.000000</td>\n",
       "      <td>2270.000000</td>\n",
       "    </tr>\n",
       "    <tr>\n",
       "      <th>mean</th>\n",
       "      <td>152443.931131</td>\n",
       "      <td>46.637652</td>\n",
       "      <td>0.652100</td>\n",
       "      <td>1418.422577</td>\n",
       "    </tr>\n",
       "    <tr>\n",
       "      <th>std</th>\n",
       "      <td>724.580482</td>\n",
       "      <td>18.186277</td>\n",
       "      <td>0.476405</td>\n",
       "      <td>878.507451</td>\n",
       "    </tr>\n",
       "    <tr>\n",
       "      <th>min</th>\n",
       "      <td>151200.000000</td>\n",
       "      <td>15.000000</td>\n",
       "      <td>0.000000</td>\n",
       "      <td>2.090000</td>\n",
       "    </tr>\n",
       "    <tr>\n",
       "      <th>25%</th>\n",
       "      <td>151815.750000</td>\n",
       "      <td>32.000000</td>\n",
       "      <td>0.000000</td>\n",
       "      <td>678.192500</td>\n",
       "    </tr>\n",
       "    <tr>\n",
       "      <th>50%</th>\n",
       "      <td>152443.500000</td>\n",
       "      <td>47.000000</td>\n",
       "      <td>1.000000</td>\n",
       "      <td>1341.435000</td>\n",
       "    </tr>\n",
       "    <tr>\n",
       "      <th>75%</th>\n",
       "      <td>153071.250000</td>\n",
       "      <td>62.000000</td>\n",
       "      <td>1.000000</td>\n",
       "      <td>2038.102500</td>\n",
       "    </tr>\n",
       "    <tr>\n",
       "      <th>max</th>\n",
       "      <td>153699.000000</td>\n",
       "      <td>78.000000</td>\n",
       "      <td>1.000000</td>\n",
       "      <td>2999.980000</td>\n",
       "    </tr>\n",
       "  </tbody>\n",
       "</table>\n",
       "</div>"
      ],
      "text/plain": [
       "       Transaction_ID          Age      Referal  Amount_spent\n",
       "count     2512.000000  2470.000000  2357.000000   2270.000000\n",
       "mean    152443.931131    46.637652     0.652100   1418.422577\n",
       "std        724.580482    18.186277     0.476405    878.507451\n",
       "min     151200.000000    15.000000     0.000000      2.090000\n",
       "25%     151815.750000    32.000000     0.000000    678.192500\n",
       "50%     152443.500000    47.000000     1.000000   1341.435000\n",
       "75%     153071.250000    62.000000     1.000000   2038.102500\n",
       "max     153699.000000    78.000000     1.000000   2999.980000"
      ]
     },
     "execution_count": 17,
     "metadata": {},
     "output_type": "execute_result"
    }
   ],
   "source": [
    "description = fulldata_df.describe()\n",
    "description"
   ]
  },
  {
   "cell_type": "code",
   "execution_count": 18,
   "metadata": {},
   "outputs": [
    {
     "name": "stdout",
     "output_type": "stream",
     "text": [
      "<class 'pandas.core.frame.DataFrame'>\n",
      "RangeIndex: 2512 entries, 0 to 2511\n",
      "Data columns (total 11 columns):\n",
      " #   Column            Non-Null Count  Dtype  \n",
      "---  ------            --------------  -----  \n",
      " 0   Transaction_date  2512 non-null   object \n",
      " 1   Transaction_ID    2512 non-null   int64  \n",
      " 2   Gender            2484 non-null   object \n",
      " 3   Age               2470 non-null   float64\n",
      " 4   Marital_status    2512 non-null   object \n",
      " 5   State_names       2512 non-null   object \n",
      " 6   Segment           2512 non-null   object \n",
      " 7   Employees_status  2486 non-null   object \n",
      " 8   Payment_method    2512 non-null   object \n",
      " 9   Referal           2357 non-null   float64\n",
      " 10  Amount_spent      2270 non-null   float64\n",
      "dtypes: float64(3), int64(1), object(7)\n",
      "memory usage: 216.0+ KB\n"
     ]
    }
   ],
   "source": [
    "info = fulldata_df.info()\n",
    "info"
   ]
  },
  {
   "cell_type": "code",
   "execution_count": 19,
   "metadata": {},
   "outputs": [
    {
     "data": {
      "text/plain": [
       "Gender  Marital_status  Payment_method\n",
       "Female  Married         PayPal            359\n",
       "Male    Married         PayPal            303\n",
       "Female  Single          PayPal            255\n",
       "        Married         Card              243\n",
       "Male    Single          PayPal            239\n",
       "        Married         Card              193\n",
       "Female  Married         Other             186\n",
       "        Single          Card              186\n",
       "Male    Married         Other             172\n",
       "Female  Single          Other             127\n",
       "Male    Single          Card              117\n",
       "                        Other             104\n",
       "Name: count, dtype: int64"
      ]
     },
     "execution_count": 19,
     "metadata": {},
     "output_type": "execute_result"
    }
   ],
   "source": [
    "value_count = fulldata_df[['Gender' , 'Marital_status' , 'Payment_method']].value_counts()\n",
    "value_count"
   ]
  },
  {
   "cell_type": "code",
   "execution_count": 20,
   "metadata": {},
   "outputs": [
    {
     "data": {
      "text/plain": [
       "Transaction_date      0\n",
       "Transaction_ID        0\n",
       "Gender               28\n",
       "Age                  42\n",
       "Marital_status        0\n",
       "State_names           0\n",
       "Segment               0\n",
       "Employees_status     26\n",
       "Payment_method        0\n",
       "Referal             155\n",
       "Amount_spent        242\n",
       "dtype: int64"
      ]
     },
     "execution_count": 20,
     "metadata": {},
     "output_type": "execute_result"
    }
   ],
   "source": [
    "missing_values = fulldata_df.isna().sum()\n",
    "missing_values"
   ]
  },
  {
   "cell_type": "code",
   "execution_count": 21,
   "metadata": {},
   "outputs": [
    {
     "data": {
      "text/plain": [
       "Transaction_date      0\n",
       "Transaction_ID        0\n",
       "Gender               28\n",
       "Age                  42\n",
       "Marital_status        0\n",
       "State_names           0\n",
       "Segment               0\n",
       "Employees_status     26\n",
       "Payment_method        0\n",
       "Referal             155\n",
       "Amount_spent        242\n",
       "dtype: int64"
      ]
     },
     "execution_count": 21,
     "metadata": {},
     "output_type": "execute_result"
    }
   ],
   "source": [
    "missing_null_value = fulldata_df.isnull().sum()\n",
    "missing_null_value"
   ]
  },
  {
   "cell_type": "code",
   "execution_count": 14,
   "metadata": {},
   "outputs": [],
   "source": [
    "# the difference between the isna and the isnull is:\n",
    "\n",
    "#isna() is used to detect the missing values \n",
    "# in the cells of the pandas data frame. It returns a data frame of the same size with the values masked as True for NA values and False for non-NA values.\n",
    "#  isnull() is also used to identify or detect the missing values in the data frame. It is just an alias for isna() method."
   ]
  }
 ],
 "metadata": {
  "kernelspec": {
   "display_name": "base",
   "language": "python",
   "name": "python3"
  },
  "language_info": {
   "codemirror_mode": {
    "name": "ipython",
    "version": 3
   },
   "file_extension": ".py",
   "mimetype": "text/x-python",
   "name": "python",
   "nbconvert_exporter": "python",
   "pygments_lexer": "ipython3",
   "version": "3.12.4"
  }
 },
 "nbformat": 4,
 "nbformat_minor": 2
}
